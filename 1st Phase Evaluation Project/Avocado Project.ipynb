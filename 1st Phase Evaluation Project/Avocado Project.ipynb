{
 "cells": [
  {
   "cell_type": "markdown",
   "id": "37d25f08",
   "metadata": {},
   "source": [
    "First we are importing the required libraries"
   ]
  },
  {
   "cell_type": "code",
   "execution_count": 1,
   "id": "53e2a9f2",
   "metadata": {},
   "outputs": [],
   "source": [
    "import pandas as pd\n",
    "import numpy as np\n",
    "import warnings\n",
    "warnings.filterwarnings('ignore')\n",
    "import datetime\n",
    "import sklearn\n",
    "from sklearn.preprocessing import LabelEncoder\n",
    "import matplotlib.pyplot as plt\n",
    "import seaborn as sns\n",
    "from scipy.stats import boxcox\n",
    "from sklearn.model_selection import train_test_split\n",
    "from sklearn.linear_model import LinearRegression\n",
    "from sklearn.svm import SVR\n",
    "from sklearn.tree import DecisionTreeRegressor\n",
    "from sklearn.linear_model import BayesianRidge\n",
    "from sklearn.ensemble import GradientBoostingRegressor\n",
    "from sklearn.neighbors import KNeighborsRegressor\n",
    "from sklearn.ensemble import AdaBoostRegressor\n",
    "from sklearn.ensemble import RandomForestRegressor\n",
    "from sklearn.metrics import r2_score, mean_absolute_error\n",
    "from sklearn.feature_selection import SelectKBest\n",
    "from sklearn.feature_selection import f_regression\n",
    "from sklearn.preprocessing import StandardScaler\n",
    "from sklearn.linear_model import Lasso\n",
    "from sklearn.model_selection import KFold\n",
    "from sklearn.model_selection import cross_val_score\n",
    "from sklearn.model_selection import GridSearchCV\n",
    "import pickle\n",
    "from sklearn.linear_model import LogisticRegression\n",
    "from sklearn.model_selection import StratifiedKFold\n",
    "from sklearn.model_selection import ShuffleSplit\n",
    "from sklearn.metrics import accuracy_score, balanced_accuracy_score, confusion_matrix"
   ]
  },
  {
   "cell_type": "markdown",
   "id": "1124b7a6",
   "metadata": {},
   "source": [
    "Now importing the Hass Avocado data from github source by using pandas data frame"
   ]
  },
  {
   "cell_type": "code",
   "execution_count": 2,
   "id": "72eb7f9b",
   "metadata": {},
   "outputs": [],
   "source": [
    "df=pd.read_csv('https://raw.githubusercontent.com/dsrscientist/Data-Science-ML-Capstone-Projects/master/avocado.csv')"
   ]
  },
  {
   "cell_type": "code",
   "execution_count": 3,
   "id": "81f53471",
   "metadata": {},
   "outputs": [
    {
     "data": {
      "text/html": [
       "<div>\n",
       "<style scoped>\n",
       "    .dataframe tbody tr th:only-of-type {\n",
       "        vertical-align: middle;\n",
       "    }\n",
       "\n",
       "    .dataframe tbody tr th {\n",
       "        vertical-align: top;\n",
       "    }\n",
       "\n",
       "    .dataframe thead th {\n",
       "        text-align: right;\n",
       "    }\n",
       "</style>\n",
       "<table border=\"1\" class=\"dataframe\">\n",
       "  <thead>\n",
       "    <tr style=\"text-align: right;\">\n",
       "      <th></th>\n",
       "      <th>Unnamed: 0</th>\n",
       "      <th>Date</th>\n",
       "      <th>AveragePrice</th>\n",
       "      <th>Total Volume</th>\n",
       "      <th>4046</th>\n",
       "      <th>4225</th>\n",
       "      <th>4770</th>\n",
       "      <th>Total Bags</th>\n",
       "      <th>Small Bags</th>\n",
       "      <th>Large Bags</th>\n",
       "      <th>XLarge Bags</th>\n",
       "      <th>type</th>\n",
       "      <th>year</th>\n",
       "      <th>region</th>\n",
       "    </tr>\n",
       "  </thead>\n",
       "  <tbody>\n",
       "    <tr>\n",
       "      <th>0</th>\n",
       "      <td>0.0</td>\n",
       "      <td>27-12-2015</td>\n",
       "      <td>1.33</td>\n",
       "      <td>64236.62</td>\n",
       "      <td>1036.74</td>\n",
       "      <td>54454.85</td>\n",
       "      <td>48.16</td>\n",
       "      <td>8696.87</td>\n",
       "      <td>8603.62</td>\n",
       "      <td>93.25</td>\n",
       "      <td>0.0</td>\n",
       "      <td>conventional</td>\n",
       "      <td>2015.0</td>\n",
       "      <td>Albany</td>\n",
       "    </tr>\n",
       "    <tr>\n",
       "      <th>1</th>\n",
       "      <td>1.0</td>\n",
       "      <td>20-12-2015</td>\n",
       "      <td>1.35</td>\n",
       "      <td>54876.98</td>\n",
       "      <td>674.28</td>\n",
       "      <td>44638.81</td>\n",
       "      <td>58.33</td>\n",
       "      <td>9505.56</td>\n",
       "      <td>9408.07</td>\n",
       "      <td>97.49</td>\n",
       "      <td>0.0</td>\n",
       "      <td>conventional</td>\n",
       "      <td>2015.0</td>\n",
       "      <td>Albany</td>\n",
       "    </tr>\n",
       "    <tr>\n",
       "      <th>2</th>\n",
       "      <td>2.0</td>\n",
       "      <td>13-12-2015</td>\n",
       "      <td>0.93</td>\n",
       "      <td>118220.22</td>\n",
       "      <td>794.70</td>\n",
       "      <td>109149.67</td>\n",
       "      <td>130.50</td>\n",
       "      <td>8145.35</td>\n",
       "      <td>8042.21</td>\n",
       "      <td>103.14</td>\n",
       "      <td>0.0</td>\n",
       "      <td>conventional</td>\n",
       "      <td>2015.0</td>\n",
       "      <td>Albany</td>\n",
       "    </tr>\n",
       "    <tr>\n",
       "      <th>3</th>\n",
       "      <td>3.0</td>\n",
       "      <td>06-12-2015</td>\n",
       "      <td>1.08</td>\n",
       "      <td>78992.15</td>\n",
       "      <td>1132.00</td>\n",
       "      <td>71976.41</td>\n",
       "      <td>72.58</td>\n",
       "      <td>5811.16</td>\n",
       "      <td>5677.40</td>\n",
       "      <td>133.76</td>\n",
       "      <td>0.0</td>\n",
       "      <td>conventional</td>\n",
       "      <td>2015.0</td>\n",
       "      <td>Albany</td>\n",
       "    </tr>\n",
       "    <tr>\n",
       "      <th>4</th>\n",
       "      <td>4.0</td>\n",
       "      <td>29-11-2015</td>\n",
       "      <td>1.28</td>\n",
       "      <td>51039.60</td>\n",
       "      <td>941.48</td>\n",
       "      <td>43838.39</td>\n",
       "      <td>75.78</td>\n",
       "      <td>6183.95</td>\n",
       "      <td>5986.26</td>\n",
       "      <td>197.69</td>\n",
       "      <td>0.0</td>\n",
       "      <td>conventional</td>\n",
       "      <td>2015.0</td>\n",
       "      <td>Albany</td>\n",
       "    </tr>\n",
       "    <tr>\n",
       "      <th>...</th>\n",
       "      <td>...</td>\n",
       "      <td>...</td>\n",
       "      <td>...</td>\n",
       "      <td>...</td>\n",
       "      <td>...</td>\n",
       "      <td>...</td>\n",
       "      <td>...</td>\n",
       "      <td>...</td>\n",
       "      <td>...</td>\n",
       "      <td>...</td>\n",
       "      <td>...</td>\n",
       "      <td>...</td>\n",
       "      <td>...</td>\n",
       "      <td>...</td>\n",
       "    </tr>\n",
       "    <tr>\n",
       "      <th>16463</th>\n",
       "      <td>NaN</td>\n",
       "      <td>NaN</td>\n",
       "      <td>NaN</td>\n",
       "      <td>NaN</td>\n",
       "      <td>NaN</td>\n",
       "      <td>NaN</td>\n",
       "      <td>NaN</td>\n",
       "      <td>NaN</td>\n",
       "      <td>NaN</td>\n",
       "      <td>NaN</td>\n",
       "      <td>NaN</td>\n",
       "      <td>NaN</td>\n",
       "      <td>NaN</td>\n",
       "      <td>NaN</td>\n",
       "    </tr>\n",
       "    <tr>\n",
       "      <th>16464</th>\n",
       "      <td>NaN</td>\n",
       "      <td>NaN</td>\n",
       "      <td>NaN</td>\n",
       "      <td>NaN</td>\n",
       "      <td>NaN</td>\n",
       "      <td>NaN</td>\n",
       "      <td>NaN</td>\n",
       "      <td>NaN</td>\n",
       "      <td>NaN</td>\n",
       "      <td>NaN</td>\n",
       "      <td>NaN</td>\n",
       "      <td>NaN</td>\n",
       "      <td>NaN</td>\n",
       "      <td>NaN</td>\n",
       "    </tr>\n",
       "    <tr>\n",
       "      <th>16465</th>\n",
       "      <td>NaN</td>\n",
       "      <td>NaN</td>\n",
       "      <td>NaN</td>\n",
       "      <td>NaN</td>\n",
       "      <td>NaN</td>\n",
       "      <td>NaN</td>\n",
       "      <td>NaN</td>\n",
       "      <td>NaN</td>\n",
       "      <td>NaN</td>\n",
       "      <td>NaN</td>\n",
       "      <td>NaN</td>\n",
       "      <td>NaN</td>\n",
       "      <td>NaN</td>\n",
       "      <td>NaN</td>\n",
       "    </tr>\n",
       "    <tr>\n",
       "      <th>16466</th>\n",
       "      <td>NaN</td>\n",
       "      <td>NaN</td>\n",
       "      <td>NaN</td>\n",
       "      <td>NaN</td>\n",
       "      <td>NaN</td>\n",
       "      <td>NaN</td>\n",
       "      <td>NaN</td>\n",
       "      <td>NaN</td>\n",
       "      <td>NaN</td>\n",
       "      <td>NaN</td>\n",
       "      <td>NaN</td>\n",
       "      <td>NaN</td>\n",
       "      <td>NaN</td>\n",
       "      <td>NaN</td>\n",
       "    </tr>\n",
       "    <tr>\n",
       "      <th>16467</th>\n",
       "      <td>NaN</td>\n",
       "      <td>NaN</td>\n",
       "      <td>NaN</td>\n",
       "      <td>NaN</td>\n",
       "      <td>NaN</td>\n",
       "      <td>NaN</td>\n",
       "      <td>NaN</td>\n",
       "      <td>NaN</td>\n",
       "      <td>NaN</td>\n",
       "      <td>NaN</td>\n",
       "      <td>NaN</td>\n",
       "      <td>NaN</td>\n",
       "      <td>NaN</td>\n",
       "      <td>NaN</td>\n",
       "    </tr>\n",
       "  </tbody>\n",
       "</table>\n",
       "<p>16468 rows × 14 columns</p>\n",
       "</div>"
      ],
      "text/plain": [
       "       Unnamed: 0        Date  AveragePrice  Total Volume     4046       4225  \\\n",
       "0             0.0  27-12-2015          1.33      64236.62  1036.74   54454.85   \n",
       "1             1.0  20-12-2015          1.35      54876.98   674.28   44638.81   \n",
       "2             2.0  13-12-2015          0.93     118220.22   794.70  109149.67   \n",
       "3             3.0  06-12-2015          1.08      78992.15  1132.00   71976.41   \n",
       "4             4.0  29-11-2015          1.28      51039.60   941.48   43838.39   \n",
       "...           ...         ...           ...           ...      ...        ...   \n",
       "16463         NaN         NaN           NaN           NaN      NaN        NaN   \n",
       "16464         NaN         NaN           NaN           NaN      NaN        NaN   \n",
       "16465         NaN         NaN           NaN           NaN      NaN        NaN   \n",
       "16466         NaN         NaN           NaN           NaN      NaN        NaN   \n",
       "16467         NaN         NaN           NaN           NaN      NaN        NaN   \n",
       "\n",
       "         4770  Total Bags  Small Bags  Large Bags  XLarge Bags          type  \\\n",
       "0       48.16     8696.87     8603.62       93.25          0.0  conventional   \n",
       "1       58.33     9505.56     9408.07       97.49          0.0  conventional   \n",
       "2      130.50     8145.35     8042.21      103.14          0.0  conventional   \n",
       "3       72.58     5811.16     5677.40      133.76          0.0  conventional   \n",
       "4       75.78     6183.95     5986.26      197.69          0.0  conventional   \n",
       "...       ...         ...         ...         ...          ...           ...   \n",
       "16463     NaN         NaN         NaN         NaN          NaN           NaN   \n",
       "16464     NaN         NaN         NaN         NaN          NaN           NaN   \n",
       "16465     NaN         NaN         NaN         NaN          NaN           NaN   \n",
       "16466     NaN         NaN         NaN         NaN          NaN           NaN   \n",
       "16467     NaN         NaN         NaN         NaN          NaN           NaN   \n",
       "\n",
       "         year  region  \n",
       "0      2015.0  Albany  \n",
       "1      2015.0  Albany  \n",
       "2      2015.0  Albany  \n",
       "3      2015.0  Albany  \n",
       "4      2015.0  Albany  \n",
       "...       ...     ...  \n",
       "16463     NaN     NaN  \n",
       "16464     NaN     NaN  \n",
       "16465     NaN     NaN  \n",
       "16466     NaN     NaN  \n",
       "16467     NaN     NaN  \n",
       "\n",
       "[16468 rows x 14 columns]"
      ]
     },
     "execution_count": 3,
     "metadata": {},
     "output_type": "execute_result"
    }
   ],
   "source": [
    "df"
   ]
  },
  {
   "cell_type": "code",
   "execution_count": 4,
   "id": "9b98b5a6",
   "metadata": {},
   "outputs": [
    {
     "data": {
      "text/plain": [
       "Unnamed: 0      14951\n",
       "Date            14951\n",
       "AveragePrice    14951\n",
       "Total Volume    14951\n",
       "4046            14951\n",
       "4225            14951\n",
       "4770            14951\n",
       "Total Bags      14951\n",
       "Small Bags      14951\n",
       "Large Bags      14951\n",
       "XLarge Bags     14951\n",
       "type            14951\n",
       "year            14951\n",
       "region          14951\n",
       "dtype: int64"
      ]
     },
     "execution_count": 4,
     "metadata": {},
     "output_type": "execute_result"
    }
   ],
   "source": [
    "df.isnull().sum()"
   ]
  },
  {
   "cell_type": "markdown",
   "id": "74ed0925",
   "metadata": {},
   "source": [
    "We found that out of 16468 Rows the last 14951 Rows missing data (NaN Values) of all the columns, so we are droping these No Value data"
   ]
  },
  {
   "cell_type": "code",
   "execution_count": 5,
   "id": "3713a4d6",
   "metadata": {},
   "outputs": [],
   "source": [
    "df=df.dropna()"
   ]
  },
  {
   "cell_type": "code",
   "execution_count": 6,
   "id": "8976eb78",
   "metadata": {},
   "outputs": [
    {
     "data": {
      "text/html": [
       "<div>\n",
       "<style scoped>\n",
       "    .dataframe tbody tr th:only-of-type {\n",
       "        vertical-align: middle;\n",
       "    }\n",
       "\n",
       "    .dataframe tbody tr th {\n",
       "        vertical-align: top;\n",
       "    }\n",
       "\n",
       "    .dataframe thead th {\n",
       "        text-align: right;\n",
       "    }\n",
       "</style>\n",
       "<table border=\"1\" class=\"dataframe\">\n",
       "  <thead>\n",
       "    <tr style=\"text-align: right;\">\n",
       "      <th></th>\n",
       "      <th>Unnamed: 0</th>\n",
       "      <th>Date</th>\n",
       "      <th>AveragePrice</th>\n",
       "      <th>Total Volume</th>\n",
       "      <th>4046</th>\n",
       "      <th>4225</th>\n",
       "      <th>4770</th>\n",
       "      <th>Total Bags</th>\n",
       "      <th>Small Bags</th>\n",
       "      <th>Large Bags</th>\n",
       "      <th>XLarge Bags</th>\n",
       "      <th>type</th>\n",
       "      <th>year</th>\n",
       "      <th>region</th>\n",
       "    </tr>\n",
       "  </thead>\n",
       "  <tbody>\n",
       "    <tr>\n",
       "      <th>0</th>\n",
       "      <td>0.0</td>\n",
       "      <td>27-12-2015</td>\n",
       "      <td>1.33</td>\n",
       "      <td>64236.62</td>\n",
       "      <td>1036.74</td>\n",
       "      <td>54454.85</td>\n",
       "      <td>48.16</td>\n",
       "      <td>8696.87</td>\n",
       "      <td>8603.62</td>\n",
       "      <td>93.25</td>\n",
       "      <td>0.00</td>\n",
       "      <td>conventional</td>\n",
       "      <td>2015.0</td>\n",
       "      <td>Albany</td>\n",
       "    </tr>\n",
       "    <tr>\n",
       "      <th>1</th>\n",
       "      <td>1.0</td>\n",
       "      <td>20-12-2015</td>\n",
       "      <td>1.35</td>\n",
       "      <td>54876.98</td>\n",
       "      <td>674.28</td>\n",
       "      <td>44638.81</td>\n",
       "      <td>58.33</td>\n",
       "      <td>9505.56</td>\n",
       "      <td>9408.07</td>\n",
       "      <td>97.49</td>\n",
       "      <td>0.00</td>\n",
       "      <td>conventional</td>\n",
       "      <td>2015.0</td>\n",
       "      <td>Albany</td>\n",
       "    </tr>\n",
       "    <tr>\n",
       "      <th>2</th>\n",
       "      <td>2.0</td>\n",
       "      <td>13-12-2015</td>\n",
       "      <td>0.93</td>\n",
       "      <td>118220.22</td>\n",
       "      <td>794.70</td>\n",
       "      <td>109149.67</td>\n",
       "      <td>130.50</td>\n",
       "      <td>8145.35</td>\n",
       "      <td>8042.21</td>\n",
       "      <td>103.14</td>\n",
       "      <td>0.00</td>\n",
       "      <td>conventional</td>\n",
       "      <td>2015.0</td>\n",
       "      <td>Albany</td>\n",
       "    </tr>\n",
       "    <tr>\n",
       "      <th>3</th>\n",
       "      <td>3.0</td>\n",
       "      <td>06-12-2015</td>\n",
       "      <td>1.08</td>\n",
       "      <td>78992.15</td>\n",
       "      <td>1132.00</td>\n",
       "      <td>71976.41</td>\n",
       "      <td>72.58</td>\n",
       "      <td>5811.16</td>\n",
       "      <td>5677.40</td>\n",
       "      <td>133.76</td>\n",
       "      <td>0.00</td>\n",
       "      <td>conventional</td>\n",
       "      <td>2015.0</td>\n",
       "      <td>Albany</td>\n",
       "    </tr>\n",
       "    <tr>\n",
       "      <th>4</th>\n",
       "      <td>4.0</td>\n",
       "      <td>29-11-2015</td>\n",
       "      <td>1.28</td>\n",
       "      <td>51039.60</td>\n",
       "      <td>941.48</td>\n",
       "      <td>43838.39</td>\n",
       "      <td>75.78</td>\n",
       "      <td>6183.95</td>\n",
       "      <td>5986.26</td>\n",
       "      <td>197.69</td>\n",
       "      <td>0.00</td>\n",
       "      <td>conventional</td>\n",
       "      <td>2015.0</td>\n",
       "      <td>Albany</td>\n",
       "    </tr>\n",
       "    <tr>\n",
       "      <th>...</th>\n",
       "      <td>...</td>\n",
       "      <td>...</td>\n",
       "      <td>...</td>\n",
       "      <td>...</td>\n",
       "      <td>...</td>\n",
       "      <td>...</td>\n",
       "      <td>...</td>\n",
       "      <td>...</td>\n",
       "      <td>...</td>\n",
       "      <td>...</td>\n",
       "      <td>...</td>\n",
       "      <td>...</td>\n",
       "      <td>...</td>\n",
       "      <td>...</td>\n",
       "    </tr>\n",
       "    <tr>\n",
       "      <th>1512</th>\n",
       "      <td>10.0</td>\n",
       "      <td>16-10-2016</td>\n",
       "      <td>1.39</td>\n",
       "      <td>190846.01</td>\n",
       "      <td>57529.11</td>\n",
       "      <td>56366.66</td>\n",
       "      <td>17531.78</td>\n",
       "      <td>59418.46</td>\n",
       "      <td>48823.53</td>\n",
       "      <td>10354.65</td>\n",
       "      <td>240.28</td>\n",
       "      <td>conventional</td>\n",
       "      <td>2016.0</td>\n",
       "      <td>Charlotte</td>\n",
       "    </tr>\n",
       "    <tr>\n",
       "      <th>1513</th>\n",
       "      <td>11.0</td>\n",
       "      <td>09-10-2016</td>\n",
       "      <td>1.51</td>\n",
       "      <td>178235.75</td>\n",
       "      <td>43325.87</td>\n",
       "      <td>52189.61</td>\n",
       "      <td>19419.57</td>\n",
       "      <td>63300.70</td>\n",
       "      <td>54704.14</td>\n",
       "      <td>8596.56</td>\n",
       "      <td>0.00</td>\n",
       "      <td>conventional</td>\n",
       "      <td>2016.0</td>\n",
       "      <td>Charlotte</td>\n",
       "    </tr>\n",
       "    <tr>\n",
       "      <th>1514</th>\n",
       "      <td>12.0</td>\n",
       "      <td>02-10-2016</td>\n",
       "      <td>1.48</td>\n",
       "      <td>178410.82</td>\n",
       "      <td>46364.75</td>\n",
       "      <td>52893.38</td>\n",
       "      <td>16736.92</td>\n",
       "      <td>62415.77</td>\n",
       "      <td>53332.61</td>\n",
       "      <td>8258.16</td>\n",
       "      <td>825.00</td>\n",
       "      <td>conventional</td>\n",
       "      <td>2016.0</td>\n",
       "      <td>Charlotte</td>\n",
       "    </tr>\n",
       "    <tr>\n",
       "      <th>1515</th>\n",
       "      <td>13.0</td>\n",
       "      <td>25-09-2016</td>\n",
       "      <td>1.47</td>\n",
       "      <td>189131.52</td>\n",
       "      <td>54110.79</td>\n",
       "      <td>53593.58</td>\n",
       "      <td>17495.42</td>\n",
       "      <td>63931.73</td>\n",
       "      <td>55653.47</td>\n",
       "      <td>8278.26</td>\n",
       "      <td>0.00</td>\n",
       "      <td>conventional</td>\n",
       "      <td>2016.0</td>\n",
       "      <td>Charlotte</td>\n",
       "    </tr>\n",
       "    <tr>\n",
       "      <th>1516</th>\n",
       "      <td>14.0</td>\n",
       "      <td>18-09-2016</td>\n",
       "      <td>1.43</td>\n",
       "      <td>182978.30</td>\n",
       "      <td>43116.41</td>\n",
       "      <td>54193.42</td>\n",
       "      <td>16563.91</td>\n",
       "      <td>69104.56</td>\n",
       "      <td>57456.21</td>\n",
       "      <td>11648.35</td>\n",
       "      <td>0.00</td>\n",
       "      <td>conventional</td>\n",
       "      <td>2016.0</td>\n",
       "      <td>Charlotte</td>\n",
       "    </tr>\n",
       "  </tbody>\n",
       "</table>\n",
       "<p>1517 rows × 14 columns</p>\n",
       "</div>"
      ],
      "text/plain": [
       "      Unnamed: 0        Date  AveragePrice  Total Volume      4046       4225  \\\n",
       "0            0.0  27-12-2015          1.33      64236.62   1036.74   54454.85   \n",
       "1            1.0  20-12-2015          1.35      54876.98    674.28   44638.81   \n",
       "2            2.0  13-12-2015          0.93     118220.22    794.70  109149.67   \n",
       "3            3.0  06-12-2015          1.08      78992.15   1132.00   71976.41   \n",
       "4            4.0  29-11-2015          1.28      51039.60    941.48   43838.39   \n",
       "...          ...         ...           ...           ...       ...        ...   \n",
       "1512        10.0  16-10-2016          1.39     190846.01  57529.11   56366.66   \n",
       "1513        11.0  09-10-2016          1.51     178235.75  43325.87   52189.61   \n",
       "1514        12.0  02-10-2016          1.48     178410.82  46364.75   52893.38   \n",
       "1515        13.0  25-09-2016          1.47     189131.52  54110.79   53593.58   \n",
       "1516        14.0  18-09-2016          1.43     182978.30  43116.41   54193.42   \n",
       "\n",
       "          4770  Total Bags  Small Bags  Large Bags  XLarge Bags          type  \\\n",
       "0        48.16     8696.87     8603.62       93.25         0.00  conventional   \n",
       "1        58.33     9505.56     9408.07       97.49         0.00  conventional   \n",
       "2       130.50     8145.35     8042.21      103.14         0.00  conventional   \n",
       "3        72.58     5811.16     5677.40      133.76         0.00  conventional   \n",
       "4        75.78     6183.95     5986.26      197.69         0.00  conventional   \n",
       "...        ...         ...         ...         ...          ...           ...   \n",
       "1512  17531.78    59418.46    48823.53    10354.65       240.28  conventional   \n",
       "1513  19419.57    63300.70    54704.14     8596.56         0.00  conventional   \n",
       "1514  16736.92    62415.77    53332.61     8258.16       825.00  conventional   \n",
       "1515  17495.42    63931.73    55653.47     8278.26         0.00  conventional   \n",
       "1516  16563.91    69104.56    57456.21    11648.35         0.00  conventional   \n",
       "\n",
       "        year     region  \n",
       "0     2015.0     Albany  \n",
       "1     2015.0     Albany  \n",
       "2     2015.0     Albany  \n",
       "3     2015.0     Albany  \n",
       "4     2015.0     Albany  \n",
       "...      ...        ...  \n",
       "1512  2016.0  Charlotte  \n",
       "1513  2016.0  Charlotte  \n",
       "1514  2016.0  Charlotte  \n",
       "1515  2016.0  Charlotte  \n",
       "1516  2016.0  Charlotte  \n",
       "\n",
       "[1517 rows x 14 columns]"
      ]
     },
     "execution_count": 6,
     "metadata": {},
     "output_type": "execute_result"
    }
   ],
   "source": [
    "df"
   ]
  },
  {
   "cell_type": "code",
   "execution_count": 7,
   "id": "44a80e36",
   "metadata": {},
   "outputs": [
    {
     "data": {
      "text/plain": [
       "(1517, 14)"
      ]
     },
     "execution_count": 7,
     "metadata": {},
     "output_type": "execute_result"
    }
   ],
   "source": [
    "df.shape"
   ]
  },
  {
   "cell_type": "markdown",
   "id": "9fb7a871",
   "metadata": {},
   "source": [
    "Now our dataset is consist of 1517 Rows with 14 Columns"
   ]
  },
  {
   "cell_type": "code",
   "execution_count": 8,
   "id": "82b26c03",
   "metadata": {},
   "outputs": [
    {
     "data": {
      "text/html": [
       "<div>\n",
       "<style scoped>\n",
       "    .dataframe tbody tr th:only-of-type {\n",
       "        vertical-align: middle;\n",
       "    }\n",
       "\n",
       "    .dataframe tbody tr th {\n",
       "        vertical-align: top;\n",
       "    }\n",
       "\n",
       "    .dataframe thead th {\n",
       "        text-align: right;\n",
       "    }\n",
       "</style>\n",
       "<table border=\"1\" class=\"dataframe\">\n",
       "  <thead>\n",
       "    <tr style=\"text-align: right;\">\n",
       "      <th></th>\n",
       "      <th>Unnamed: 0</th>\n",
       "      <th>Date</th>\n",
       "      <th>AveragePrice</th>\n",
       "      <th>Total Volume</th>\n",
       "      <th>4046</th>\n",
       "      <th>4225</th>\n",
       "      <th>4770</th>\n",
       "      <th>Total Bags</th>\n",
       "      <th>Small Bags</th>\n",
       "      <th>Large Bags</th>\n",
       "      <th>XLarge Bags</th>\n",
       "      <th>type</th>\n",
       "      <th>year</th>\n",
       "      <th>region</th>\n",
       "    </tr>\n",
       "  </thead>\n",
       "  <tbody>\n",
       "    <tr>\n",
       "      <th>203</th>\n",
       "      <td>35.0</td>\n",
       "      <td>26-04-2015</td>\n",
       "      <td>1.15</td>\n",
       "      <td>4923565.04</td>\n",
       "      <td>2421009.67</td>\n",
       "      <td>1729486.77</td>\n",
       "      <td>196469.02</td>\n",
       "      <td>576599.58</td>\n",
       "      <td>548252.41</td>\n",
       "      <td>26483.99</td>\n",
       "      <td>1863.18</td>\n",
       "      <td>conventional</td>\n",
       "      <td>2015.0</td>\n",
       "      <td>California</td>\n",
       "    </tr>\n",
       "  </tbody>\n",
       "</table>\n",
       "</div>"
      ],
      "text/plain": [
       "     Unnamed: 0        Date  AveragePrice  Total Volume        4046  \\\n",
       "203        35.0  26-04-2015          1.15    4923565.04  2421009.67   \n",
       "\n",
       "           4225       4770  Total Bags  Small Bags  Large Bags  XLarge Bags  \\\n",
       "203  1729486.77  196469.02   576599.58   548252.41    26483.99      1863.18   \n",
       "\n",
       "             type    year      region  \n",
       "203  conventional  2015.0  California  "
      ]
     },
     "execution_count": 8,
     "metadata": {},
     "output_type": "execute_result"
    }
   ],
   "source": [
    "df.sample()"
   ]
  },
  {
   "cell_type": "markdown",
   "id": "2cdb0378",
   "metadata": {},
   "source": [
    "First we will make the Classification ML Model to predict the very last column \"region\""
   ]
  },
  {
   "cell_type": "markdown",
   "id": "c18d994d",
   "metadata": {},
   "source": [
    "We are considering the very first column \"Unnamed:0\" is of no use for our further process, so droping this column from dataset."
   ]
  },
  {
   "cell_type": "code",
   "execution_count": 9,
   "id": "f27f05fc",
   "metadata": {},
   "outputs": [],
   "source": [
    "df.drop(['Unnamed: 0'], axis=1, inplace=True)"
   ]
  },
  {
   "cell_type": "code",
   "execution_count": 10,
   "id": "31165954",
   "metadata": {},
   "outputs": [
    {
     "data": {
      "text/html": [
       "<div>\n",
       "<style scoped>\n",
       "    .dataframe tbody tr th:only-of-type {\n",
       "        vertical-align: middle;\n",
       "    }\n",
       "\n",
       "    .dataframe tbody tr th {\n",
       "        vertical-align: top;\n",
       "    }\n",
       "\n",
       "    .dataframe thead th {\n",
       "        text-align: right;\n",
       "    }\n",
       "</style>\n",
       "<table border=\"1\" class=\"dataframe\">\n",
       "  <thead>\n",
       "    <tr style=\"text-align: right;\">\n",
       "      <th></th>\n",
       "      <th>Date</th>\n",
       "      <th>AveragePrice</th>\n",
       "      <th>Total Volume</th>\n",
       "      <th>4046</th>\n",
       "      <th>4225</th>\n",
       "      <th>4770</th>\n",
       "      <th>Total Bags</th>\n",
       "      <th>Small Bags</th>\n",
       "      <th>Large Bags</th>\n",
       "      <th>XLarge Bags</th>\n",
       "      <th>type</th>\n",
       "      <th>year</th>\n",
       "      <th>region</th>\n",
       "    </tr>\n",
       "  </thead>\n",
       "  <tbody>\n",
       "    <tr>\n",
       "      <th>0</th>\n",
       "      <td>27-12-2015</td>\n",
       "      <td>1.33</td>\n",
       "      <td>64236.62</td>\n",
       "      <td>1036.74</td>\n",
       "      <td>54454.85</td>\n",
       "      <td>48.16</td>\n",
       "      <td>8696.87</td>\n",
       "      <td>8603.62</td>\n",
       "      <td>93.25</td>\n",
       "      <td>0.00</td>\n",
       "      <td>conventional</td>\n",
       "      <td>2015.0</td>\n",
       "      <td>Albany</td>\n",
       "    </tr>\n",
       "    <tr>\n",
       "      <th>1</th>\n",
       "      <td>20-12-2015</td>\n",
       "      <td>1.35</td>\n",
       "      <td>54876.98</td>\n",
       "      <td>674.28</td>\n",
       "      <td>44638.81</td>\n",
       "      <td>58.33</td>\n",
       "      <td>9505.56</td>\n",
       "      <td>9408.07</td>\n",
       "      <td>97.49</td>\n",
       "      <td>0.00</td>\n",
       "      <td>conventional</td>\n",
       "      <td>2015.0</td>\n",
       "      <td>Albany</td>\n",
       "    </tr>\n",
       "    <tr>\n",
       "      <th>2</th>\n",
       "      <td>13-12-2015</td>\n",
       "      <td>0.93</td>\n",
       "      <td>118220.22</td>\n",
       "      <td>794.70</td>\n",
       "      <td>109149.67</td>\n",
       "      <td>130.50</td>\n",
       "      <td>8145.35</td>\n",
       "      <td>8042.21</td>\n",
       "      <td>103.14</td>\n",
       "      <td>0.00</td>\n",
       "      <td>conventional</td>\n",
       "      <td>2015.0</td>\n",
       "      <td>Albany</td>\n",
       "    </tr>\n",
       "    <tr>\n",
       "      <th>3</th>\n",
       "      <td>06-12-2015</td>\n",
       "      <td>1.08</td>\n",
       "      <td>78992.15</td>\n",
       "      <td>1132.00</td>\n",
       "      <td>71976.41</td>\n",
       "      <td>72.58</td>\n",
       "      <td>5811.16</td>\n",
       "      <td>5677.40</td>\n",
       "      <td>133.76</td>\n",
       "      <td>0.00</td>\n",
       "      <td>conventional</td>\n",
       "      <td>2015.0</td>\n",
       "      <td>Albany</td>\n",
       "    </tr>\n",
       "    <tr>\n",
       "      <th>4</th>\n",
       "      <td>29-11-2015</td>\n",
       "      <td>1.28</td>\n",
       "      <td>51039.60</td>\n",
       "      <td>941.48</td>\n",
       "      <td>43838.39</td>\n",
       "      <td>75.78</td>\n",
       "      <td>6183.95</td>\n",
       "      <td>5986.26</td>\n",
       "      <td>197.69</td>\n",
       "      <td>0.00</td>\n",
       "      <td>conventional</td>\n",
       "      <td>2015.0</td>\n",
       "      <td>Albany</td>\n",
       "    </tr>\n",
       "    <tr>\n",
       "      <th>...</th>\n",
       "      <td>...</td>\n",
       "      <td>...</td>\n",
       "      <td>...</td>\n",
       "      <td>...</td>\n",
       "      <td>...</td>\n",
       "      <td>...</td>\n",
       "      <td>...</td>\n",
       "      <td>...</td>\n",
       "      <td>...</td>\n",
       "      <td>...</td>\n",
       "      <td>...</td>\n",
       "      <td>...</td>\n",
       "      <td>...</td>\n",
       "    </tr>\n",
       "    <tr>\n",
       "      <th>1512</th>\n",
       "      <td>16-10-2016</td>\n",
       "      <td>1.39</td>\n",
       "      <td>190846.01</td>\n",
       "      <td>57529.11</td>\n",
       "      <td>56366.66</td>\n",
       "      <td>17531.78</td>\n",
       "      <td>59418.46</td>\n",
       "      <td>48823.53</td>\n",
       "      <td>10354.65</td>\n",
       "      <td>240.28</td>\n",
       "      <td>conventional</td>\n",
       "      <td>2016.0</td>\n",
       "      <td>Charlotte</td>\n",
       "    </tr>\n",
       "    <tr>\n",
       "      <th>1513</th>\n",
       "      <td>09-10-2016</td>\n",
       "      <td>1.51</td>\n",
       "      <td>178235.75</td>\n",
       "      <td>43325.87</td>\n",
       "      <td>52189.61</td>\n",
       "      <td>19419.57</td>\n",
       "      <td>63300.70</td>\n",
       "      <td>54704.14</td>\n",
       "      <td>8596.56</td>\n",
       "      <td>0.00</td>\n",
       "      <td>conventional</td>\n",
       "      <td>2016.0</td>\n",
       "      <td>Charlotte</td>\n",
       "    </tr>\n",
       "    <tr>\n",
       "      <th>1514</th>\n",
       "      <td>02-10-2016</td>\n",
       "      <td>1.48</td>\n",
       "      <td>178410.82</td>\n",
       "      <td>46364.75</td>\n",
       "      <td>52893.38</td>\n",
       "      <td>16736.92</td>\n",
       "      <td>62415.77</td>\n",
       "      <td>53332.61</td>\n",
       "      <td>8258.16</td>\n",
       "      <td>825.00</td>\n",
       "      <td>conventional</td>\n",
       "      <td>2016.0</td>\n",
       "      <td>Charlotte</td>\n",
       "    </tr>\n",
       "    <tr>\n",
       "      <th>1515</th>\n",
       "      <td>25-09-2016</td>\n",
       "      <td>1.47</td>\n",
       "      <td>189131.52</td>\n",
       "      <td>54110.79</td>\n",
       "      <td>53593.58</td>\n",
       "      <td>17495.42</td>\n",
       "      <td>63931.73</td>\n",
       "      <td>55653.47</td>\n",
       "      <td>8278.26</td>\n",
       "      <td>0.00</td>\n",
       "      <td>conventional</td>\n",
       "      <td>2016.0</td>\n",
       "      <td>Charlotte</td>\n",
       "    </tr>\n",
       "    <tr>\n",
       "      <th>1516</th>\n",
       "      <td>18-09-2016</td>\n",
       "      <td>1.43</td>\n",
       "      <td>182978.30</td>\n",
       "      <td>43116.41</td>\n",
       "      <td>54193.42</td>\n",
       "      <td>16563.91</td>\n",
       "      <td>69104.56</td>\n",
       "      <td>57456.21</td>\n",
       "      <td>11648.35</td>\n",
       "      <td>0.00</td>\n",
       "      <td>conventional</td>\n",
       "      <td>2016.0</td>\n",
       "      <td>Charlotte</td>\n",
       "    </tr>\n",
       "  </tbody>\n",
       "</table>\n",
       "<p>1517 rows × 13 columns</p>\n",
       "</div>"
      ],
      "text/plain": [
       "            Date  AveragePrice  Total Volume      4046       4225      4770  \\\n",
       "0     27-12-2015          1.33      64236.62   1036.74   54454.85     48.16   \n",
       "1     20-12-2015          1.35      54876.98    674.28   44638.81     58.33   \n",
       "2     13-12-2015          0.93     118220.22    794.70  109149.67    130.50   \n",
       "3     06-12-2015          1.08      78992.15   1132.00   71976.41     72.58   \n",
       "4     29-11-2015          1.28      51039.60    941.48   43838.39     75.78   \n",
       "...          ...           ...           ...       ...        ...       ...   \n",
       "1512  16-10-2016          1.39     190846.01  57529.11   56366.66  17531.78   \n",
       "1513  09-10-2016          1.51     178235.75  43325.87   52189.61  19419.57   \n",
       "1514  02-10-2016          1.48     178410.82  46364.75   52893.38  16736.92   \n",
       "1515  25-09-2016          1.47     189131.52  54110.79   53593.58  17495.42   \n",
       "1516  18-09-2016          1.43     182978.30  43116.41   54193.42  16563.91   \n",
       "\n",
       "      Total Bags  Small Bags  Large Bags  XLarge Bags          type    year  \\\n",
       "0        8696.87     8603.62       93.25         0.00  conventional  2015.0   \n",
       "1        9505.56     9408.07       97.49         0.00  conventional  2015.0   \n",
       "2        8145.35     8042.21      103.14         0.00  conventional  2015.0   \n",
       "3        5811.16     5677.40      133.76         0.00  conventional  2015.0   \n",
       "4        6183.95     5986.26      197.69         0.00  conventional  2015.0   \n",
       "...          ...         ...         ...          ...           ...     ...   \n",
       "1512    59418.46    48823.53    10354.65       240.28  conventional  2016.0   \n",
       "1513    63300.70    54704.14     8596.56         0.00  conventional  2016.0   \n",
       "1514    62415.77    53332.61     8258.16       825.00  conventional  2016.0   \n",
       "1515    63931.73    55653.47     8278.26         0.00  conventional  2016.0   \n",
       "1516    69104.56    57456.21    11648.35         0.00  conventional  2016.0   \n",
       "\n",
       "         region  \n",
       "0        Albany  \n",
       "1        Albany  \n",
       "2        Albany  \n",
       "3        Albany  \n",
       "4        Albany  \n",
       "...         ...  \n",
       "1512  Charlotte  \n",
       "1513  Charlotte  \n",
       "1514  Charlotte  \n",
       "1515  Charlotte  \n",
       "1516  Charlotte  \n",
       "\n",
       "[1517 rows x 13 columns]"
      ]
     },
     "execution_count": 10,
     "metadata": {},
     "output_type": "execute_result"
    }
   ],
   "source": [
    "df"
   ]
  },
  {
   "cell_type": "markdown",
   "id": "39d36b83",
   "metadata": {},
   "source": [
    "We have a Date column in this dataset, but we need only Month & Year to predict in which Month & which Year how much sale of Hass Avocado is made, so total Date is not required, but only Month & Year is required and out of which a separate Year column is already exist in our above data set. So we have to extract only the Month from above Date colunm and afterward will drop the Date column."
   ]
  },
  {
   "cell_type": "code",
   "execution_count": 11,
   "id": "1df7b256",
   "metadata": {},
   "outputs": [
    {
     "data": {
      "text/plain": [
       "Date             object\n",
       "AveragePrice    float64\n",
       "Total Volume    float64\n",
       "4046            float64\n",
       "4225            float64\n",
       "4770            float64\n",
       "Total Bags      float64\n",
       "Small Bags      float64\n",
       "Large Bags      float64\n",
       "XLarge Bags     float64\n",
       "type             object\n",
       "year            float64\n",
       "region           object\n",
       "dtype: object"
      ]
     },
     "execution_count": 11,
     "metadata": {},
     "output_type": "execute_result"
    }
   ],
   "source": [
    "df.dtypes"
   ]
  },
  {
   "cell_type": "markdown",
   "id": "63c21e5e",
   "metadata": {},
   "source": [
    "As the above Date column is of Oject data type, first we will convert this one to data type of datetime by using pandas datetime method to further extract month from it."
   ]
  },
  {
   "cell_type": "code",
   "execution_count": 12,
   "id": "47350d2d",
   "metadata": {},
   "outputs": [],
   "source": [
    "df['Date']=pd.to_datetime(df['Date'])"
   ]
  },
  {
   "cell_type": "code",
   "execution_count": 13,
   "id": "3d69ad88",
   "metadata": {},
   "outputs": [
    {
     "data": {
      "text/plain": [
       "Date            datetime64[ns]\n",
       "AveragePrice           float64\n",
       "Total Volume           float64\n",
       "4046                   float64\n",
       "4225                   float64\n",
       "4770                   float64\n",
       "Total Bags             float64\n",
       "Small Bags             float64\n",
       "Large Bags             float64\n",
       "XLarge Bags            float64\n",
       "type                    object\n",
       "year                   float64\n",
       "region                  object\n",
       "dtype: object"
      ]
     },
     "execution_count": 13,
     "metadata": {},
     "output_type": "execute_result"
    }
   ],
   "source": [
    "df.dtypes"
   ]
  },
  {
   "cell_type": "markdown",
   "id": "45c5d12e",
   "metadata": {},
   "source": [
    "Now the data type of Date column is converted to datetime datatype. Now we are extracting the \"Month\" from this by using the datetime method."
   ]
  },
  {
   "cell_type": "code",
   "execution_count": 14,
   "id": "5ad1ff52",
   "metadata": {},
   "outputs": [],
   "source": [
    "df['Month']=df['Date'].dt.strftime('%m')"
   ]
  },
  {
   "cell_type": "code",
   "execution_count": 15,
   "id": "6edc7bd4",
   "metadata": {},
   "outputs": [
    {
     "data": {
      "text/plain": [
       "0       12\n",
       "1       12\n",
       "2       12\n",
       "3       06\n",
       "4       11\n",
       "        ..\n",
       "1512    10\n",
       "1513    09\n",
       "1514    02\n",
       "1515    09\n",
       "1516    09\n",
       "Name: Month, Length: 1517, dtype: object"
      ]
     },
     "execution_count": 15,
     "metadata": {},
     "output_type": "execute_result"
    }
   ],
   "source": [
    "df['Month']"
   ]
  },
  {
   "cell_type": "code",
   "execution_count": 16,
   "id": "3314247f",
   "metadata": {},
   "outputs": [
    {
     "data": {
      "text/html": [
       "<div>\n",
       "<style scoped>\n",
       "    .dataframe tbody tr th:only-of-type {\n",
       "        vertical-align: middle;\n",
       "    }\n",
       "\n",
       "    .dataframe tbody tr th {\n",
       "        vertical-align: top;\n",
       "    }\n",
       "\n",
       "    .dataframe thead th {\n",
       "        text-align: right;\n",
       "    }\n",
       "</style>\n",
       "<table border=\"1\" class=\"dataframe\">\n",
       "  <thead>\n",
       "    <tr style=\"text-align: right;\">\n",
       "      <th></th>\n",
       "      <th>Date</th>\n",
       "      <th>AveragePrice</th>\n",
       "      <th>Total Volume</th>\n",
       "      <th>4046</th>\n",
       "      <th>4225</th>\n",
       "      <th>4770</th>\n",
       "      <th>Total Bags</th>\n",
       "      <th>Small Bags</th>\n",
       "      <th>Large Bags</th>\n",
       "      <th>XLarge Bags</th>\n",
       "      <th>type</th>\n",
       "      <th>year</th>\n",
       "      <th>region</th>\n",
       "      <th>Month</th>\n",
       "    </tr>\n",
       "  </thead>\n",
       "  <tbody>\n",
       "    <tr>\n",
       "      <th>0</th>\n",
       "      <td>2015-12-27</td>\n",
       "      <td>1.33</td>\n",
       "      <td>64236.62</td>\n",
       "      <td>1036.74</td>\n",
       "      <td>54454.85</td>\n",
       "      <td>48.16</td>\n",
       "      <td>8696.87</td>\n",
       "      <td>8603.62</td>\n",
       "      <td>93.25</td>\n",
       "      <td>0.00</td>\n",
       "      <td>conventional</td>\n",
       "      <td>2015.0</td>\n",
       "      <td>Albany</td>\n",
       "      <td>12</td>\n",
       "    </tr>\n",
       "    <tr>\n",
       "      <th>1</th>\n",
       "      <td>2015-12-20</td>\n",
       "      <td>1.35</td>\n",
       "      <td>54876.98</td>\n",
       "      <td>674.28</td>\n",
       "      <td>44638.81</td>\n",
       "      <td>58.33</td>\n",
       "      <td>9505.56</td>\n",
       "      <td>9408.07</td>\n",
       "      <td>97.49</td>\n",
       "      <td>0.00</td>\n",
       "      <td>conventional</td>\n",
       "      <td>2015.0</td>\n",
       "      <td>Albany</td>\n",
       "      <td>12</td>\n",
       "    </tr>\n",
       "    <tr>\n",
       "      <th>2</th>\n",
       "      <td>2015-12-13</td>\n",
       "      <td>0.93</td>\n",
       "      <td>118220.22</td>\n",
       "      <td>794.70</td>\n",
       "      <td>109149.67</td>\n",
       "      <td>130.50</td>\n",
       "      <td>8145.35</td>\n",
       "      <td>8042.21</td>\n",
       "      <td>103.14</td>\n",
       "      <td>0.00</td>\n",
       "      <td>conventional</td>\n",
       "      <td>2015.0</td>\n",
       "      <td>Albany</td>\n",
       "      <td>12</td>\n",
       "    </tr>\n",
       "    <tr>\n",
       "      <th>3</th>\n",
       "      <td>2015-06-12</td>\n",
       "      <td>1.08</td>\n",
       "      <td>78992.15</td>\n",
       "      <td>1132.00</td>\n",
       "      <td>71976.41</td>\n",
       "      <td>72.58</td>\n",
       "      <td>5811.16</td>\n",
       "      <td>5677.40</td>\n",
       "      <td>133.76</td>\n",
       "      <td>0.00</td>\n",
       "      <td>conventional</td>\n",
       "      <td>2015.0</td>\n",
       "      <td>Albany</td>\n",
       "      <td>06</td>\n",
       "    </tr>\n",
       "    <tr>\n",
       "      <th>4</th>\n",
       "      <td>2015-11-29</td>\n",
       "      <td>1.28</td>\n",
       "      <td>51039.60</td>\n",
       "      <td>941.48</td>\n",
       "      <td>43838.39</td>\n",
       "      <td>75.78</td>\n",
       "      <td>6183.95</td>\n",
       "      <td>5986.26</td>\n",
       "      <td>197.69</td>\n",
       "      <td>0.00</td>\n",
       "      <td>conventional</td>\n",
       "      <td>2015.0</td>\n",
       "      <td>Albany</td>\n",
       "      <td>11</td>\n",
       "    </tr>\n",
       "    <tr>\n",
       "      <th>...</th>\n",
       "      <td>...</td>\n",
       "      <td>...</td>\n",
       "      <td>...</td>\n",
       "      <td>...</td>\n",
       "      <td>...</td>\n",
       "      <td>...</td>\n",
       "      <td>...</td>\n",
       "      <td>...</td>\n",
       "      <td>...</td>\n",
       "      <td>...</td>\n",
       "      <td>...</td>\n",
       "      <td>...</td>\n",
       "      <td>...</td>\n",
       "      <td>...</td>\n",
       "    </tr>\n",
       "    <tr>\n",
       "      <th>1512</th>\n",
       "      <td>2016-10-16</td>\n",
       "      <td>1.39</td>\n",
       "      <td>190846.01</td>\n",
       "      <td>57529.11</td>\n",
       "      <td>56366.66</td>\n",
       "      <td>17531.78</td>\n",
       "      <td>59418.46</td>\n",
       "      <td>48823.53</td>\n",
       "      <td>10354.65</td>\n",
       "      <td>240.28</td>\n",
       "      <td>conventional</td>\n",
       "      <td>2016.0</td>\n",
       "      <td>Charlotte</td>\n",
       "      <td>10</td>\n",
       "    </tr>\n",
       "    <tr>\n",
       "      <th>1513</th>\n",
       "      <td>2016-09-10</td>\n",
       "      <td>1.51</td>\n",
       "      <td>178235.75</td>\n",
       "      <td>43325.87</td>\n",
       "      <td>52189.61</td>\n",
       "      <td>19419.57</td>\n",
       "      <td>63300.70</td>\n",
       "      <td>54704.14</td>\n",
       "      <td>8596.56</td>\n",
       "      <td>0.00</td>\n",
       "      <td>conventional</td>\n",
       "      <td>2016.0</td>\n",
       "      <td>Charlotte</td>\n",
       "      <td>09</td>\n",
       "    </tr>\n",
       "    <tr>\n",
       "      <th>1514</th>\n",
       "      <td>2016-02-10</td>\n",
       "      <td>1.48</td>\n",
       "      <td>178410.82</td>\n",
       "      <td>46364.75</td>\n",
       "      <td>52893.38</td>\n",
       "      <td>16736.92</td>\n",
       "      <td>62415.77</td>\n",
       "      <td>53332.61</td>\n",
       "      <td>8258.16</td>\n",
       "      <td>825.00</td>\n",
       "      <td>conventional</td>\n",
       "      <td>2016.0</td>\n",
       "      <td>Charlotte</td>\n",
       "      <td>02</td>\n",
       "    </tr>\n",
       "    <tr>\n",
       "      <th>1515</th>\n",
       "      <td>2016-09-25</td>\n",
       "      <td>1.47</td>\n",
       "      <td>189131.52</td>\n",
       "      <td>54110.79</td>\n",
       "      <td>53593.58</td>\n",
       "      <td>17495.42</td>\n",
       "      <td>63931.73</td>\n",
       "      <td>55653.47</td>\n",
       "      <td>8278.26</td>\n",
       "      <td>0.00</td>\n",
       "      <td>conventional</td>\n",
       "      <td>2016.0</td>\n",
       "      <td>Charlotte</td>\n",
       "      <td>09</td>\n",
       "    </tr>\n",
       "    <tr>\n",
       "      <th>1516</th>\n",
       "      <td>2016-09-18</td>\n",
       "      <td>1.43</td>\n",
       "      <td>182978.30</td>\n",
       "      <td>43116.41</td>\n",
       "      <td>54193.42</td>\n",
       "      <td>16563.91</td>\n",
       "      <td>69104.56</td>\n",
       "      <td>57456.21</td>\n",
       "      <td>11648.35</td>\n",
       "      <td>0.00</td>\n",
       "      <td>conventional</td>\n",
       "      <td>2016.0</td>\n",
       "      <td>Charlotte</td>\n",
       "      <td>09</td>\n",
       "    </tr>\n",
       "  </tbody>\n",
       "</table>\n",
       "<p>1517 rows × 14 columns</p>\n",
       "</div>"
      ],
      "text/plain": [
       "           Date  AveragePrice  Total Volume      4046       4225      4770  \\\n",
       "0    2015-12-27          1.33      64236.62   1036.74   54454.85     48.16   \n",
       "1    2015-12-20          1.35      54876.98    674.28   44638.81     58.33   \n",
       "2    2015-12-13          0.93     118220.22    794.70  109149.67    130.50   \n",
       "3    2015-06-12          1.08      78992.15   1132.00   71976.41     72.58   \n",
       "4    2015-11-29          1.28      51039.60    941.48   43838.39     75.78   \n",
       "...         ...           ...           ...       ...        ...       ...   \n",
       "1512 2016-10-16          1.39     190846.01  57529.11   56366.66  17531.78   \n",
       "1513 2016-09-10          1.51     178235.75  43325.87   52189.61  19419.57   \n",
       "1514 2016-02-10          1.48     178410.82  46364.75   52893.38  16736.92   \n",
       "1515 2016-09-25          1.47     189131.52  54110.79   53593.58  17495.42   \n",
       "1516 2016-09-18          1.43     182978.30  43116.41   54193.42  16563.91   \n",
       "\n",
       "      Total Bags  Small Bags  Large Bags  XLarge Bags          type    year  \\\n",
       "0        8696.87     8603.62       93.25         0.00  conventional  2015.0   \n",
       "1        9505.56     9408.07       97.49         0.00  conventional  2015.0   \n",
       "2        8145.35     8042.21      103.14         0.00  conventional  2015.0   \n",
       "3        5811.16     5677.40      133.76         0.00  conventional  2015.0   \n",
       "4        6183.95     5986.26      197.69         0.00  conventional  2015.0   \n",
       "...          ...         ...         ...          ...           ...     ...   \n",
       "1512    59418.46    48823.53    10354.65       240.28  conventional  2016.0   \n",
       "1513    63300.70    54704.14     8596.56         0.00  conventional  2016.0   \n",
       "1514    62415.77    53332.61     8258.16       825.00  conventional  2016.0   \n",
       "1515    63931.73    55653.47     8278.26         0.00  conventional  2016.0   \n",
       "1516    69104.56    57456.21    11648.35         0.00  conventional  2016.0   \n",
       "\n",
       "         region Month  \n",
       "0        Albany    12  \n",
       "1        Albany    12  \n",
       "2        Albany    12  \n",
       "3        Albany    06  \n",
       "4        Albany    11  \n",
       "...         ...   ...  \n",
       "1512  Charlotte    10  \n",
       "1513  Charlotte    09  \n",
       "1514  Charlotte    02  \n",
       "1515  Charlotte    09  \n",
       "1516  Charlotte    09  \n",
       "\n",
       "[1517 rows x 14 columns]"
      ]
     },
     "execution_count": 16,
     "metadata": {},
     "output_type": "execute_result"
    }
   ],
   "source": [
    "df"
   ]
  },
  {
   "cell_type": "code",
   "execution_count": 17,
   "id": "7535dad1",
   "metadata": {},
   "outputs": [
    {
     "data": {
      "text/plain": [
       "Date            datetime64[ns]\n",
       "AveragePrice           float64\n",
       "Total Volume           float64\n",
       "4046                   float64\n",
       "4225                   float64\n",
       "4770                   float64\n",
       "Total Bags             float64\n",
       "Small Bags             float64\n",
       "Large Bags             float64\n",
       "XLarge Bags            float64\n",
       "type                    object\n",
       "year                   float64\n",
       "region                  object\n",
       "Month                   object\n",
       "dtype: object"
      ]
     },
     "execution_count": 17,
     "metadata": {},
     "output_type": "execute_result"
    }
   ],
   "source": [
    "df.dtypes"
   ]
  },
  {
   "cell_type": "markdown",
   "id": "3d84c24e",
   "metadata": {},
   "source": [
    "As the Month has been extracted separately and appended at the last column of the dataset, but still it is of Oject data type. So we will convert the Month column to Integer data type, so that our Machine Learning model will be able to read the same"
   ]
  },
  {
   "cell_type": "code",
   "execution_count": 18,
   "id": "70ef9001",
   "metadata": {},
   "outputs": [],
   "source": [
    "df['Month']=df['Month'].astype(int)"
   ]
  },
  {
   "cell_type": "code",
   "execution_count": 19,
   "id": "b9e04dd8",
   "metadata": {},
   "outputs": [
    {
     "data": {
      "text/plain": [
       "Date            datetime64[ns]\n",
       "AveragePrice           float64\n",
       "Total Volume           float64\n",
       "4046                   float64\n",
       "4225                   float64\n",
       "4770                   float64\n",
       "Total Bags             float64\n",
       "Small Bags             float64\n",
       "Large Bags             float64\n",
       "XLarge Bags            float64\n",
       "type                    object\n",
       "year                   float64\n",
       "region                  object\n",
       "Month                    int32\n",
       "dtype: object"
      ]
     },
     "execution_count": 19,
     "metadata": {},
     "output_type": "execute_result"
    }
   ],
   "source": [
    "df.dtypes"
   ]
  },
  {
   "cell_type": "markdown",
   "id": "5f4c52b6",
   "metadata": {},
   "source": [
    "As the Year is also of Float data type, we are converting the same into Interger data type, due to no decimal values are required for Year and Month types of data."
   ]
  },
  {
   "cell_type": "code",
   "execution_count": 20,
   "id": "12df47ad",
   "metadata": {},
   "outputs": [],
   "source": [
    "df['year']=df['year'].astype(int)"
   ]
  },
  {
   "cell_type": "code",
   "execution_count": 21,
   "id": "053a111e",
   "metadata": {},
   "outputs": [
    {
     "data": {
      "text/plain": [
       "Date            datetime64[ns]\n",
       "AveragePrice           float64\n",
       "Total Volume           float64\n",
       "4046                   float64\n",
       "4225                   float64\n",
       "4770                   float64\n",
       "Total Bags             float64\n",
       "Small Bags             float64\n",
       "Large Bags             float64\n",
       "XLarge Bags            float64\n",
       "type                    object\n",
       "year                     int32\n",
       "region                  object\n",
       "Month                    int32\n",
       "dtype: object"
      ]
     },
     "execution_count": 21,
     "metadata": {},
     "output_type": "execute_result"
    }
   ],
   "source": [
    "df.dtypes"
   ]
  },
  {
   "cell_type": "markdown",
   "id": "afa4e272",
   "metadata": {},
   "source": [
    "Our Month has been extracted and the required data types are changed, now we will drop the Date column from our dataset."
   ]
  },
  {
   "cell_type": "code",
   "execution_count": 22,
   "id": "ac3506a9",
   "metadata": {},
   "outputs": [],
   "source": [
    "df.drop(['Date'], axis=1, inplace=True)"
   ]
  },
  {
   "cell_type": "code",
   "execution_count": 23,
   "id": "b7667e2e",
   "metadata": {},
   "outputs": [
    {
     "data": {
      "text/html": [
       "<div>\n",
       "<style scoped>\n",
       "    .dataframe tbody tr th:only-of-type {\n",
       "        vertical-align: middle;\n",
       "    }\n",
       "\n",
       "    .dataframe tbody tr th {\n",
       "        vertical-align: top;\n",
       "    }\n",
       "\n",
       "    .dataframe thead th {\n",
       "        text-align: right;\n",
       "    }\n",
       "</style>\n",
       "<table border=\"1\" class=\"dataframe\">\n",
       "  <thead>\n",
       "    <tr style=\"text-align: right;\">\n",
       "      <th></th>\n",
       "      <th>AveragePrice</th>\n",
       "      <th>Total Volume</th>\n",
       "      <th>4046</th>\n",
       "      <th>4225</th>\n",
       "      <th>4770</th>\n",
       "      <th>Total Bags</th>\n",
       "      <th>Small Bags</th>\n",
       "      <th>Large Bags</th>\n",
       "      <th>XLarge Bags</th>\n",
       "      <th>type</th>\n",
       "      <th>year</th>\n",
       "      <th>region</th>\n",
       "      <th>Month</th>\n",
       "    </tr>\n",
       "  </thead>\n",
       "  <tbody>\n",
       "    <tr>\n",
       "      <th>0</th>\n",
       "      <td>1.33</td>\n",
       "      <td>64236.62</td>\n",
       "      <td>1036.74</td>\n",
       "      <td>54454.85</td>\n",
       "      <td>48.16</td>\n",
       "      <td>8696.87</td>\n",
       "      <td>8603.62</td>\n",
       "      <td>93.25</td>\n",
       "      <td>0.00</td>\n",
       "      <td>conventional</td>\n",
       "      <td>2015</td>\n",
       "      <td>Albany</td>\n",
       "      <td>12</td>\n",
       "    </tr>\n",
       "    <tr>\n",
       "      <th>1</th>\n",
       "      <td>1.35</td>\n",
       "      <td>54876.98</td>\n",
       "      <td>674.28</td>\n",
       "      <td>44638.81</td>\n",
       "      <td>58.33</td>\n",
       "      <td>9505.56</td>\n",
       "      <td>9408.07</td>\n",
       "      <td>97.49</td>\n",
       "      <td>0.00</td>\n",
       "      <td>conventional</td>\n",
       "      <td>2015</td>\n",
       "      <td>Albany</td>\n",
       "      <td>12</td>\n",
       "    </tr>\n",
       "    <tr>\n",
       "      <th>2</th>\n",
       "      <td>0.93</td>\n",
       "      <td>118220.22</td>\n",
       "      <td>794.70</td>\n",
       "      <td>109149.67</td>\n",
       "      <td>130.50</td>\n",
       "      <td>8145.35</td>\n",
       "      <td>8042.21</td>\n",
       "      <td>103.14</td>\n",
       "      <td>0.00</td>\n",
       "      <td>conventional</td>\n",
       "      <td>2015</td>\n",
       "      <td>Albany</td>\n",
       "      <td>12</td>\n",
       "    </tr>\n",
       "    <tr>\n",
       "      <th>3</th>\n",
       "      <td>1.08</td>\n",
       "      <td>78992.15</td>\n",
       "      <td>1132.00</td>\n",
       "      <td>71976.41</td>\n",
       "      <td>72.58</td>\n",
       "      <td>5811.16</td>\n",
       "      <td>5677.40</td>\n",
       "      <td>133.76</td>\n",
       "      <td>0.00</td>\n",
       "      <td>conventional</td>\n",
       "      <td>2015</td>\n",
       "      <td>Albany</td>\n",
       "      <td>6</td>\n",
       "    </tr>\n",
       "    <tr>\n",
       "      <th>4</th>\n",
       "      <td>1.28</td>\n",
       "      <td>51039.60</td>\n",
       "      <td>941.48</td>\n",
       "      <td>43838.39</td>\n",
       "      <td>75.78</td>\n",
       "      <td>6183.95</td>\n",
       "      <td>5986.26</td>\n",
       "      <td>197.69</td>\n",
       "      <td>0.00</td>\n",
       "      <td>conventional</td>\n",
       "      <td>2015</td>\n",
       "      <td>Albany</td>\n",
       "      <td>11</td>\n",
       "    </tr>\n",
       "    <tr>\n",
       "      <th>...</th>\n",
       "      <td>...</td>\n",
       "      <td>...</td>\n",
       "      <td>...</td>\n",
       "      <td>...</td>\n",
       "      <td>...</td>\n",
       "      <td>...</td>\n",
       "      <td>...</td>\n",
       "      <td>...</td>\n",
       "      <td>...</td>\n",
       "      <td>...</td>\n",
       "      <td>...</td>\n",
       "      <td>...</td>\n",
       "      <td>...</td>\n",
       "    </tr>\n",
       "    <tr>\n",
       "      <th>1512</th>\n",
       "      <td>1.39</td>\n",
       "      <td>190846.01</td>\n",
       "      <td>57529.11</td>\n",
       "      <td>56366.66</td>\n",
       "      <td>17531.78</td>\n",
       "      <td>59418.46</td>\n",
       "      <td>48823.53</td>\n",
       "      <td>10354.65</td>\n",
       "      <td>240.28</td>\n",
       "      <td>conventional</td>\n",
       "      <td>2016</td>\n",
       "      <td>Charlotte</td>\n",
       "      <td>10</td>\n",
       "    </tr>\n",
       "    <tr>\n",
       "      <th>1513</th>\n",
       "      <td>1.51</td>\n",
       "      <td>178235.75</td>\n",
       "      <td>43325.87</td>\n",
       "      <td>52189.61</td>\n",
       "      <td>19419.57</td>\n",
       "      <td>63300.70</td>\n",
       "      <td>54704.14</td>\n",
       "      <td>8596.56</td>\n",
       "      <td>0.00</td>\n",
       "      <td>conventional</td>\n",
       "      <td>2016</td>\n",
       "      <td>Charlotte</td>\n",
       "      <td>9</td>\n",
       "    </tr>\n",
       "    <tr>\n",
       "      <th>1514</th>\n",
       "      <td>1.48</td>\n",
       "      <td>178410.82</td>\n",
       "      <td>46364.75</td>\n",
       "      <td>52893.38</td>\n",
       "      <td>16736.92</td>\n",
       "      <td>62415.77</td>\n",
       "      <td>53332.61</td>\n",
       "      <td>8258.16</td>\n",
       "      <td>825.00</td>\n",
       "      <td>conventional</td>\n",
       "      <td>2016</td>\n",
       "      <td>Charlotte</td>\n",
       "      <td>2</td>\n",
       "    </tr>\n",
       "    <tr>\n",
       "      <th>1515</th>\n",
       "      <td>1.47</td>\n",
       "      <td>189131.52</td>\n",
       "      <td>54110.79</td>\n",
       "      <td>53593.58</td>\n",
       "      <td>17495.42</td>\n",
       "      <td>63931.73</td>\n",
       "      <td>55653.47</td>\n",
       "      <td>8278.26</td>\n",
       "      <td>0.00</td>\n",
       "      <td>conventional</td>\n",
       "      <td>2016</td>\n",
       "      <td>Charlotte</td>\n",
       "      <td>9</td>\n",
       "    </tr>\n",
       "    <tr>\n",
       "      <th>1516</th>\n",
       "      <td>1.43</td>\n",
       "      <td>182978.30</td>\n",
       "      <td>43116.41</td>\n",
       "      <td>54193.42</td>\n",
       "      <td>16563.91</td>\n",
       "      <td>69104.56</td>\n",
       "      <td>57456.21</td>\n",
       "      <td>11648.35</td>\n",
       "      <td>0.00</td>\n",
       "      <td>conventional</td>\n",
       "      <td>2016</td>\n",
       "      <td>Charlotte</td>\n",
       "      <td>9</td>\n",
       "    </tr>\n",
       "  </tbody>\n",
       "</table>\n",
       "<p>1517 rows × 13 columns</p>\n",
       "</div>"
      ],
      "text/plain": [
       "      AveragePrice  Total Volume      4046       4225      4770  Total Bags  \\\n",
       "0             1.33      64236.62   1036.74   54454.85     48.16     8696.87   \n",
       "1             1.35      54876.98    674.28   44638.81     58.33     9505.56   \n",
       "2             0.93     118220.22    794.70  109149.67    130.50     8145.35   \n",
       "3             1.08      78992.15   1132.00   71976.41     72.58     5811.16   \n",
       "4             1.28      51039.60    941.48   43838.39     75.78     6183.95   \n",
       "...            ...           ...       ...        ...       ...         ...   \n",
       "1512          1.39     190846.01  57529.11   56366.66  17531.78    59418.46   \n",
       "1513          1.51     178235.75  43325.87   52189.61  19419.57    63300.70   \n",
       "1514          1.48     178410.82  46364.75   52893.38  16736.92    62415.77   \n",
       "1515          1.47     189131.52  54110.79   53593.58  17495.42    63931.73   \n",
       "1516          1.43     182978.30  43116.41   54193.42  16563.91    69104.56   \n",
       "\n",
       "      Small Bags  Large Bags  XLarge Bags          type  year     region  \\\n",
       "0        8603.62       93.25         0.00  conventional  2015     Albany   \n",
       "1        9408.07       97.49         0.00  conventional  2015     Albany   \n",
       "2        8042.21      103.14         0.00  conventional  2015     Albany   \n",
       "3        5677.40      133.76         0.00  conventional  2015     Albany   \n",
       "4        5986.26      197.69         0.00  conventional  2015     Albany   \n",
       "...          ...         ...          ...           ...   ...        ...   \n",
       "1512    48823.53    10354.65       240.28  conventional  2016  Charlotte   \n",
       "1513    54704.14     8596.56         0.00  conventional  2016  Charlotte   \n",
       "1514    53332.61     8258.16       825.00  conventional  2016  Charlotte   \n",
       "1515    55653.47     8278.26         0.00  conventional  2016  Charlotte   \n",
       "1516    57456.21    11648.35         0.00  conventional  2016  Charlotte   \n",
       "\n",
       "      Month  \n",
       "0        12  \n",
       "1        12  \n",
       "2        12  \n",
       "3         6  \n",
       "4        11  \n",
       "...     ...  \n",
       "1512     10  \n",
       "1513      9  \n",
       "1514      2  \n",
       "1515      9  \n",
       "1516      9  \n",
       "\n",
       "[1517 rows x 13 columns]"
      ]
     },
     "execution_count": 23,
     "metadata": {},
     "output_type": "execute_result"
    }
   ],
   "source": [
    "df"
   ]
  },
  {
   "cell_type": "markdown",
   "id": "f783438d",
   "metadata": {},
   "source": [
    "We are going to convert the rest of the object data type columns (i.e. \"type\" & \"region\") to make these readable for our ML Model"
   ]
  },
  {
   "cell_type": "code",
   "execution_count": 24,
   "id": "35033536",
   "metadata": {},
   "outputs": [],
   "source": [
    "le=sklearn.preprocessing.LabelEncoder()"
   ]
  },
  {
   "cell_type": "code",
   "execution_count": 25,
   "id": "3cab40ca",
   "metadata": {},
   "outputs": [],
   "source": [
    "for c in df.select_dtypes(include=\"object\").columns:\n",
    "    df[c]=le.fit_transform(df[c].astype(str))"
   ]
  },
  {
   "cell_type": "code",
   "execution_count": 26,
   "id": "7e9cd4f3",
   "metadata": {},
   "outputs": [
    {
     "data": {
      "text/html": [
       "<div>\n",
       "<style scoped>\n",
       "    .dataframe tbody tr th:only-of-type {\n",
       "        vertical-align: middle;\n",
       "    }\n",
       "\n",
       "    .dataframe tbody tr th {\n",
       "        vertical-align: top;\n",
       "    }\n",
       "\n",
       "    .dataframe thead th {\n",
       "        text-align: right;\n",
       "    }\n",
       "</style>\n",
       "<table border=\"1\" class=\"dataframe\">\n",
       "  <thead>\n",
       "    <tr style=\"text-align: right;\">\n",
       "      <th></th>\n",
       "      <th>AveragePrice</th>\n",
       "      <th>Total Volume</th>\n",
       "      <th>4046</th>\n",
       "      <th>4225</th>\n",
       "      <th>4770</th>\n",
       "      <th>Total Bags</th>\n",
       "      <th>Small Bags</th>\n",
       "      <th>Large Bags</th>\n",
       "      <th>XLarge Bags</th>\n",
       "      <th>type</th>\n",
       "      <th>year</th>\n",
       "      <th>region</th>\n",
       "      <th>Month</th>\n",
       "    </tr>\n",
       "  </thead>\n",
       "  <tbody>\n",
       "    <tr>\n",
       "      <th>0</th>\n",
       "      <td>1.33</td>\n",
       "      <td>64236.62</td>\n",
       "      <td>1036.74</td>\n",
       "      <td>54454.85</td>\n",
       "      <td>48.16</td>\n",
       "      <td>8696.87</td>\n",
       "      <td>8603.62</td>\n",
       "      <td>93.25</td>\n",
       "      <td>0.00</td>\n",
       "      <td>0</td>\n",
       "      <td>2015</td>\n",
       "      <td>0</td>\n",
       "      <td>12</td>\n",
       "    </tr>\n",
       "    <tr>\n",
       "      <th>1</th>\n",
       "      <td>1.35</td>\n",
       "      <td>54876.98</td>\n",
       "      <td>674.28</td>\n",
       "      <td>44638.81</td>\n",
       "      <td>58.33</td>\n",
       "      <td>9505.56</td>\n",
       "      <td>9408.07</td>\n",
       "      <td>97.49</td>\n",
       "      <td>0.00</td>\n",
       "      <td>0</td>\n",
       "      <td>2015</td>\n",
       "      <td>0</td>\n",
       "      <td>12</td>\n",
       "    </tr>\n",
       "    <tr>\n",
       "      <th>2</th>\n",
       "      <td>0.93</td>\n",
       "      <td>118220.22</td>\n",
       "      <td>794.70</td>\n",
       "      <td>109149.67</td>\n",
       "      <td>130.50</td>\n",
       "      <td>8145.35</td>\n",
       "      <td>8042.21</td>\n",
       "      <td>103.14</td>\n",
       "      <td>0.00</td>\n",
       "      <td>0</td>\n",
       "      <td>2015</td>\n",
       "      <td>0</td>\n",
       "      <td>12</td>\n",
       "    </tr>\n",
       "    <tr>\n",
       "      <th>3</th>\n",
       "      <td>1.08</td>\n",
       "      <td>78992.15</td>\n",
       "      <td>1132.00</td>\n",
       "      <td>71976.41</td>\n",
       "      <td>72.58</td>\n",
       "      <td>5811.16</td>\n",
       "      <td>5677.40</td>\n",
       "      <td>133.76</td>\n",
       "      <td>0.00</td>\n",
       "      <td>0</td>\n",
       "      <td>2015</td>\n",
       "      <td>0</td>\n",
       "      <td>6</td>\n",
       "    </tr>\n",
       "    <tr>\n",
       "      <th>4</th>\n",
       "      <td>1.28</td>\n",
       "      <td>51039.60</td>\n",
       "      <td>941.48</td>\n",
       "      <td>43838.39</td>\n",
       "      <td>75.78</td>\n",
       "      <td>6183.95</td>\n",
       "      <td>5986.26</td>\n",
       "      <td>197.69</td>\n",
       "      <td>0.00</td>\n",
       "      <td>0</td>\n",
       "      <td>2015</td>\n",
       "      <td>0</td>\n",
       "      <td>11</td>\n",
       "    </tr>\n",
       "    <tr>\n",
       "      <th>...</th>\n",
       "      <td>...</td>\n",
       "      <td>...</td>\n",
       "      <td>...</td>\n",
       "      <td>...</td>\n",
       "      <td>...</td>\n",
       "      <td>...</td>\n",
       "      <td>...</td>\n",
       "      <td>...</td>\n",
       "      <td>...</td>\n",
       "      <td>...</td>\n",
       "      <td>...</td>\n",
       "      <td>...</td>\n",
       "      <td>...</td>\n",
       "    </tr>\n",
       "    <tr>\n",
       "      <th>1512</th>\n",
       "      <td>1.39</td>\n",
       "      <td>190846.01</td>\n",
       "      <td>57529.11</td>\n",
       "      <td>56366.66</td>\n",
       "      <td>17531.78</td>\n",
       "      <td>59418.46</td>\n",
       "      <td>48823.53</td>\n",
       "      <td>10354.65</td>\n",
       "      <td>240.28</td>\n",
       "      <td>0</td>\n",
       "      <td>2016</td>\n",
       "      <td>7</td>\n",
       "      <td>10</td>\n",
       "    </tr>\n",
       "    <tr>\n",
       "      <th>1513</th>\n",
       "      <td>1.51</td>\n",
       "      <td>178235.75</td>\n",
       "      <td>43325.87</td>\n",
       "      <td>52189.61</td>\n",
       "      <td>19419.57</td>\n",
       "      <td>63300.70</td>\n",
       "      <td>54704.14</td>\n",
       "      <td>8596.56</td>\n",
       "      <td>0.00</td>\n",
       "      <td>0</td>\n",
       "      <td>2016</td>\n",
       "      <td>7</td>\n",
       "      <td>9</td>\n",
       "    </tr>\n",
       "    <tr>\n",
       "      <th>1514</th>\n",
       "      <td>1.48</td>\n",
       "      <td>178410.82</td>\n",
       "      <td>46364.75</td>\n",
       "      <td>52893.38</td>\n",
       "      <td>16736.92</td>\n",
       "      <td>62415.77</td>\n",
       "      <td>53332.61</td>\n",
       "      <td>8258.16</td>\n",
       "      <td>825.00</td>\n",
       "      <td>0</td>\n",
       "      <td>2016</td>\n",
       "      <td>7</td>\n",
       "      <td>2</td>\n",
       "    </tr>\n",
       "    <tr>\n",
       "      <th>1515</th>\n",
       "      <td>1.47</td>\n",
       "      <td>189131.52</td>\n",
       "      <td>54110.79</td>\n",
       "      <td>53593.58</td>\n",
       "      <td>17495.42</td>\n",
       "      <td>63931.73</td>\n",
       "      <td>55653.47</td>\n",
       "      <td>8278.26</td>\n",
       "      <td>0.00</td>\n",
       "      <td>0</td>\n",
       "      <td>2016</td>\n",
       "      <td>7</td>\n",
       "      <td>9</td>\n",
       "    </tr>\n",
       "    <tr>\n",
       "      <th>1516</th>\n",
       "      <td>1.43</td>\n",
       "      <td>182978.30</td>\n",
       "      <td>43116.41</td>\n",
       "      <td>54193.42</td>\n",
       "      <td>16563.91</td>\n",
       "      <td>69104.56</td>\n",
       "      <td>57456.21</td>\n",
       "      <td>11648.35</td>\n",
       "      <td>0.00</td>\n",
       "      <td>0</td>\n",
       "      <td>2016</td>\n",
       "      <td>7</td>\n",
       "      <td>9</td>\n",
       "    </tr>\n",
       "  </tbody>\n",
       "</table>\n",
       "<p>1517 rows × 13 columns</p>\n",
       "</div>"
      ],
      "text/plain": [
       "      AveragePrice  Total Volume      4046       4225      4770  Total Bags  \\\n",
       "0             1.33      64236.62   1036.74   54454.85     48.16     8696.87   \n",
       "1             1.35      54876.98    674.28   44638.81     58.33     9505.56   \n",
       "2             0.93     118220.22    794.70  109149.67    130.50     8145.35   \n",
       "3             1.08      78992.15   1132.00   71976.41     72.58     5811.16   \n",
       "4             1.28      51039.60    941.48   43838.39     75.78     6183.95   \n",
       "...            ...           ...       ...        ...       ...         ...   \n",
       "1512          1.39     190846.01  57529.11   56366.66  17531.78    59418.46   \n",
       "1513          1.51     178235.75  43325.87   52189.61  19419.57    63300.70   \n",
       "1514          1.48     178410.82  46364.75   52893.38  16736.92    62415.77   \n",
       "1515          1.47     189131.52  54110.79   53593.58  17495.42    63931.73   \n",
       "1516          1.43     182978.30  43116.41   54193.42  16563.91    69104.56   \n",
       "\n",
       "      Small Bags  Large Bags  XLarge Bags  type  year  region  Month  \n",
       "0        8603.62       93.25         0.00     0  2015       0     12  \n",
       "1        9408.07       97.49         0.00     0  2015       0     12  \n",
       "2        8042.21      103.14         0.00     0  2015       0     12  \n",
       "3        5677.40      133.76         0.00     0  2015       0      6  \n",
       "4        5986.26      197.69         0.00     0  2015       0     11  \n",
       "...          ...         ...          ...   ...   ...     ...    ...  \n",
       "1512    48823.53    10354.65       240.28     0  2016       7     10  \n",
       "1513    54704.14     8596.56         0.00     0  2016       7      9  \n",
       "1514    53332.61     8258.16       825.00     0  2016       7      2  \n",
       "1515    55653.47     8278.26         0.00     0  2016       7      9  \n",
       "1516    57456.21    11648.35         0.00     0  2016       7      9  \n",
       "\n",
       "[1517 rows x 13 columns]"
      ]
     },
     "execution_count": 26,
     "metadata": {},
     "output_type": "execute_result"
    }
   ],
   "source": [
    "df"
   ]
  },
  {
   "cell_type": "code",
   "execution_count": 27,
   "id": "6dfb09ff",
   "metadata": {},
   "outputs": [
    {
     "data": {
      "text/plain": [
       "AveragePrice    float64\n",
       "Total Volume    float64\n",
       "4046            float64\n",
       "4225            float64\n",
       "4770            float64\n",
       "Total Bags      float64\n",
       "Small Bags      float64\n",
       "Large Bags      float64\n",
       "XLarge Bags     float64\n",
       "type              int32\n",
       "year              int32\n",
       "region            int32\n",
       "Month             int32\n",
       "dtype: object"
      ]
     },
     "execution_count": 27,
     "metadata": {},
     "output_type": "execute_result"
    }
   ],
   "source": [
    "df.dtypes"
   ]
  },
  {
   "cell_type": "markdown",
   "id": "6f308e8d",
   "metadata": {},
   "source": [
    "Now all the features are of numeric values and readable for the ML model."
   ]
  },
  {
   "cell_type": "markdown",
   "id": "1d72b47c",
   "metadata": {},
   "source": [
    "As we have to make one Classification Model to predict \"Region\" and one Linear Model to predict \"Average Price\", so we are going to put both of these column in to last for making our futher process eassier."
   ]
  },
  {
   "cell_type": "code",
   "execution_count": 28,
   "id": "1e93264c",
   "metadata": {},
   "outputs": [
    {
     "data": {
      "text/html": [
       "<div>\n",
       "<style scoped>\n",
       "    .dataframe tbody tr th:only-of-type {\n",
       "        vertical-align: middle;\n",
       "    }\n",
       "\n",
       "    .dataframe tbody tr th {\n",
       "        vertical-align: top;\n",
       "    }\n",
       "\n",
       "    .dataframe thead th {\n",
       "        text-align: right;\n",
       "    }\n",
       "</style>\n",
       "<table border=\"1\" class=\"dataframe\">\n",
       "  <thead>\n",
       "    <tr style=\"text-align: right;\">\n",
       "      <th></th>\n",
       "      <th>AveragePrice</th>\n",
       "      <th>Total Volume</th>\n",
       "      <th>4046</th>\n",
       "      <th>4225</th>\n",
       "      <th>4770</th>\n",
       "      <th>Total Bags</th>\n",
       "      <th>Small Bags</th>\n",
       "      <th>Large Bags</th>\n",
       "      <th>XLarge Bags</th>\n",
       "      <th>type</th>\n",
       "      <th>year</th>\n",
       "      <th>region</th>\n",
       "      <th>Month</th>\n",
       "    </tr>\n",
       "  </thead>\n",
       "  <tbody>\n",
       "    <tr>\n",
       "      <th>96</th>\n",
       "      <td>1.12</td>\n",
       "      <td>572019.8</td>\n",
       "      <td>40867.8</td>\n",
       "      <td>386137.78</td>\n",
       "      <td>23343.49</td>\n",
       "      <td>121670.73</td>\n",
       "      <td>119007.61</td>\n",
       "      <td>2663.12</td>\n",
       "      <td>0.0</td>\n",
       "      <td>0</td>\n",
       "      <td>2015</td>\n",
       "      <td>2</td>\n",
       "      <td>11</td>\n",
       "    </tr>\n",
       "  </tbody>\n",
       "</table>\n",
       "</div>"
      ],
      "text/plain": [
       "    AveragePrice  Total Volume     4046       4225      4770  Total Bags  \\\n",
       "96          1.12      572019.8  40867.8  386137.78  23343.49   121670.73   \n",
       "\n",
       "    Small Bags  Large Bags  XLarge Bags  type  year  region  Month  \n",
       "96   119007.61     2663.12          0.0     0  2015       2     11  "
      ]
     },
     "execution_count": 28,
     "metadata": {},
     "output_type": "execute_result"
    }
   ],
   "source": [
    "df.sample()"
   ]
  },
  {
   "cell_type": "code",
   "execution_count": 29,
   "id": "748279ff",
   "metadata": {},
   "outputs": [],
   "source": [
    "target1=df.pop('region')"
   ]
  },
  {
   "cell_type": "code",
   "execution_count": 30,
   "id": "b2a9efd7",
   "metadata": {},
   "outputs": [],
   "source": [
    "df.insert(12, 'Region', target1)"
   ]
  },
  {
   "cell_type": "code",
   "execution_count": 31,
   "id": "1bbce3fd",
   "metadata": {},
   "outputs": [
    {
     "data": {
      "text/html": [
       "<div>\n",
       "<style scoped>\n",
       "    .dataframe tbody tr th:only-of-type {\n",
       "        vertical-align: middle;\n",
       "    }\n",
       "\n",
       "    .dataframe tbody tr th {\n",
       "        vertical-align: top;\n",
       "    }\n",
       "\n",
       "    .dataframe thead th {\n",
       "        text-align: right;\n",
       "    }\n",
       "</style>\n",
       "<table border=\"1\" class=\"dataframe\">\n",
       "  <thead>\n",
       "    <tr style=\"text-align: right;\">\n",
       "      <th></th>\n",
       "      <th>AveragePrice</th>\n",
       "      <th>Total Volume</th>\n",
       "      <th>4046</th>\n",
       "      <th>4225</th>\n",
       "      <th>4770</th>\n",
       "      <th>Total Bags</th>\n",
       "      <th>Small Bags</th>\n",
       "      <th>Large Bags</th>\n",
       "      <th>XLarge Bags</th>\n",
       "      <th>type</th>\n",
       "      <th>year</th>\n",
       "      <th>Month</th>\n",
       "      <th>Region</th>\n",
       "    </tr>\n",
       "  </thead>\n",
       "  <tbody>\n",
       "    <tr>\n",
       "      <th>0</th>\n",
       "      <td>1.33</td>\n",
       "      <td>64236.62</td>\n",
       "      <td>1036.74</td>\n",
       "      <td>54454.85</td>\n",
       "      <td>48.16</td>\n",
       "      <td>8696.87</td>\n",
       "      <td>8603.62</td>\n",
       "      <td>93.25</td>\n",
       "      <td>0.00</td>\n",
       "      <td>0</td>\n",
       "      <td>2015</td>\n",
       "      <td>12</td>\n",
       "      <td>0</td>\n",
       "    </tr>\n",
       "    <tr>\n",
       "      <th>1</th>\n",
       "      <td>1.35</td>\n",
       "      <td>54876.98</td>\n",
       "      <td>674.28</td>\n",
       "      <td>44638.81</td>\n",
       "      <td>58.33</td>\n",
       "      <td>9505.56</td>\n",
       "      <td>9408.07</td>\n",
       "      <td>97.49</td>\n",
       "      <td>0.00</td>\n",
       "      <td>0</td>\n",
       "      <td>2015</td>\n",
       "      <td>12</td>\n",
       "      <td>0</td>\n",
       "    </tr>\n",
       "    <tr>\n",
       "      <th>2</th>\n",
       "      <td>0.93</td>\n",
       "      <td>118220.22</td>\n",
       "      <td>794.70</td>\n",
       "      <td>109149.67</td>\n",
       "      <td>130.50</td>\n",
       "      <td>8145.35</td>\n",
       "      <td>8042.21</td>\n",
       "      <td>103.14</td>\n",
       "      <td>0.00</td>\n",
       "      <td>0</td>\n",
       "      <td>2015</td>\n",
       "      <td>12</td>\n",
       "      <td>0</td>\n",
       "    </tr>\n",
       "    <tr>\n",
       "      <th>3</th>\n",
       "      <td>1.08</td>\n",
       "      <td>78992.15</td>\n",
       "      <td>1132.00</td>\n",
       "      <td>71976.41</td>\n",
       "      <td>72.58</td>\n",
       "      <td>5811.16</td>\n",
       "      <td>5677.40</td>\n",
       "      <td>133.76</td>\n",
       "      <td>0.00</td>\n",
       "      <td>0</td>\n",
       "      <td>2015</td>\n",
       "      <td>6</td>\n",
       "      <td>0</td>\n",
       "    </tr>\n",
       "    <tr>\n",
       "      <th>4</th>\n",
       "      <td>1.28</td>\n",
       "      <td>51039.60</td>\n",
       "      <td>941.48</td>\n",
       "      <td>43838.39</td>\n",
       "      <td>75.78</td>\n",
       "      <td>6183.95</td>\n",
       "      <td>5986.26</td>\n",
       "      <td>197.69</td>\n",
       "      <td>0.00</td>\n",
       "      <td>0</td>\n",
       "      <td>2015</td>\n",
       "      <td>11</td>\n",
       "      <td>0</td>\n",
       "    </tr>\n",
       "    <tr>\n",
       "      <th>...</th>\n",
       "      <td>...</td>\n",
       "      <td>...</td>\n",
       "      <td>...</td>\n",
       "      <td>...</td>\n",
       "      <td>...</td>\n",
       "      <td>...</td>\n",
       "      <td>...</td>\n",
       "      <td>...</td>\n",
       "      <td>...</td>\n",
       "      <td>...</td>\n",
       "      <td>...</td>\n",
       "      <td>...</td>\n",
       "      <td>...</td>\n",
       "    </tr>\n",
       "    <tr>\n",
       "      <th>1512</th>\n",
       "      <td>1.39</td>\n",
       "      <td>190846.01</td>\n",
       "      <td>57529.11</td>\n",
       "      <td>56366.66</td>\n",
       "      <td>17531.78</td>\n",
       "      <td>59418.46</td>\n",
       "      <td>48823.53</td>\n",
       "      <td>10354.65</td>\n",
       "      <td>240.28</td>\n",
       "      <td>0</td>\n",
       "      <td>2016</td>\n",
       "      <td>10</td>\n",
       "      <td>7</td>\n",
       "    </tr>\n",
       "    <tr>\n",
       "      <th>1513</th>\n",
       "      <td>1.51</td>\n",
       "      <td>178235.75</td>\n",
       "      <td>43325.87</td>\n",
       "      <td>52189.61</td>\n",
       "      <td>19419.57</td>\n",
       "      <td>63300.70</td>\n",
       "      <td>54704.14</td>\n",
       "      <td>8596.56</td>\n",
       "      <td>0.00</td>\n",
       "      <td>0</td>\n",
       "      <td>2016</td>\n",
       "      <td>9</td>\n",
       "      <td>7</td>\n",
       "    </tr>\n",
       "    <tr>\n",
       "      <th>1514</th>\n",
       "      <td>1.48</td>\n",
       "      <td>178410.82</td>\n",
       "      <td>46364.75</td>\n",
       "      <td>52893.38</td>\n",
       "      <td>16736.92</td>\n",
       "      <td>62415.77</td>\n",
       "      <td>53332.61</td>\n",
       "      <td>8258.16</td>\n",
       "      <td>825.00</td>\n",
       "      <td>0</td>\n",
       "      <td>2016</td>\n",
       "      <td>2</td>\n",
       "      <td>7</td>\n",
       "    </tr>\n",
       "    <tr>\n",
       "      <th>1515</th>\n",
       "      <td>1.47</td>\n",
       "      <td>189131.52</td>\n",
       "      <td>54110.79</td>\n",
       "      <td>53593.58</td>\n",
       "      <td>17495.42</td>\n",
       "      <td>63931.73</td>\n",
       "      <td>55653.47</td>\n",
       "      <td>8278.26</td>\n",
       "      <td>0.00</td>\n",
       "      <td>0</td>\n",
       "      <td>2016</td>\n",
       "      <td>9</td>\n",
       "      <td>7</td>\n",
       "    </tr>\n",
       "    <tr>\n",
       "      <th>1516</th>\n",
       "      <td>1.43</td>\n",
       "      <td>182978.30</td>\n",
       "      <td>43116.41</td>\n",
       "      <td>54193.42</td>\n",
       "      <td>16563.91</td>\n",
       "      <td>69104.56</td>\n",
       "      <td>57456.21</td>\n",
       "      <td>11648.35</td>\n",
       "      <td>0.00</td>\n",
       "      <td>0</td>\n",
       "      <td>2016</td>\n",
       "      <td>9</td>\n",
       "      <td>7</td>\n",
       "    </tr>\n",
       "  </tbody>\n",
       "</table>\n",
       "<p>1517 rows × 13 columns</p>\n",
       "</div>"
      ],
      "text/plain": [
       "      AveragePrice  Total Volume      4046       4225      4770  Total Bags  \\\n",
       "0             1.33      64236.62   1036.74   54454.85     48.16     8696.87   \n",
       "1             1.35      54876.98    674.28   44638.81     58.33     9505.56   \n",
       "2             0.93     118220.22    794.70  109149.67    130.50     8145.35   \n",
       "3             1.08      78992.15   1132.00   71976.41     72.58     5811.16   \n",
       "4             1.28      51039.60    941.48   43838.39     75.78     6183.95   \n",
       "...            ...           ...       ...        ...       ...         ...   \n",
       "1512          1.39     190846.01  57529.11   56366.66  17531.78    59418.46   \n",
       "1513          1.51     178235.75  43325.87   52189.61  19419.57    63300.70   \n",
       "1514          1.48     178410.82  46364.75   52893.38  16736.92    62415.77   \n",
       "1515          1.47     189131.52  54110.79   53593.58  17495.42    63931.73   \n",
       "1516          1.43     182978.30  43116.41   54193.42  16563.91    69104.56   \n",
       "\n",
       "      Small Bags  Large Bags  XLarge Bags  type  year  Month  Region  \n",
       "0        8603.62       93.25         0.00     0  2015     12       0  \n",
       "1        9408.07       97.49         0.00     0  2015     12       0  \n",
       "2        8042.21      103.14         0.00     0  2015     12       0  \n",
       "3        5677.40      133.76         0.00     0  2015      6       0  \n",
       "4        5986.26      197.69         0.00     0  2015     11       0  \n",
       "...          ...         ...          ...   ...   ...    ...     ...  \n",
       "1512    48823.53    10354.65       240.28     0  2016     10       7  \n",
       "1513    54704.14     8596.56         0.00     0  2016      9       7  \n",
       "1514    53332.61     8258.16       825.00     0  2016      2       7  \n",
       "1515    55653.47     8278.26         0.00     0  2016      9       7  \n",
       "1516    57456.21    11648.35         0.00     0  2016      9       7  \n",
       "\n",
       "[1517 rows x 13 columns]"
      ]
     },
     "execution_count": 31,
     "metadata": {},
     "output_type": "execute_result"
    }
   ],
   "source": [
    "df"
   ]
  },
  {
   "cell_type": "code",
   "execution_count": 32,
   "id": "2b94a6fd",
   "metadata": {},
   "outputs": [],
   "source": [
    "target2=df.pop('AveragePrice')"
   ]
  },
  {
   "cell_type": "code",
   "execution_count": 33,
   "id": "fd193bff",
   "metadata": {},
   "outputs": [],
   "source": [
    "df.insert(12, 'AveragePrice', target2)"
   ]
  },
  {
   "cell_type": "code",
   "execution_count": 34,
   "id": "ac980802",
   "metadata": {},
   "outputs": [
    {
     "data": {
      "text/html": [
       "<div>\n",
       "<style scoped>\n",
       "    .dataframe tbody tr th:only-of-type {\n",
       "        vertical-align: middle;\n",
       "    }\n",
       "\n",
       "    .dataframe tbody tr th {\n",
       "        vertical-align: top;\n",
       "    }\n",
       "\n",
       "    .dataframe thead th {\n",
       "        text-align: right;\n",
       "    }\n",
       "</style>\n",
       "<table border=\"1\" class=\"dataframe\">\n",
       "  <thead>\n",
       "    <tr style=\"text-align: right;\">\n",
       "      <th></th>\n",
       "      <th>Total Volume</th>\n",
       "      <th>4046</th>\n",
       "      <th>4225</th>\n",
       "      <th>4770</th>\n",
       "      <th>Total Bags</th>\n",
       "      <th>Small Bags</th>\n",
       "      <th>Large Bags</th>\n",
       "      <th>XLarge Bags</th>\n",
       "      <th>type</th>\n",
       "      <th>year</th>\n",
       "      <th>Month</th>\n",
       "      <th>Region</th>\n",
       "      <th>AveragePrice</th>\n",
       "    </tr>\n",
       "  </thead>\n",
       "  <tbody>\n",
       "    <tr>\n",
       "      <th>0</th>\n",
       "      <td>64236.62</td>\n",
       "      <td>1036.74</td>\n",
       "      <td>54454.85</td>\n",
       "      <td>48.16</td>\n",
       "      <td>8696.87</td>\n",
       "      <td>8603.62</td>\n",
       "      <td>93.25</td>\n",
       "      <td>0.00</td>\n",
       "      <td>0</td>\n",
       "      <td>2015</td>\n",
       "      <td>12</td>\n",
       "      <td>0</td>\n",
       "      <td>1.33</td>\n",
       "    </tr>\n",
       "    <tr>\n",
       "      <th>1</th>\n",
       "      <td>54876.98</td>\n",
       "      <td>674.28</td>\n",
       "      <td>44638.81</td>\n",
       "      <td>58.33</td>\n",
       "      <td>9505.56</td>\n",
       "      <td>9408.07</td>\n",
       "      <td>97.49</td>\n",
       "      <td>0.00</td>\n",
       "      <td>0</td>\n",
       "      <td>2015</td>\n",
       "      <td>12</td>\n",
       "      <td>0</td>\n",
       "      <td>1.35</td>\n",
       "    </tr>\n",
       "    <tr>\n",
       "      <th>2</th>\n",
       "      <td>118220.22</td>\n",
       "      <td>794.70</td>\n",
       "      <td>109149.67</td>\n",
       "      <td>130.50</td>\n",
       "      <td>8145.35</td>\n",
       "      <td>8042.21</td>\n",
       "      <td>103.14</td>\n",
       "      <td>0.00</td>\n",
       "      <td>0</td>\n",
       "      <td>2015</td>\n",
       "      <td>12</td>\n",
       "      <td>0</td>\n",
       "      <td>0.93</td>\n",
       "    </tr>\n",
       "    <tr>\n",
       "      <th>3</th>\n",
       "      <td>78992.15</td>\n",
       "      <td>1132.00</td>\n",
       "      <td>71976.41</td>\n",
       "      <td>72.58</td>\n",
       "      <td>5811.16</td>\n",
       "      <td>5677.40</td>\n",
       "      <td>133.76</td>\n",
       "      <td>0.00</td>\n",
       "      <td>0</td>\n",
       "      <td>2015</td>\n",
       "      <td>6</td>\n",
       "      <td>0</td>\n",
       "      <td>1.08</td>\n",
       "    </tr>\n",
       "    <tr>\n",
       "      <th>4</th>\n",
       "      <td>51039.60</td>\n",
       "      <td>941.48</td>\n",
       "      <td>43838.39</td>\n",
       "      <td>75.78</td>\n",
       "      <td>6183.95</td>\n",
       "      <td>5986.26</td>\n",
       "      <td>197.69</td>\n",
       "      <td>0.00</td>\n",
       "      <td>0</td>\n",
       "      <td>2015</td>\n",
       "      <td>11</td>\n",
       "      <td>0</td>\n",
       "      <td>1.28</td>\n",
       "    </tr>\n",
       "    <tr>\n",
       "      <th>...</th>\n",
       "      <td>...</td>\n",
       "      <td>...</td>\n",
       "      <td>...</td>\n",
       "      <td>...</td>\n",
       "      <td>...</td>\n",
       "      <td>...</td>\n",
       "      <td>...</td>\n",
       "      <td>...</td>\n",
       "      <td>...</td>\n",
       "      <td>...</td>\n",
       "      <td>...</td>\n",
       "      <td>...</td>\n",
       "      <td>...</td>\n",
       "    </tr>\n",
       "    <tr>\n",
       "      <th>1512</th>\n",
       "      <td>190846.01</td>\n",
       "      <td>57529.11</td>\n",
       "      <td>56366.66</td>\n",
       "      <td>17531.78</td>\n",
       "      <td>59418.46</td>\n",
       "      <td>48823.53</td>\n",
       "      <td>10354.65</td>\n",
       "      <td>240.28</td>\n",
       "      <td>0</td>\n",
       "      <td>2016</td>\n",
       "      <td>10</td>\n",
       "      <td>7</td>\n",
       "      <td>1.39</td>\n",
       "    </tr>\n",
       "    <tr>\n",
       "      <th>1513</th>\n",
       "      <td>178235.75</td>\n",
       "      <td>43325.87</td>\n",
       "      <td>52189.61</td>\n",
       "      <td>19419.57</td>\n",
       "      <td>63300.70</td>\n",
       "      <td>54704.14</td>\n",
       "      <td>8596.56</td>\n",
       "      <td>0.00</td>\n",
       "      <td>0</td>\n",
       "      <td>2016</td>\n",
       "      <td>9</td>\n",
       "      <td>7</td>\n",
       "      <td>1.51</td>\n",
       "    </tr>\n",
       "    <tr>\n",
       "      <th>1514</th>\n",
       "      <td>178410.82</td>\n",
       "      <td>46364.75</td>\n",
       "      <td>52893.38</td>\n",
       "      <td>16736.92</td>\n",
       "      <td>62415.77</td>\n",
       "      <td>53332.61</td>\n",
       "      <td>8258.16</td>\n",
       "      <td>825.00</td>\n",
       "      <td>0</td>\n",
       "      <td>2016</td>\n",
       "      <td>2</td>\n",
       "      <td>7</td>\n",
       "      <td>1.48</td>\n",
       "    </tr>\n",
       "    <tr>\n",
       "      <th>1515</th>\n",
       "      <td>189131.52</td>\n",
       "      <td>54110.79</td>\n",
       "      <td>53593.58</td>\n",
       "      <td>17495.42</td>\n",
       "      <td>63931.73</td>\n",
       "      <td>55653.47</td>\n",
       "      <td>8278.26</td>\n",
       "      <td>0.00</td>\n",
       "      <td>0</td>\n",
       "      <td>2016</td>\n",
       "      <td>9</td>\n",
       "      <td>7</td>\n",
       "      <td>1.47</td>\n",
       "    </tr>\n",
       "    <tr>\n",
       "      <th>1516</th>\n",
       "      <td>182978.30</td>\n",
       "      <td>43116.41</td>\n",
       "      <td>54193.42</td>\n",
       "      <td>16563.91</td>\n",
       "      <td>69104.56</td>\n",
       "      <td>57456.21</td>\n",
       "      <td>11648.35</td>\n",
       "      <td>0.00</td>\n",
       "      <td>0</td>\n",
       "      <td>2016</td>\n",
       "      <td>9</td>\n",
       "      <td>7</td>\n",
       "      <td>1.43</td>\n",
       "    </tr>\n",
       "  </tbody>\n",
       "</table>\n",
       "<p>1517 rows × 13 columns</p>\n",
       "</div>"
      ],
      "text/plain": [
       "      Total Volume      4046       4225      4770  Total Bags  Small Bags  \\\n",
       "0         64236.62   1036.74   54454.85     48.16     8696.87     8603.62   \n",
       "1         54876.98    674.28   44638.81     58.33     9505.56     9408.07   \n",
       "2        118220.22    794.70  109149.67    130.50     8145.35     8042.21   \n",
       "3         78992.15   1132.00   71976.41     72.58     5811.16     5677.40   \n",
       "4         51039.60    941.48   43838.39     75.78     6183.95     5986.26   \n",
       "...            ...       ...        ...       ...         ...         ...   \n",
       "1512     190846.01  57529.11   56366.66  17531.78    59418.46    48823.53   \n",
       "1513     178235.75  43325.87   52189.61  19419.57    63300.70    54704.14   \n",
       "1514     178410.82  46364.75   52893.38  16736.92    62415.77    53332.61   \n",
       "1515     189131.52  54110.79   53593.58  17495.42    63931.73    55653.47   \n",
       "1516     182978.30  43116.41   54193.42  16563.91    69104.56    57456.21   \n",
       "\n",
       "      Large Bags  XLarge Bags  type  year  Month  Region  AveragePrice  \n",
       "0          93.25         0.00     0  2015     12       0          1.33  \n",
       "1          97.49         0.00     0  2015     12       0          1.35  \n",
       "2         103.14         0.00     0  2015     12       0          0.93  \n",
       "3         133.76         0.00     0  2015      6       0          1.08  \n",
       "4         197.69         0.00     0  2015     11       0          1.28  \n",
       "...          ...          ...   ...   ...    ...     ...           ...  \n",
       "1512    10354.65       240.28     0  2016     10       7          1.39  \n",
       "1513     8596.56         0.00     0  2016      9       7          1.51  \n",
       "1514     8258.16       825.00     0  2016      2       7          1.48  \n",
       "1515     8278.26         0.00     0  2016      9       7          1.47  \n",
       "1516    11648.35         0.00     0  2016      9       7          1.43  \n",
       "\n",
       "[1517 rows x 13 columns]"
      ]
     },
     "execution_count": 34,
     "metadata": {},
     "output_type": "execute_result"
    }
   ],
   "source": [
    "df"
   ]
  },
  {
   "cell_type": "markdown",
   "id": "ec8928ad",
   "metadata": {},
   "source": [
    "We are going for the Non Graphical and Graphical Analysis"
   ]
  },
  {
   "cell_type": "code",
   "execution_count": 35,
   "id": "b5905bd0",
   "metadata": {},
   "outputs": [],
   "source": [
    "dfcor=df.corr()"
   ]
  },
  {
   "cell_type": "code",
   "execution_count": 36,
   "id": "245189ea",
   "metadata": {},
   "outputs": [
    {
     "data": {
      "text/html": [
       "<div>\n",
       "<style scoped>\n",
       "    .dataframe tbody tr th:only-of-type {\n",
       "        vertical-align: middle;\n",
       "    }\n",
       "\n",
       "    .dataframe tbody tr th {\n",
       "        vertical-align: top;\n",
       "    }\n",
       "\n",
       "    .dataframe thead th {\n",
       "        text-align: right;\n",
       "    }\n",
       "</style>\n",
       "<table border=\"1\" class=\"dataframe\">\n",
       "  <thead>\n",
       "    <tr style=\"text-align: right;\">\n",
       "      <th></th>\n",
       "      <th>Total Volume</th>\n",
       "      <th>4046</th>\n",
       "      <th>4225</th>\n",
       "      <th>4770</th>\n",
       "      <th>Total Bags</th>\n",
       "      <th>Small Bags</th>\n",
       "      <th>Large Bags</th>\n",
       "      <th>XLarge Bags</th>\n",
       "      <th>type</th>\n",
       "      <th>year</th>\n",
       "      <th>Month</th>\n",
       "      <th>Region</th>\n",
       "      <th>AveragePrice</th>\n",
       "    </tr>\n",
       "  </thead>\n",
       "  <tbody>\n",
       "    <tr>\n",
       "      <th>Total Volume</th>\n",
       "      <td>1.000000</td>\n",
       "      <td>0.985568</td>\n",
       "      <td>0.987154</td>\n",
       "      <td>0.934347</td>\n",
       "      <td>0.967689</td>\n",
       "      <td>0.960642</td>\n",
       "      <td>0.910226</td>\n",
       "      <td>0.521717</td>\n",
       "      <td>NaN</td>\n",
       "      <td>-0.004189</td>\n",
       "      <td>-0.055212</td>\n",
       "      <td>0.236579</td>\n",
       "      <td>-0.140470</td>\n",
       "    </tr>\n",
       "    <tr>\n",
       "      <th>4046</th>\n",
       "      <td>0.985568</td>\n",
       "      <td>1.000000</td>\n",
       "      <td>0.951952</td>\n",
       "      <td>0.898570</td>\n",
       "      <td>0.930395</td>\n",
       "      <td>0.922278</td>\n",
       "      <td>0.884229</td>\n",
       "      <td>0.474063</td>\n",
       "      <td>NaN</td>\n",
       "      <td>-0.040439</td>\n",
       "      <td>-0.053007</td>\n",
       "      <td>0.269481</td>\n",
       "      <td>-0.190096</td>\n",
       "    </tr>\n",
       "    <tr>\n",
       "      <th>4225</th>\n",
       "      <td>0.987154</td>\n",
       "      <td>0.951952</td>\n",
       "      <td>1.000000</td>\n",
       "      <td>0.927757</td>\n",
       "      <td>0.951779</td>\n",
       "      <td>0.943988</td>\n",
       "      <td>0.900496</td>\n",
       "      <td>0.504718</td>\n",
       "      <td>NaN</td>\n",
       "      <td>-0.007254</td>\n",
       "      <td>-0.058429</td>\n",
       "      <td>0.215733</td>\n",
       "      <td>-0.092084</td>\n",
       "    </tr>\n",
       "    <tr>\n",
       "      <th>4770</th>\n",
       "      <td>0.934347</td>\n",
       "      <td>0.898570</td>\n",
       "      <td>0.927757</td>\n",
       "      <td>1.000000</td>\n",
       "      <td>0.926405</td>\n",
       "      <td>0.923607</td>\n",
       "      <td>0.840523</td>\n",
       "      <td>0.646053</td>\n",
       "      <td>NaN</td>\n",
       "      <td>0.029222</td>\n",
       "      <td>-0.055079</td>\n",
       "      <td>0.138092</td>\n",
       "      <td>-0.100567</td>\n",
       "    </tr>\n",
       "    <tr>\n",
       "      <th>Total Bags</th>\n",
       "      <td>0.967689</td>\n",
       "      <td>0.930395</td>\n",
       "      <td>0.951779</td>\n",
       "      <td>0.926405</td>\n",
       "      <td>1.000000</td>\n",
       "      <td>0.997341</td>\n",
       "      <td>0.911336</td>\n",
       "      <td>0.601856</td>\n",
       "      <td>NaN</td>\n",
       "      <td>0.090108</td>\n",
       "      <td>-0.047747</td>\n",
       "      <td>0.190001</td>\n",
       "      <td>-0.111597</td>\n",
       "    </tr>\n",
       "    <tr>\n",
       "      <th>Small Bags</th>\n",
       "      <td>0.960642</td>\n",
       "      <td>0.922278</td>\n",
       "      <td>0.943988</td>\n",
       "      <td>0.923607</td>\n",
       "      <td>0.997341</td>\n",
       "      <td>1.000000</td>\n",
       "      <td>0.879131</td>\n",
       "      <td>0.611300</td>\n",
       "      <td>NaN</td>\n",
       "      <td>0.106382</td>\n",
       "      <td>-0.048978</td>\n",
       "      <td>0.168650</td>\n",
       "      <td>-0.097682</td>\n",
       "    </tr>\n",
       "    <tr>\n",
       "      <th>Large Bags</th>\n",
       "      <td>0.910226</td>\n",
       "      <td>0.884229</td>\n",
       "      <td>0.900496</td>\n",
       "      <td>0.840523</td>\n",
       "      <td>0.911336</td>\n",
       "      <td>0.879131</td>\n",
       "      <td>1.000000</td>\n",
       "      <td>0.447779</td>\n",
       "      <td>NaN</td>\n",
       "      <td>-0.018678</td>\n",
       "      <td>-0.039242</td>\n",
       "      <td>0.297452</td>\n",
       "      <td>-0.177480</td>\n",
       "    </tr>\n",
       "    <tr>\n",
       "      <th>XLarge Bags</th>\n",
       "      <td>0.521717</td>\n",
       "      <td>0.474063</td>\n",
       "      <td>0.504718</td>\n",
       "      <td>0.646053</td>\n",
       "      <td>0.601856</td>\n",
       "      <td>0.611300</td>\n",
       "      <td>0.447779</td>\n",
       "      <td>1.000000</td>\n",
       "      <td>NaN</td>\n",
       "      <td>0.218342</td>\n",
       "      <td>0.021452</td>\n",
       "      <td>-0.046144</td>\n",
       "      <td>-0.048284</td>\n",
       "    </tr>\n",
       "    <tr>\n",
       "      <th>type</th>\n",
       "      <td>NaN</td>\n",
       "      <td>NaN</td>\n",
       "      <td>NaN</td>\n",
       "      <td>NaN</td>\n",
       "      <td>NaN</td>\n",
       "      <td>NaN</td>\n",
       "      <td>NaN</td>\n",
       "      <td>NaN</td>\n",
       "      <td>NaN</td>\n",
       "      <td>NaN</td>\n",
       "      <td>NaN</td>\n",
       "      <td>NaN</td>\n",
       "      <td>NaN</td>\n",
       "    </tr>\n",
       "    <tr>\n",
       "      <th>year</th>\n",
       "      <td>-0.004189</td>\n",
       "      <td>-0.040439</td>\n",
       "      <td>-0.007254</td>\n",
       "      <td>0.029222</td>\n",
       "      <td>0.090108</td>\n",
       "      <td>0.106382</td>\n",
       "      <td>-0.018678</td>\n",
       "      <td>0.218342</td>\n",
       "      <td>NaN</td>\n",
       "      <td>1.000000</td>\n",
       "      <td>-0.013144</td>\n",
       "      <td>-0.470472</td>\n",
       "      <td>0.178683</td>\n",
       "    </tr>\n",
       "    <tr>\n",
       "      <th>Month</th>\n",
       "      <td>-0.055212</td>\n",
       "      <td>-0.053007</td>\n",
       "      <td>-0.058429</td>\n",
       "      <td>-0.055079</td>\n",
       "      <td>-0.047747</td>\n",
       "      <td>-0.048978</td>\n",
       "      <td>-0.039242</td>\n",
       "      <td>0.021452</td>\n",
       "      <td>NaN</td>\n",
       "      <td>-0.013144</td>\n",
       "      <td>1.000000</td>\n",
       "      <td>0.000977</td>\n",
       "      <td>0.060642</td>\n",
       "    </tr>\n",
       "    <tr>\n",
       "      <th>Region</th>\n",
       "      <td>0.236579</td>\n",
       "      <td>0.269481</td>\n",
       "      <td>0.215733</td>\n",
       "      <td>0.138092</td>\n",
       "      <td>0.190001</td>\n",
       "      <td>0.168650</td>\n",
       "      <td>0.297452</td>\n",
       "      <td>-0.046144</td>\n",
       "      <td>NaN</td>\n",
       "      <td>-0.470472</td>\n",
       "      <td>0.000977</td>\n",
       "      <td>1.000000</td>\n",
       "      <td>-0.229408</td>\n",
       "    </tr>\n",
       "    <tr>\n",
       "      <th>AveragePrice</th>\n",
       "      <td>-0.140470</td>\n",
       "      <td>-0.190096</td>\n",
       "      <td>-0.092084</td>\n",
       "      <td>-0.100567</td>\n",
       "      <td>-0.111597</td>\n",
       "      <td>-0.097682</td>\n",
       "      <td>-0.177480</td>\n",
       "      <td>-0.048284</td>\n",
       "      <td>NaN</td>\n",
       "      <td>0.178683</td>\n",
       "      <td>0.060642</td>\n",
       "      <td>-0.229408</td>\n",
       "      <td>1.000000</td>\n",
       "    </tr>\n",
       "  </tbody>\n",
       "</table>\n",
       "</div>"
      ],
      "text/plain": [
       "              Total Volume      4046      4225      4770  Total Bags  \\\n",
       "Total Volume      1.000000  0.985568  0.987154  0.934347    0.967689   \n",
       "4046              0.985568  1.000000  0.951952  0.898570    0.930395   \n",
       "4225              0.987154  0.951952  1.000000  0.927757    0.951779   \n",
       "4770              0.934347  0.898570  0.927757  1.000000    0.926405   \n",
       "Total Bags        0.967689  0.930395  0.951779  0.926405    1.000000   \n",
       "Small Bags        0.960642  0.922278  0.943988  0.923607    0.997341   \n",
       "Large Bags        0.910226  0.884229  0.900496  0.840523    0.911336   \n",
       "XLarge Bags       0.521717  0.474063  0.504718  0.646053    0.601856   \n",
       "type                   NaN       NaN       NaN       NaN         NaN   \n",
       "year             -0.004189 -0.040439 -0.007254  0.029222    0.090108   \n",
       "Month            -0.055212 -0.053007 -0.058429 -0.055079   -0.047747   \n",
       "Region            0.236579  0.269481  0.215733  0.138092    0.190001   \n",
       "AveragePrice     -0.140470 -0.190096 -0.092084 -0.100567   -0.111597   \n",
       "\n",
       "              Small Bags  Large Bags  XLarge Bags  type      year     Month  \\\n",
       "Total Volume    0.960642    0.910226     0.521717   NaN -0.004189 -0.055212   \n",
       "4046            0.922278    0.884229     0.474063   NaN -0.040439 -0.053007   \n",
       "4225            0.943988    0.900496     0.504718   NaN -0.007254 -0.058429   \n",
       "4770            0.923607    0.840523     0.646053   NaN  0.029222 -0.055079   \n",
       "Total Bags      0.997341    0.911336     0.601856   NaN  0.090108 -0.047747   \n",
       "Small Bags      1.000000    0.879131     0.611300   NaN  0.106382 -0.048978   \n",
       "Large Bags      0.879131    1.000000     0.447779   NaN -0.018678 -0.039242   \n",
       "XLarge Bags     0.611300    0.447779     1.000000   NaN  0.218342  0.021452   \n",
       "type                 NaN         NaN          NaN   NaN       NaN       NaN   \n",
       "year            0.106382   -0.018678     0.218342   NaN  1.000000 -0.013144   \n",
       "Month          -0.048978   -0.039242     0.021452   NaN -0.013144  1.000000   \n",
       "Region          0.168650    0.297452    -0.046144   NaN -0.470472  0.000977   \n",
       "AveragePrice   -0.097682   -0.177480    -0.048284   NaN  0.178683  0.060642   \n",
       "\n",
       "                Region  AveragePrice  \n",
       "Total Volume  0.236579     -0.140470  \n",
       "4046          0.269481     -0.190096  \n",
       "4225          0.215733     -0.092084  \n",
       "4770          0.138092     -0.100567  \n",
       "Total Bags    0.190001     -0.111597  \n",
       "Small Bags    0.168650     -0.097682  \n",
       "Large Bags    0.297452     -0.177480  \n",
       "XLarge Bags  -0.046144     -0.048284  \n",
       "type               NaN           NaN  \n",
       "year         -0.470472      0.178683  \n",
       "Month         0.000977      0.060642  \n",
       "Region        1.000000     -0.229408  \n",
       "AveragePrice -0.229408      1.000000  "
      ]
     },
     "execution_count": 36,
     "metadata": {},
     "output_type": "execute_result"
    }
   ],
   "source": [
    "dfcor"
   ]
  },
  {
   "cell_type": "code",
   "execution_count": 37,
   "id": "47854071",
   "metadata": {},
   "outputs": [
    {
     "data": {
      "text/plain": [
       "<AxesSubplot:>"
      ]
     },
     "execution_count": 37,
     "metadata": {},
     "output_type": "execute_result"
    },
    {
     "data": {
      "image/png": "[encoded data removed]",
      "text/plain": [
       "<Figure size 1000x1000 with 2 Axes>"
      ]
     },
     "metadata": {},
     "output_type": "display_data"
    }
   ],
   "source": [
    "plt.figure(figsize=(10,10))\n",
    "sns.heatmap(dfcor,annot=True,cmap='Blues')"
   ]
  },
  {
   "cell_type": "markdown",
   "id": "cdfa39fd",
   "metadata": {},
   "source": [
    "By the above corelation analysis, we observed that the Xlarge Bags feature's corelation with our both the target variables Region and Average Price are very closer to zero (i.e. -0.046 & -0.048 respectively), also the feature \"type\" has no corelation with any other features of this data set. So we are droping XLarge Bags & type features also."
   ]
  },
  {
   "cell_type": "code",
   "execution_count": 38,
   "id": "103254ae",
   "metadata": {},
   "outputs": [],
   "source": [
    "df.drop(['XLarge Bags'], axis=1, inplace=True)"
   ]
  },
  {
   "cell_type": "code",
   "execution_count": 39,
   "id": "ccd32985",
   "metadata": {},
   "outputs": [],
   "source": [
    "df.drop(['type'], axis=1, inplace=True)"
   ]
  },
  {
   "cell_type": "code",
   "execution_count": 40,
   "id": "40de0eca",
   "metadata": {},
   "outputs": [
    {
     "data": {
      "text/html": [
       "<div>\n",
       "<style scoped>\n",
       "    .dataframe tbody tr th:only-of-type {\n",
       "        vertical-align: middle;\n",
       "    }\n",
       "\n",
       "    .dataframe tbody tr th {\n",
       "        vertical-align: top;\n",
       "    }\n",
       "\n",
       "    .dataframe thead th {\n",
       "        text-align: right;\n",
       "    }\n",
       "</style>\n",
       "<table border=\"1\" class=\"dataframe\">\n",
       "  <thead>\n",
       "    <tr style=\"text-align: right;\">\n",
       "      <th></th>\n",
       "      <th>Total Volume</th>\n",
       "      <th>4046</th>\n",
       "      <th>4225</th>\n",
       "      <th>4770</th>\n",
       "      <th>Total Bags</th>\n",
       "      <th>Small Bags</th>\n",
       "      <th>Large Bags</th>\n",
       "      <th>year</th>\n",
       "      <th>Month</th>\n",
       "      <th>Region</th>\n",
       "      <th>AveragePrice</th>\n",
       "    </tr>\n",
       "  </thead>\n",
       "  <tbody>\n",
       "    <tr>\n",
       "      <th>0</th>\n",
       "      <td>64236.62</td>\n",
       "      <td>1036.74</td>\n",
       "      <td>54454.85</td>\n",
       "      <td>48.16</td>\n",
       "      <td>8696.87</td>\n",
       "      <td>8603.62</td>\n",
       "      <td>93.25</td>\n",
       "      <td>2015</td>\n",
       "      <td>12</td>\n",
       "      <td>0</td>\n",
       "      <td>1.33</td>\n",
       "    </tr>\n",
       "    <tr>\n",
       "      <th>1</th>\n",
       "      <td>54876.98</td>\n",
       "      <td>674.28</td>\n",
       "      <td>44638.81</td>\n",
       "      <td>58.33</td>\n",
       "      <td>9505.56</td>\n",
       "      <td>9408.07</td>\n",
       "      <td>97.49</td>\n",
       "      <td>2015</td>\n",
       "      <td>12</td>\n",
       "      <td>0</td>\n",
       "      <td>1.35</td>\n",
       "    </tr>\n",
       "    <tr>\n",
       "      <th>2</th>\n",
       "      <td>118220.22</td>\n",
       "      <td>794.70</td>\n",
       "      <td>109149.67</td>\n",
       "      <td>130.50</td>\n",
       "      <td>8145.35</td>\n",
       "      <td>8042.21</td>\n",
       "      <td>103.14</td>\n",
       "      <td>2015</td>\n",
       "      <td>12</td>\n",
       "      <td>0</td>\n",
       "      <td>0.93</td>\n",
       "    </tr>\n",
       "    <tr>\n",
       "      <th>3</th>\n",
       "      <td>78992.15</td>\n",
       "      <td>1132.00</td>\n",
       "      <td>71976.41</td>\n",
       "      <td>72.58</td>\n",
       "      <td>5811.16</td>\n",
       "      <td>5677.40</td>\n",
       "      <td>133.76</td>\n",
       "      <td>2015</td>\n",
       "      <td>6</td>\n",
       "      <td>0</td>\n",
       "      <td>1.08</td>\n",
       "    </tr>\n",
       "    <tr>\n",
       "      <th>4</th>\n",
       "      <td>51039.60</td>\n",
       "      <td>941.48</td>\n",
       "      <td>43838.39</td>\n",
       "      <td>75.78</td>\n",
       "      <td>6183.95</td>\n",
       "      <td>5986.26</td>\n",
       "      <td>197.69</td>\n",
       "      <td>2015</td>\n",
       "      <td>11</td>\n",
       "      <td>0</td>\n",
       "      <td>1.28</td>\n",
       "    </tr>\n",
       "    <tr>\n",
       "      <th>...</th>\n",
       "      <td>...</td>\n",
       "      <td>...</td>\n",
       "      <td>...</td>\n",
       "      <td>...</td>\n",
       "      <td>...</td>\n",
       "      <td>...</td>\n",
       "      <td>...</td>\n",
       "      <td>...</td>\n",
       "      <td>...</td>\n",
       "      <td>...</td>\n",
       "      <td>...</td>\n",
       "    </tr>\n",
       "    <tr>\n",
       "      <th>1512</th>\n",
       "      <td>190846.01</td>\n",
       "      <td>57529.11</td>\n",
       "      <td>56366.66</td>\n",
       "      <td>17531.78</td>\n",
       "      <td>59418.46</td>\n",
       "      <td>48823.53</td>\n",
       "      <td>10354.65</td>\n",
       "      <td>2016</td>\n",
       "      <td>10</td>\n",
       "      <td>7</td>\n",
       "      <td>1.39</td>\n",
       "    </tr>\n",
       "    <tr>\n",
       "      <th>1513</th>\n",
       "      <td>178235.75</td>\n",
       "      <td>43325.87</td>\n",
       "      <td>52189.61</td>\n",
       "      <td>19419.57</td>\n",
       "      <td>63300.70</td>\n",
       "      <td>54704.14</td>\n",
       "      <td>8596.56</td>\n",
       "      <td>2016</td>\n",
       "      <td>9</td>\n",
       "      <td>7</td>\n",
       "      <td>1.51</td>\n",
       "    </tr>\n",
       "    <tr>\n",
       "      <th>1514</th>\n",
       "      <td>178410.82</td>\n",
       "      <td>46364.75</td>\n",
       "      <td>52893.38</td>\n",
       "      <td>16736.92</td>\n",
       "      <td>62415.77</td>\n",
       "      <td>53332.61</td>\n",
       "      <td>8258.16</td>\n",
       "      <td>2016</td>\n",
       "      <td>2</td>\n",
       "      <td>7</td>\n",
       "      <td>1.48</td>\n",
       "    </tr>\n",
       "    <tr>\n",
       "      <th>1515</th>\n",
       "      <td>189131.52</td>\n",
       "      <td>54110.79</td>\n",
       "      <td>53593.58</td>\n",
       "      <td>17495.42</td>\n",
       "      <td>63931.73</td>\n",
       "      <td>55653.47</td>\n",
       "      <td>8278.26</td>\n",
       "      <td>2016</td>\n",
       "      <td>9</td>\n",
       "      <td>7</td>\n",
       "      <td>1.47</td>\n",
       "    </tr>\n",
       "    <tr>\n",
       "      <th>1516</th>\n",
       "      <td>182978.30</td>\n",
       "      <td>43116.41</td>\n",
       "      <td>54193.42</td>\n",
       "      <td>16563.91</td>\n",
       "      <td>69104.56</td>\n",
       "      <td>57456.21</td>\n",
       "      <td>11648.35</td>\n",
       "      <td>2016</td>\n",
       "      <td>9</td>\n",
       "      <td>7</td>\n",
       "      <td>1.43</td>\n",
       "    </tr>\n",
       "  </tbody>\n",
       "</table>\n",
       "<p>1517 rows × 11 columns</p>\n",
       "</div>"
      ],
      "text/plain": [
       "      Total Volume      4046       4225      4770  Total Bags  Small Bags  \\\n",
       "0         64236.62   1036.74   54454.85     48.16     8696.87     8603.62   \n",
       "1         54876.98    674.28   44638.81     58.33     9505.56     9408.07   \n",
       "2        118220.22    794.70  109149.67    130.50     8145.35     8042.21   \n",
       "3         78992.15   1132.00   71976.41     72.58     5811.16     5677.40   \n",
       "4         51039.60    941.48   43838.39     75.78     6183.95     5986.26   \n",
       "...            ...       ...        ...       ...         ...         ...   \n",
       "1512     190846.01  57529.11   56366.66  17531.78    59418.46    48823.53   \n",
       "1513     178235.75  43325.87   52189.61  19419.57    63300.70    54704.14   \n",
       "1514     178410.82  46364.75   52893.38  16736.92    62415.77    53332.61   \n",
       "1515     189131.52  54110.79   53593.58  17495.42    63931.73    55653.47   \n",
       "1516     182978.30  43116.41   54193.42  16563.91    69104.56    57456.21   \n",
       "\n",
       "      Large Bags  year  Month  Region  AveragePrice  \n",
       "0          93.25  2015     12       0          1.33  \n",
       "1          97.49  2015     12       0          1.35  \n",
       "2         103.14  2015     12       0          0.93  \n",
       "3         133.76  2015      6       0          1.08  \n",
       "4         197.69  2015     11       0          1.28  \n",
       "...          ...   ...    ...     ...           ...  \n",
       "1512    10354.65  2016     10       7          1.39  \n",
       "1513     8596.56  2016      9       7          1.51  \n",
       "1514     8258.16  2016      2       7          1.48  \n",
       "1515     8278.26  2016      9       7          1.47  \n",
       "1516    11648.35  2016      9       7          1.43  \n",
       "\n",
       "[1517 rows x 11 columns]"
      ]
     },
     "execution_count": 40,
     "metadata": {},
     "output_type": "execute_result"
    }
   ],
   "source": [
    "df"
   ]
  },
  {
   "cell_type": "code",
   "execution_count": 41,
   "id": "a0f3dd47",
   "metadata": {},
   "outputs": [
    {
     "data": {
      "text/html": [
       "<div>\n",
       "<style scoped>\n",
       "    .dataframe tbody tr th:only-of-type {\n",
       "        vertical-align: middle;\n",
       "    }\n",
       "\n",
       "    .dataframe tbody tr th {\n",
       "        vertical-align: top;\n",
       "    }\n",
       "\n",
       "    .dataframe thead th {\n",
       "        text-align: right;\n",
       "    }\n",
       "</style>\n",
       "<table border=\"1\" class=\"dataframe\">\n",
       "  <thead>\n",
       "    <tr style=\"text-align: right;\">\n",
       "      <th></th>\n",
       "      <th>Total Volume</th>\n",
       "      <th>4046</th>\n",
       "      <th>4225</th>\n",
       "      <th>4770</th>\n",
       "      <th>Total Bags</th>\n",
       "      <th>Small Bags</th>\n",
       "      <th>Large Bags</th>\n",
       "      <th>year</th>\n",
       "      <th>Month</th>\n",
       "      <th>Region</th>\n",
       "      <th>AveragePrice</th>\n",
       "    </tr>\n",
       "  </thead>\n",
       "  <tbody>\n",
       "    <tr>\n",
       "      <th>count</th>\n",
       "      <td>1.517000e+03</td>\n",
       "      <td>1.517000e+03</td>\n",
       "      <td>1.517000e+03</td>\n",
       "      <td>1.517000e+03</td>\n",
       "      <td>1.517000e+03</td>\n",
       "      <td>1.517000e+03</td>\n",
       "      <td>1.517000e+03</td>\n",
       "      <td>1517.000000</td>\n",
       "      <td>1517.000000</td>\n",
       "      <td>1517.000000</td>\n",
       "      <td>1517.000000</td>\n",
       "    </tr>\n",
       "    <tr>\n",
       "      <th>mean</th>\n",
       "      <td>1.601879e+06</td>\n",
       "      <td>6.464387e+05</td>\n",
       "      <td>6.114375e+05</td>\n",
       "      <td>5.040550e+04</td>\n",
       "      <td>2.935974e+05</td>\n",
       "      <td>2.487736e+05</td>\n",
       "      <td>4.264205e+04</td>\n",
       "      <td>2015.162821</td>\n",
       "      <td>6.362558</td>\n",
       "      <td>21.196440</td>\n",
       "      <td>1.074990</td>\n",
       "    </tr>\n",
       "    <tr>\n",
       "      <th>std</th>\n",
       "      <td>4.433143e+06</td>\n",
       "      <td>1.947614e+06</td>\n",
       "      <td>1.672906e+06</td>\n",
       "      <td>1.377812e+05</td>\n",
       "      <td>7.579765e+05</td>\n",
       "      <td>6.474765e+05</td>\n",
       "      <td>1.182157e+05</td>\n",
       "      <td>0.369324</td>\n",
       "      <td>3.472146</td>\n",
       "      <td>16.132398</td>\n",
       "      <td>0.188891</td>\n",
       "    </tr>\n",
       "    <tr>\n",
       "      <th>min</th>\n",
       "      <td>3.875074e+04</td>\n",
       "      <td>4.677200e+02</td>\n",
       "      <td>1.783770e+03</td>\n",
       "      <td>0.000000e+00</td>\n",
       "      <td>3.311770e+03</td>\n",
       "      <td>3.311770e+03</td>\n",
       "      <td>0.000000e+00</td>\n",
       "      <td>2015.000000</td>\n",
       "      <td>1.000000</td>\n",
       "      <td>0.000000</td>\n",
       "      <td>0.490000</td>\n",
       "    </tr>\n",
       "    <tr>\n",
       "      <th>25%</th>\n",
       "      <td>1.474700e+05</td>\n",
       "      <td>2.040034e+04</td>\n",
       "      <td>4.147606e+04</td>\n",
       "      <td>9.112500e+02</td>\n",
       "      <td>3.620689e+04</td>\n",
       "      <td>2.972722e+04</td>\n",
       "      <td>5.407400e+02</td>\n",
       "      <td>2015.000000</td>\n",
       "      <td>3.000000</td>\n",
       "      <td>6.000000</td>\n",
       "      <td>0.980000</td>\n",
       "    </tr>\n",
       "    <tr>\n",
       "      <th>50%</th>\n",
       "      <td>4.027919e+05</td>\n",
       "      <td>8.175117e+04</td>\n",
       "      <td>1.186649e+05</td>\n",
       "      <td>7.688170e+03</td>\n",
       "      <td>7.397906e+04</td>\n",
       "      <td>6.237569e+04</td>\n",
       "      <td>5.044350e+03</td>\n",
       "      <td>2015.000000</td>\n",
       "      <td>6.000000</td>\n",
       "      <td>19.000000</td>\n",
       "      <td>1.080000</td>\n",
       "    </tr>\n",
       "    <tr>\n",
       "      <th>75%</th>\n",
       "      <td>9.819751e+05</td>\n",
       "      <td>3.775785e+05</td>\n",
       "      <td>4.851503e+05</td>\n",
       "      <td>2.916730e+04</td>\n",
       "      <td>1.576097e+05</td>\n",
       "      <td>1.461994e+05</td>\n",
       "      <td>2.926767e+04</td>\n",
       "      <td>2015.000000</td>\n",
       "      <td>9.000000</td>\n",
       "      <td>35.000000</td>\n",
       "      <td>1.190000</td>\n",
       "    </tr>\n",
       "    <tr>\n",
       "      <th>max</th>\n",
       "      <td>4.465546e+07</td>\n",
       "      <td>1.893304e+07</td>\n",
       "      <td>1.895648e+07</td>\n",
       "      <td>1.381516e+06</td>\n",
       "      <td>6.736304e+06</td>\n",
       "      <td>5.893642e+06</td>\n",
       "      <td>1.121076e+06</td>\n",
       "      <td>2016.000000</td>\n",
       "      <td>12.000000</td>\n",
       "      <td>50.000000</td>\n",
       "      <td>1.680000</td>\n",
       "    </tr>\n",
       "  </tbody>\n",
       "</table>\n",
       "</div>"
      ],
      "text/plain": [
       "       Total Volume          4046          4225          4770    Total Bags  \\\n",
       "count  1.517000e+03  1.517000e+03  1.517000e+03  1.517000e+03  1.517000e+03   \n",
       "mean   1.601879e+06  6.464387e+05  6.114375e+05  5.040550e+04  2.935974e+05   \n",
       "std    4.433143e+06  1.947614e+06  1.672906e+06  1.377812e+05  7.579765e+05   \n",
       "min    3.875074e+04  4.677200e+02  1.783770e+03  0.000000e+00  3.311770e+03   \n",
       "25%    1.474700e+05  2.040034e+04  4.147606e+04  9.112500e+02  3.620689e+04   \n",
       "50%    4.027919e+05  8.175117e+04  1.186649e+05  7.688170e+03  7.397906e+04   \n",
       "75%    9.819751e+05  3.775785e+05  4.851503e+05  2.916730e+04  1.576097e+05   \n",
       "max    4.465546e+07  1.893304e+07  1.895648e+07  1.381516e+06  6.736304e+06   \n",
       "\n",
       "         Small Bags    Large Bags         year        Month       Region  \\\n",
       "count  1.517000e+03  1.517000e+03  1517.000000  1517.000000  1517.000000   \n",
       "mean   2.487736e+05  4.264205e+04  2015.162821     6.362558    21.196440   \n",
       "std    6.474765e+05  1.182157e+05     0.369324     3.472146    16.132398   \n",
       "min    3.311770e+03  0.000000e+00  2015.000000     1.000000     0.000000   \n",
       "25%    2.972722e+04  5.407400e+02  2015.000000     3.000000     6.000000   \n",
       "50%    6.237569e+04  5.044350e+03  2015.000000     6.000000    19.000000   \n",
       "75%    1.461994e+05  2.926767e+04  2015.000000     9.000000    35.000000   \n",
       "max    5.893642e+06  1.121076e+06  2016.000000    12.000000    50.000000   \n",
       "\n",
       "       AveragePrice  \n",
       "count   1517.000000  \n",
       "mean       1.074990  \n",
       "std        0.188891  \n",
       "min        0.490000  \n",
       "25%        0.980000  \n",
       "50%        1.080000  \n",
       "75%        1.190000  \n",
       "max        1.680000  "
      ]
     },
     "execution_count": 41,
     "metadata": {},
     "output_type": "execute_result"
    }
   ],
   "source": [
    "df.describe()"
   ]
  },
  {
   "cell_type": "markdown",
   "id": "2ec92f56",
   "metadata": {},
   "source": [
    "As above it has been observed that, there are differences between the 75% percentile and maximum values, so outliers possibilites are there of many features."
   ]
  },
  {
   "cell_type": "code",
   "execution_count": 42,
   "id": "c5c60117",
   "metadata": {},
   "outputs": [
    {
     "data": {
      "text/plain": [
       "Total Volume       AxesSubplot(0.125,0.712609;0.133621x0.167391)\n",
       "4046            AxesSubplot(0.285345,0.712609;0.133621x0.167391)\n",
       "4225             AxesSubplot(0.44569,0.712609;0.133621x0.167391)\n",
       "4770            AxesSubplot(0.606034,0.712609;0.133621x0.167391)\n",
       "Total Bags      AxesSubplot(0.766379,0.712609;0.133621x0.167391)\n",
       "Small Bags         AxesSubplot(0.125,0.511739;0.133621x0.167391)\n",
       "Large Bags      AxesSubplot(0.285345,0.511739;0.133621x0.167391)\n",
       "year             AxesSubplot(0.44569,0.511739;0.133621x0.167391)\n",
       "Month           AxesSubplot(0.606034,0.511739;0.133621x0.167391)\n",
       "Region          AxesSubplot(0.766379,0.511739;0.133621x0.167391)\n",
       "AveragePrice        AxesSubplot(0.125,0.31087;0.133621x0.167391)\n",
       "dtype: object"
      ]
     },
     "execution_count": 42,
     "metadata": {},
     "output_type": "execute_result"
    },
    {
     "data": {
      "image/png": "[encoded data removed]",
      "text/plain": [
       "<Figure size 1200x1200 with 20 Axes>"
      ]
     },
     "metadata": {},
     "output_type": "display_data"
    }
   ],
   "source": [
    "df.plot(kind='box',figsize=(12,12),layout=(4,5),subplots=True)"
   ]
  },
  {
   "cell_type": "markdown",
   "id": "a8428517",
   "metadata": {},
   "source": [
    " By using above box plots also, it has been found that in may columns the huge outliers are present."
   ]
  },
  {
   "cell_type": "code",
   "execution_count": 43,
   "id": "e09f4668",
   "metadata": {},
   "outputs": [
    {
     "data": {
      "text/plain": [
       "Total Volume    6.200138\n",
       "4046            6.051830\n",
       "4225            6.394926\n",
       "4770            5.405164\n",
       "Total Bags      5.366378\n",
       "Small Bags      5.355185\n",
       "Large Bags      5.144495\n",
       "year            1.828332\n",
       "Month           0.101439\n",
       "Region          0.288146\n",
       "AveragePrice   -0.109444\n",
       "dtype: float64"
      ]
     },
     "execution_count": 43,
     "metadata": {},
     "output_type": "execute_result"
    }
   ],
   "source": [
    "df.skew()"
   ]
  },
  {
   "cell_type": "markdown",
   "id": "5df4070d",
   "metadata": {},
   "source": [
    "As the skewness are ok except the feature \"Year\", but that is not considerable for Year type of features. We are trying to reduce the Outliers present in other featurs by using boxcox method."
   ]
  },
  {
   "cell_type": "code",
   "execution_count": 44,
   "id": "2cd93a6d",
   "metadata": {},
   "outputs": [],
   "source": [
    "df['Total Volume']=boxcox(df['Total Volume'],0)"
   ]
  },
  {
   "cell_type": "code",
   "execution_count": 45,
   "id": "502f73e7",
   "metadata": {},
   "outputs": [
    {
     "data": {
      "text/plain": [
       "<AxesSubplot:>"
      ]
     },
     "execution_count": 45,
     "metadata": {},
     "output_type": "execute_result"
    },
    {
     "data": {
      "image/png": "[encoded data removed]",
      "text/plain": [
       "<Figure size 640x480 with 1 Axes>"
      ]
     },
     "metadata": {},
     "output_type": "display_data"
    }
   ],
   "source": [
    "df['Total Volume'].plot.box()"
   ]
  },
  {
   "cell_type": "code",
   "execution_count": 46,
   "id": "d42f8adf",
   "metadata": {},
   "outputs": [],
   "source": [
    "df['4046']=boxcox(df['4046'],0)"
   ]
  },
  {
   "cell_type": "code",
   "execution_count": 47,
   "id": "331fbf74",
   "metadata": {},
   "outputs": [
    {
     "data": {
      "text/plain": [
       "<AxesSubplot:>"
      ]
     },
     "execution_count": 47,
     "metadata": {},
     "output_type": "execute_result"
    },
    {
     "data": {
      "image/png": "[encoded data removed]",
      "text/plain": [
       "<Figure size 640x480 with 1 Axes>"
      ]
     },
     "metadata": {},
     "output_type": "display_data"
    }
   ],
   "source": [
    "df['4046'].plot.box()"
   ]
  },
  {
   "cell_type": "code",
   "execution_count": 48,
   "id": "f8563bac",
   "metadata": {},
   "outputs": [],
   "source": [
    "df['4225']=boxcox(df['4225'],0)"
   ]
  },
  {
   "cell_type": "code",
   "execution_count": 49,
   "id": "98bc517d",
   "metadata": {},
   "outputs": [
    {
     "data": {
      "text/plain": [
       "<AxesSubplot:>"
      ]
     },
     "execution_count": 49,
     "metadata": {},
     "output_type": "execute_result"
    },
    {
     "data": {
      "image/png": "[encoded data removed]",
      "text/plain": [
       "<Figure size 640x480 with 1 Axes>"
      ]
     },
     "metadata": {},
     "output_type": "display_data"
    }
   ],
   "source": [
    "df['4225'].plot.box()"
   ]
  },
  {
   "cell_type": "code",
   "execution_count": 50,
   "id": "d099b4ec",
   "metadata": {},
   "outputs": [],
   "source": [
    "df['4770']=boxcox(df['4770'],0)"
   ]
  },
  {
   "cell_type": "code",
   "execution_count": 51,
   "id": "42102312",
   "metadata": {},
   "outputs": [
    {
     "data": {
      "text/plain": [
       "<AxesSubplot:>"
      ]
     },
     "execution_count": 51,
     "metadata": {},
     "output_type": "execute_result"
    },
    {
     "data": {
      "image/png": "[encoded data removed]",
      "text/plain": [
       "<Figure size 640x480 with 1 Axes>"
      ]
     },
     "metadata": {},
     "output_type": "display_data"
    }
   ],
   "source": [
    "df['4770'].plot.box()"
   ]
  },
  {
   "cell_type": "code",
   "execution_count": 52,
   "id": "3371cd52",
   "metadata": {},
   "outputs": [],
   "source": [
    "df['Total Bags']=boxcox(df['Total Bags'],0)"
   ]
  },
  {
   "cell_type": "code",
   "execution_count": 53,
   "id": "c02e713b",
   "metadata": {},
   "outputs": [
    {
     "data": {
      "text/plain": [
       "<AxesSubplot:>"
      ]
     },
     "execution_count": 53,
     "metadata": {},
     "output_type": "execute_result"
    },
    {
     "data": {
      "image/png": "[encoded data removed]",
      "text/plain": [
       "<Figure size 640x480 with 1 Axes>"
      ]
     },
     "metadata": {},
     "output_type": "display_data"
    }
   ],
   "source": [
    "df['Total Bags'].plot.box()"
   ]
  },
  {
   "cell_type": "code",
   "execution_count": 54,
   "id": "d5e0889f",
   "metadata": {},
   "outputs": [],
   "source": [
    "df['Small Bags']=boxcox(df['Small Bags'],0)"
   ]
  },
  {
   "cell_type": "code",
   "execution_count": 55,
   "id": "18e89231",
   "metadata": {},
   "outputs": [
    {
     "data": {
      "text/plain": [
       "<AxesSubplot:>"
      ]
     },
     "execution_count": 55,
     "metadata": {},
     "output_type": "execute_result"
    },
    {
     "data": {
      "image/png": "[encoded data removed]",
      "text/plain": [
       "<Figure size 640x480 with 1 Axes>"
      ]
     },
     "metadata": {},
     "output_type": "display_data"
    }
   ],
   "source": [
    "df['Small Bags'].plot.box()"
   ]
  },
  {
   "cell_type": "code",
   "execution_count": 56,
   "id": "b7f3c48b",
   "metadata": {},
   "outputs": [],
   "source": [
    "df['Large Bags']=boxcox(df['Large Bags'],0)"
   ]
  },
  {
   "cell_type": "code",
   "execution_count": 57,
   "id": "1c33c51a",
   "metadata": {},
   "outputs": [
    {
     "data": {
      "text/plain": [
       "<AxesSubplot:>"
      ]
     },
     "execution_count": 57,
     "metadata": {},
     "output_type": "execute_result"
    },
    {
     "data": {
      "image/png": "[encoded data removed]",
      "text/plain": [
       "<Figure size 640x480 with 1 Axes>"
      ]
     },
     "metadata": {},
     "output_type": "display_data"
    }
   ],
   "source": [
    "df['Large Bags'].plot.box()"
   ]
  },
  {
   "cell_type": "code",
   "execution_count": 58,
   "id": "cf7c8b8e",
   "metadata": {},
   "outputs": [
    {
     "data": {
      "text/plain": [
       "Total Volume       AxesSubplot(0.125,0.712609;0.133621x0.167391)\n",
       "4046            AxesSubplot(0.285345,0.712609;0.133621x0.167391)\n",
       "4225             AxesSubplot(0.44569,0.712609;0.133621x0.167391)\n",
       "4770            AxesSubplot(0.606034,0.712609;0.133621x0.167391)\n",
       "Total Bags      AxesSubplot(0.766379,0.712609;0.133621x0.167391)\n",
       "Small Bags         AxesSubplot(0.125,0.511739;0.133621x0.167391)\n",
       "Large Bags      AxesSubplot(0.285345,0.511739;0.133621x0.167391)\n",
       "year             AxesSubplot(0.44569,0.511739;0.133621x0.167391)\n",
       "Month           AxesSubplot(0.606034,0.511739;0.133621x0.167391)\n",
       "Region          AxesSubplot(0.766379,0.511739;0.133621x0.167391)\n",
       "AveragePrice        AxesSubplot(0.125,0.31087;0.133621x0.167391)\n",
       "dtype: object"
      ]
     },
     "execution_count": 58,
     "metadata": {},
     "output_type": "execute_result"
    },
    {
     "data": {
      "image/png": "[encoded data removed]",
      "text/plain": [
       "<Figure size 1200x1200 with 20 Axes>"
      ]
     },
     "metadata": {},
     "output_type": "display_data"
    }
   ],
   "source": [
    "df.plot(kind='box',figsize=(12,12),layout=(4,5),subplots=True)"
   ]
  },
  {
   "cell_type": "markdown",
   "id": "0eb8ae03",
   "metadata": {},
   "source": [
    "Again we are checking for the missing values in our processed dataset and also converting all the float data types to integer data type, due to some float value is in very big size to large values after decimals"
   ]
  },
  {
   "cell_type": "code",
   "execution_count": 59,
   "id": "ec3ddc89",
   "metadata": {},
   "outputs": [
    {
     "data": {
      "text/plain": [
       "Total Volume    0\n",
       "4046            0\n",
       "4225            0\n",
       "4770            0\n",
       "Total Bags      0\n",
       "Small Bags      0\n",
       "Large Bags      0\n",
       "year            0\n",
       "Month           0\n",
       "Region          0\n",
       "AveragePrice    0\n",
       "dtype: int64"
      ]
     },
     "execution_count": 59,
     "metadata": {},
     "output_type": "execute_result"
    }
   ],
   "source": [
    "df.isnull().sum()"
   ]
  },
  {
   "cell_type": "code",
   "execution_count": 60,
   "id": "c65e1266",
   "metadata": {},
   "outputs": [
    {
     "data": {
      "text/plain": [
       "Total Volume    float64\n",
       "4046            float64\n",
       "4225            float64\n",
       "4770            float64\n",
       "Total Bags      float64\n",
       "Small Bags      float64\n",
       "Large Bags      float64\n",
       "year              int32\n",
       "Month             int32\n",
       "Region            int32\n",
       "AveragePrice    float64\n",
       "dtype: object"
      ]
     },
     "execution_count": 60,
     "metadata": {},
     "output_type": "execute_result"
    }
   ],
   "source": [
    "df.dtypes"
   ]
  },
  {
   "cell_type": "code",
   "execution_count": 61,
   "id": "6e6646b5",
   "metadata": {},
   "outputs": [],
   "source": [
    "for c in df.select_dtypes(include=\"float\").columns:\n",
    "    df[c]=le.fit_transform(df[c].astype(str))"
   ]
  },
  {
   "cell_type": "code",
   "execution_count": 62,
   "id": "b491807c",
   "metadata": {},
   "outputs": [
    {
     "data": {
      "text/plain": [
       "Total Volume    int32\n",
       "4046            int32\n",
       "4225            int32\n",
       "4770            int32\n",
       "Total Bags      int32\n",
       "Small Bags      int32\n",
       "Large Bags      int32\n",
       "year            int32\n",
       "Month           int32\n",
       "Region          int32\n",
       "AveragePrice    int32\n",
       "dtype: object"
      ]
     },
     "execution_count": 62,
     "metadata": {},
     "output_type": "execute_result"
    }
   ],
   "source": [
    "df.dtypes"
   ]
  },
  {
   "cell_type": "markdown",
   "id": "872d749c",
   "metadata": {},
   "source": [
    "Now we are saving our above cleaned data in another variable for making the Classification & Linear Regression models separately"
   ]
  },
  {
   "cell_type": "code",
   "execution_count": 63,
   "id": "0925a879",
   "metadata": {},
   "outputs": [],
   "source": [
    "cdf=df"
   ]
  },
  {
   "cell_type": "code",
   "execution_count": 64,
   "id": "8c599b7c",
   "metadata": {},
   "outputs": [],
   "source": [
    "ldf=df"
   ]
  },
  {
   "cell_type": "code",
   "execution_count": 65,
   "id": "13a3b932",
   "metadata": {},
   "outputs": [
    {
     "data": {
      "text/html": [
       "<div>\n",
       "<style scoped>\n",
       "    .dataframe tbody tr th:only-of-type {\n",
       "        vertical-align: middle;\n",
       "    }\n",
       "\n",
       "    .dataframe tbody tr th {\n",
       "        vertical-align: top;\n",
       "    }\n",
       "\n",
       "    .dataframe thead th {\n",
       "        text-align: right;\n",
       "    }\n",
       "</style>\n",
       "<table border=\"1\" class=\"dataframe\">\n",
       "  <thead>\n",
       "    <tr style=\"text-align: right;\">\n",
       "      <th></th>\n",
       "      <th>Total Volume</th>\n",
       "      <th>4046</th>\n",
       "      <th>4225</th>\n",
       "      <th>4770</th>\n",
       "      <th>Total Bags</th>\n",
       "      <th>Small Bags</th>\n",
       "      <th>Large Bags</th>\n",
       "      <th>year</th>\n",
       "      <th>Month</th>\n",
       "      <th>Region</th>\n",
       "      <th>AveragePrice</th>\n",
       "    </tr>\n",
       "  </thead>\n",
       "  <tbody>\n",
       "    <tr>\n",
       "      <th>0</th>\n",
       "      <td>71</td>\n",
       "      <td>1181</td>\n",
       "      <td>344</td>\n",
       "      <td>497</td>\n",
       "      <td>1378</td>\n",
       "      <td>1287</td>\n",
       "      <td>511</td>\n",
       "      <td>2015</td>\n",
       "      <td>12</td>\n",
       "      <td>0</td>\n",
       "      <td>81</td>\n",
       "    </tr>\n",
       "    <tr>\n",
       "      <th>1</th>\n",
       "      <td>35</td>\n",
       "      <td>1138</td>\n",
       "      <td>251</td>\n",
       "      <td>521</td>\n",
       "      <td>1395</td>\n",
       "      <td>1309</td>\n",
       "      <td>515</td>\n",
       "      <td>2015</td>\n",
       "      <td>12</td>\n",
       "      <td>0</td>\n",
       "      <td>83</td>\n",
       "    </tr>\n",
       "    <tr>\n",
       "      <th>2</th>\n",
       "      <td>294</td>\n",
       "      <td>1149</td>\n",
       "      <td>580</td>\n",
       "      <td>623</td>\n",
       "      <td>1371</td>\n",
       "      <td>1280</td>\n",
       "      <td>519</td>\n",
       "      <td>2015</td>\n",
       "      <td>12</td>\n",
       "      <td>0</td>\n",
       "      <td>41</td>\n",
       "    </tr>\n",
       "    <tr>\n",
       "      <th>3</th>\n",
       "      <td>152</td>\n",
       "      <td>1188</td>\n",
       "      <td>463</td>\n",
       "      <td>541</td>\n",
       "      <td>1345</td>\n",
       "      <td>1248</td>\n",
       "      <td>540</td>\n",
       "      <td>2015</td>\n",
       "      <td>6</td>\n",
       "      <td>0</td>\n",
       "      <td>56</td>\n",
       "    </tr>\n",
       "    <tr>\n",
       "      <th>4</th>\n",
       "      <td>27</td>\n",
       "      <td>1168</td>\n",
       "      <td>244</td>\n",
       "      <td>544</td>\n",
       "      <td>1349</td>\n",
       "      <td>1251</td>\n",
       "      <td>576</td>\n",
       "      <td>2015</td>\n",
       "      <td>11</td>\n",
       "      <td>0</td>\n",
       "      <td>76</td>\n",
       "    </tr>\n",
       "    <tr>\n",
       "      <th>...</th>\n",
       "      <td>...</td>\n",
       "      <td>...</td>\n",
       "      <td>...</td>\n",
       "      <td>...</td>\n",
       "      <td>...</td>\n",
       "      <td>...</td>\n",
       "      <td>...</td>\n",
       "      <td>...</td>\n",
       "      <td>...</td>\n",
       "      <td>...</td>\n",
       "      <td>...</td>\n",
       "    </tr>\n",
       "    <tr>\n",
       "      <th>1512</th>\n",
       "      <td>501</td>\n",
       "      <td>236</td>\n",
       "      <td>359</td>\n",
       "      <td>1450</td>\n",
       "      <td>422</td>\n",
       "      <td>355</td>\n",
       "      <td>1202</td>\n",
       "      <td>2016</td>\n",
       "      <td>10</td>\n",
       "      <td>7</td>\n",
       "      <td>87</td>\n",
       "    </tr>\n",
       "    <tr>\n",
       "      <th>1513</th>\n",
       "      <td>468</td>\n",
       "      <td>137</td>\n",
       "      <td>323</td>\n",
       "      <td>1485</td>\n",
       "      <td>464</td>\n",
       "      <td>417</td>\n",
       "      <td>1159</td>\n",
       "      <td>2016</td>\n",
       "      <td>9</td>\n",
       "      <td>7</td>\n",
       "      <td>99</td>\n",
       "    </tr>\n",
       "    <tr>\n",
       "      <th>1514</th>\n",
       "      <td>469</td>\n",
       "      <td>170</td>\n",
       "      <td>331</td>\n",
       "      <td>1436</td>\n",
       "      <td>457</td>\n",
       "      <td>406</td>\n",
       "      <td>1149</td>\n",
       "      <td>2016</td>\n",
       "      <td>2</td>\n",
       "      <td>7</td>\n",
       "      <td>96</td>\n",
       "    </tr>\n",
       "    <tr>\n",
       "      <th>1515</th>\n",
       "      <td>495</td>\n",
       "      <td>214</td>\n",
       "      <td>333</td>\n",
       "      <td>1448</td>\n",
       "      <td>475</td>\n",
       "      <td>425</td>\n",
       "      <td>1150</td>\n",
       "      <td>2016</td>\n",
       "      <td>9</td>\n",
       "      <td>7</td>\n",
       "      <td>95</td>\n",
       "    </tr>\n",
       "    <tr>\n",
       "      <th>1516</th>\n",
       "      <td>485</td>\n",
       "      <td>134</td>\n",
       "      <td>340</td>\n",
       "      <td>1428</td>\n",
       "      <td>530</td>\n",
       "      <td>438</td>\n",
       "      <td>1232</td>\n",
       "      <td>2016</td>\n",
       "      <td>9</td>\n",
       "      <td>7</td>\n",
       "      <td>91</td>\n",
       "    </tr>\n",
       "  </tbody>\n",
       "</table>\n",
       "<p>1517 rows × 11 columns</p>\n",
       "</div>"
      ],
      "text/plain": [
       "      Total Volume  4046  4225  4770  Total Bags  Small Bags  Large Bags  \\\n",
       "0               71  1181   344   497        1378        1287         511   \n",
       "1               35  1138   251   521        1395        1309         515   \n",
       "2              294  1149   580   623        1371        1280         519   \n",
       "3              152  1188   463   541        1345        1248         540   \n",
       "4               27  1168   244   544        1349        1251         576   \n",
       "...            ...   ...   ...   ...         ...         ...         ...   \n",
       "1512           501   236   359  1450         422         355        1202   \n",
       "1513           468   137   323  1485         464         417        1159   \n",
       "1514           469   170   331  1436         457         406        1149   \n",
       "1515           495   214   333  1448         475         425        1150   \n",
       "1516           485   134   340  1428         530         438        1232   \n",
       "\n",
       "      year  Month  Region  AveragePrice  \n",
       "0     2015     12       0            81  \n",
       "1     2015     12       0            83  \n",
       "2     2015     12       0            41  \n",
       "3     2015      6       0            56  \n",
       "4     2015     11       0            76  \n",
       "...    ...    ...     ...           ...  \n",
       "1512  2016     10       7            87  \n",
       "1513  2016      9       7            99  \n",
       "1514  2016      2       7            96  \n",
       "1515  2016      9       7            95  \n",
       "1516  2016      9       7            91  \n",
       "\n",
       "[1517 rows x 11 columns]"
      ]
     },
     "execution_count": 65,
     "metadata": {},
     "output_type": "execute_result"
    }
   ],
   "source": [
    "ldf"
   ]
  },
  {
   "cell_type": "markdown",
   "id": "a6a708fa",
   "metadata": {},
   "source": [
    "We are separating the independent varialbes and target variable for making our linear regression ML model"
   ]
  },
  {
   "cell_type": "code",
   "execution_count": 66,
   "id": "c5cdf956",
   "metadata": {},
   "outputs": [],
   "source": [
    "lx=ldf.iloc[:,0:-1]"
   ]
  },
  {
   "cell_type": "code",
   "execution_count": 67,
   "id": "c862586c",
   "metadata": {},
   "outputs": [],
   "source": [
    "ly=ldf.iloc[:,-1]"
   ]
  },
  {
   "cell_type": "code",
   "execution_count": 68,
   "id": "0bb179fc",
   "metadata": {},
   "outputs": [
    {
     "data": {
      "text/plain": [
       "(1517, 10)"
      ]
     },
     "execution_count": 68,
     "metadata": {},
     "output_type": "execute_result"
    }
   ],
   "source": [
    "lx.shape"
   ]
  },
  {
   "cell_type": "code",
   "execution_count": 69,
   "id": "470ce6fa",
   "metadata": {},
   "outputs": [
    {
     "data": {
      "text/plain": [
       "(1517,)"
      ]
     },
     "execution_count": 69,
     "metadata": {},
     "output_type": "execute_result"
    }
   ],
   "source": [
    "ly.shape"
   ]
  },
  {
   "cell_type": "markdown",
   "id": "54e71984",
   "metadata": {},
   "source": [
    "We are going to try various linear regression algorithms with different random states from 0 to 50 for getting best r2 score."
   ]
  },
  {
   "cell_type": "code",
   "execution_count": 70,
   "id": "df125644",
   "metadata": {},
   "outputs": [],
   "source": [
    "lr=LinearRegression()"
   ]
  },
  {
   "cell_type": "code",
   "execution_count": 71,
   "id": "7cee3804",
   "metadata": {},
   "outputs": [
    {
     "name": "stdout",
     "output_type": "stream",
     "text": [
      "0.1353207200239781\n",
      "0.20297726080853784\n",
      "0.2546908835905858\n",
      "0.16224098339009563\n",
      "0.15661631045586288\n",
      "0.2159795841947254\n",
      "0.2603944298052626\n",
      "0.18252503130488462\n",
      "0.211798300626877\n",
      "0.20594599196045815\n",
      "0.19885315318371932\n",
      "0.1982274295669355\n",
      "0.17700428741090035\n",
      "0.18913459456546722\n",
      "0.2025857842775276\n",
      "0.2528852791650875\n",
      "0.23756397992424882\n",
      "0.19884285250244915\n",
      "0.22770798703065476\n",
      "0.258201345677873\n",
      "0.17634713148038794\n",
      "0.20198304940902867\n",
      "0.24005963104968853\n",
      "0.23947392363258435\n",
      "0.2141447810354169\n",
      "0.16886855566858672\n",
      "0.23020691346183275\n",
      "0.24453069026574026\n",
      "0.16933283573263713\n",
      "0.22286233994472016\n",
      "0.24575752668582818\n",
      "0.2406563874901526\n",
      "0.2015810965176147\n",
      "0.19896313857919534\n",
      "0.22172119282001956\n",
      "0.17300813353713307\n",
      "0.26095915655218094\n",
      "0.19823925487895155\n",
      "0.23415816565790037\n",
      "0.22733257001412177\n",
      "0.1772130334583708\n",
      "0.23363827676403703\n",
      "0.21616098463065103\n",
      "0.2405253666218623\n",
      "0.141619127436033\n",
      "0.16918145625989067\n",
      "0.19930559178616192\n",
      "0.1822866035701317\n",
      "0.19596717671367736\n",
      "0.20690618198932742\n"
     ]
    }
   ],
   "source": [
    "for i in range(0,50):\n",
    "    lxtrain,lxtest,lytrain,lytest=train_test_split(lx,ly,test_size=0.30,random_state=i)\n",
    "    lr.fit(lxtrain,lytrain)\n",
    "    lpred=lr.predict(lxtest)\n",
    "    rscore=r2_score(lytest,lpred)\n",
    "    print(rscore)"
   ]
  },
  {
   "cell_type": "code",
   "execution_count": 72,
   "id": "97e5bfb1",
   "metadata": {},
   "outputs": [],
   "source": [
    "sv=SVR()"
   ]
  },
  {
   "cell_type": "code",
   "execution_count": 73,
   "id": "6984e2f4",
   "metadata": {},
   "outputs": [
    {
     "name": "stdout",
     "output_type": "stream",
     "text": [
      "0.17574122554687233\n",
      "0.21260527033410903\n",
      "0.22656571695141503\n",
      "0.22036948791923128\n",
      "0.19211670669223158\n",
      "0.21649447554572443\n",
      "0.21824843173115693\n",
      "0.21462992932652492\n",
      "0.21383724844985008\n",
      "0.21972995860305466\n",
      "0.2076071624924054\n",
      "0.21751991703667206\n",
      "0.2083965023280232\n",
      "0.2467533623567102\n",
      "0.19983394265604204\n",
      "0.22386535329858448\n",
      "0.20314089057176743\n",
      "0.2314372832827465\n",
      "0.22226911304797414\n",
      "0.20010466079921185\n",
      "0.20500222239656052\n",
      "0.2110748713938143\n",
      "0.24344466146683807\n",
      "0.23272680428162218\n",
      "0.22869779879130903\n",
      "0.20701135506922907\n",
      "0.2346269807895186\n",
      "0.21150942387357685\n",
      "0.20328077451736426\n",
      "0.23499608504528002\n",
      "0.22773405484292109\n",
      "0.22894565687494772\n",
      "0.20359683620050528\n",
      "0.21471267448573905\n",
      "0.21519546602362238\n",
      "0.2189214502228688\n",
      "0.2284812553668324\n",
      "0.21382158374553217\n",
      "0.23413959442626964\n",
      "0.23712308626548084\n",
      "0.21906408204603756\n",
      "0.22715978072282683\n",
      "0.2137517880622799\n",
      "0.21677378147880677\n",
      "0.2202381037604494\n",
      "0.22813956880994757\n",
      "0.19935627170604775\n",
      "0.21376324423387372\n",
      "0.1861765739253156\n",
      "0.23090142606098962\n"
     ]
    }
   ],
   "source": [
    "for i in range(0,50):\n",
    "    lxtrain,lxtest,lytrain,lytest=train_test_split(lx,ly,test_size=0.30,random_state=i)\n",
    "    sv.fit(lxtrain,lytrain)\n",
    "    lpred=sv.predict(lxtest)\n",
    "    rscore=r2_score(lytest,lpred)\n",
    "    print(rscore)"
   ]
  },
  {
   "cell_type": "code",
   "execution_count": 74,
   "id": "67431ef3",
   "metadata": {},
   "outputs": [],
   "source": [
    "dt=DecisionTreeRegressor()"
   ]
  },
  {
   "cell_type": "code",
   "execution_count": 75,
   "id": "a254ba0f",
   "metadata": {},
   "outputs": [
    {
     "name": "stdout",
     "output_type": "stream",
     "text": [
      "0.6502021676196856\n",
      "0.596124228913669\n",
      "0.6810098857430054\n",
      "0.5566333667253864\n",
      "0.5466463717172667\n",
      "0.590783507632701\n",
      "0.6400233725439237\n",
      "0.5247653153085434\n",
      "0.5686178010166529\n",
      "0.5990633917278592\n",
      "0.6047541472667075\n",
      "0.6969582461982246\n",
      "0.6195629525765569\n",
      "0.5764760235276647\n",
      "0.53901577393288\n",
      "0.6066371562606845\n",
      "0.6688584031573837\n",
      "0.609695672403078\n",
      "0.6165630812492038\n",
      "0.6567704699388192\n",
      "0.5907425217504199\n",
      "0.6625070702823175\n",
      "0.6711160336984765\n",
      "0.6929412977702443\n",
      "0.5811638830772046\n",
      "0.5351428631701857\n",
      "0.6329591407688773\n",
      "0.6604817708333333\n",
      "0.6064394873017824\n",
      "0.6029551967980733\n",
      "0.6209179814273817\n",
      "0.6222414976650663\n",
      "0.4773379932085744\n",
      "0.6035142018661135\n",
      "0.5572547876497477\n",
      "0.6417742992172835\n",
      "0.6740519235816897\n",
      "0.6462120856185825\n",
      "0.5838857014449172\n",
      "0.6025608219547629\n",
      "0.5358325989013831\n",
      "0.6708299780314761\n",
      "0.558221107263837\n",
      "0.6195906276795778\n",
      "0.5239717502272568\n",
      "0.5641271599098335\n",
      "0.48403545221072886\n",
      "0.5807504896292974\n",
      "0.6163440866206396\n",
      "0.6359417581676687\n"
     ]
    }
   ],
   "source": [
    "for i in range(0,50):\n",
    "    lxtrain,lxtest,lytrain,lytest=train_test_split(lx,ly,test_size=0.30,random_state=i)\n",
    "    dt.fit(lxtrain,lytrain)\n",
    "    lpred=dt.predict(lxtest)\n",
    "    rscore=r2_score(lytest,lpred)\n",
    "    print(rscore)"
   ]
  },
  {
   "cell_type": "code",
   "execution_count": 76,
   "id": "1bbb41cd",
   "metadata": {},
   "outputs": [],
   "source": [
    "br=BayesianRidge()"
   ]
  },
  {
   "cell_type": "code",
   "execution_count": 77,
   "id": "17b3851b",
   "metadata": {},
   "outputs": [
    {
     "name": "stdout",
     "output_type": "stream",
     "text": [
      "0.12503700701148168\n",
      "0.20795597594835136\n",
      "0.21684841944494881\n",
      "0.17359881360677432\n",
      "0.15893950055631656\n",
      "0.19684672278745896\n",
      "0.2371944160122601\n",
      "0.17692891967225233\n",
      "0.1865869736468323\n",
      "0.1851059529356317\n",
      "0.18439861569681137\n",
      "0.18206675820894602\n",
      "0.16989814224313482\n",
      "0.19696816411726914\n",
      "0.17381986421894036\n",
      "0.22124940033728857\n",
      "0.20030524740230515\n",
      "0.19962104267327807\n",
      "0.2209290032812361\n",
      "0.22693029336222703\n",
      "0.16530850347550363\n",
      "0.17675966961890832\n",
      "0.2249421455058639\n",
      "0.2219558101191873\n",
      "0.19105297446969782\n",
      "0.1588371743072654\n",
      "0.20733673682936826\n",
      "0.20731017413888408\n",
      "0.15226912247592095\n",
      "0.2296508741869311\n",
      "0.228325577904811\n",
      "0.21347150394304593\n",
      "0.1699954160689684\n",
      "0.1949993416644421\n",
      "0.19559688504055683\n",
      "0.17901223387716347\n",
      "0.23089394807808494\n",
      "0.1846593635028183\n",
      "0.21724372416977644\n",
      "0.23347591977351412\n",
      "0.1695490469269153\n",
      "0.21668819891112767\n",
      "0.19787593241164703\n",
      "0.20883177714142642\n",
      "0.1407731942494841\n",
      "0.17177252843355273\n",
      "0.1638998214325783\n",
      "0.17419312779125107\n",
      "0.16787042663844653\n",
      "0.19204169410962257\n"
     ]
    }
   ],
   "source": [
    "for i in range(0,50):\n",
    "    lxtrain,lxtest,lytrain,lytest=train_test_split(lx,ly,test_size=0.30,random_state=i)\n",
    "    br.fit(lxtrain,lytrain)\n",
    "    lpred=br.predict(lxtest)\n",
    "    rscore=r2_score(lytest,lpred)\n",
    "    print(rscore)"
   ]
  },
  {
   "cell_type": "code",
   "execution_count": 78,
   "id": "40067475",
   "metadata": {},
   "outputs": [],
   "source": [
    "gb=GradientBoostingRegressor()"
   ]
  },
  {
   "cell_type": "code",
   "execution_count": 79,
   "id": "156211fc",
   "metadata": {},
   "outputs": [
    {
     "name": "stdout",
     "output_type": "stream",
     "text": [
      "0.6819782904119023\n",
      "0.7060635013440959\n",
      "0.7317215786408972\n",
      "0.6776936606048884\n",
      "0.6691661577980608\n",
      "0.6919917235314819\n",
      "0.7183121227413155\n",
      "0.670703585155205\n",
      "0.6837220110928159\n",
      "0.7181811046692265\n",
      "0.7311180587447923\n",
      "0.7323048396359679\n",
      "0.7134370930216616\n",
      "0.7114193622356568\n",
      "0.6575567513605232\n",
      "0.7064674644539157\n",
      "0.684771833469792\n",
      "0.726522623598505\n",
      "0.704557398086215\n",
      "0.717400577864004\n",
      "0.7168466063785166\n",
      "0.6986862809320264\n",
      "0.72454494897245\n",
      "0.704418746769703\n",
      "0.6912758991334589\n",
      "0.6794659694245897\n",
      "0.7176358817103006\n",
      "0.7249943579369422\n",
      "0.7434937552694545\n",
      "0.723265494164941\n",
      "0.7284547326160777\n",
      "0.7174346986149659\n",
      "0.69741333656533\n",
      "0.7068806627468119\n",
      "0.6733472276644418\n",
      "0.7221837274710661\n",
      "0.7047089229837888\n",
      "0.6568920529580293\n",
      "0.7455950988645472\n",
      "0.7028569204561939\n",
      "0.7182446439298708\n",
      "0.7140130848030746\n",
      "0.693250608384036\n",
      "0.7212893075421904\n",
      "0.6763464808273586\n",
      "0.6615525334342172\n",
      "0.6864045536480913\n",
      "0.7346858843705533\n",
      "0.6861438949026761\n",
      "0.7124354128302366\n"
     ]
    }
   ],
   "source": [
    "for i in range(0,50):\n",
    "    lxtrain,lxtest,lytrain,lytest=train_test_split(lx,ly,test_size=0.30,random_state=i)\n",
    "    gb.fit(lxtrain,lytrain)\n",
    "    lpred=gb.predict(lxtest)\n",
    "    rscore=r2_score(lytest,lpred)\n",
    "    print(rscore)"
   ]
  },
  {
   "cell_type": "code",
   "execution_count": 80,
   "id": "a152eff9",
   "metadata": {},
   "outputs": [],
   "source": [
    "kn=KNeighborsRegressor()"
   ]
  },
  {
   "cell_type": "code",
   "execution_count": 81,
   "id": "bba6d785",
   "metadata": {},
   "outputs": [
    {
     "name": "stdout",
     "output_type": "stream",
     "text": [
      "0.7073311110432773\n",
      "0.7421130512514125\n",
      "0.7227405633390254\n",
      "0.6484694853720063\n",
      "0.6813405868638498\n",
      "0.7403286355863028\n",
      "0.7158338406362468\n",
      "0.689706412578758\n",
      "0.7424372194414707\n",
      "0.7462535683823028\n",
      "0.730516705576244\n",
      "0.7552853331637015\n",
      "0.7198893233374541\n",
      "0.7095849904747051\n",
      "0.7130790864978876\n",
      "0.7168814974853497\n",
      "0.7425745214326418\n",
      "0.7278125130070776\n",
      "0.722680576345118\n",
      "0.7420279727747796\n",
      "0.7105592049502052\n",
      "0.7444267304248251\n",
      "0.7418140394215714\n",
      "0.6896647897828705\n",
      "0.7279299065950157\n",
      "0.7214095228390336\n",
      "0.6907193848081861\n",
      "0.735038115530303\n",
      "0.7401480816044589\n",
      "0.7240931313580365\n",
      "0.7399173608266146\n",
      "0.7013164304611348\n",
      "0.72126211269412\n",
      "0.7263667902529233\n",
      "0.6716719192809558\n",
      "0.7337519964080964\n",
      "0.6870254242755848\n",
      "0.7259771735433154\n",
      "0.7236107570020325\n",
      "0.7093418348236327\n",
      "0.7227956938986564\n",
      "0.7045123941369251\n",
      "0.6915199903859877\n",
      "0.7645291869623313\n",
      "0.6734190522807264\n",
      "0.691929383172107\n",
      "0.7387270951876777\n",
      "0.7513978490394876\n",
      "0.6925829877297143\n",
      "0.7277499679574051\n"
     ]
    }
   ],
   "source": [
    "for i in range(0,50):\n",
    "    lxtrain,lxtest,lytrain,lytest=train_test_split(lx,ly,test_size=0.30,random_state=i)\n",
    "    kn.fit(lxtrain,lytrain)\n",
    "    lpred=kn.predict(lxtest)\n",
    "    rscore=r2_score(lytest,lpred)\n",
    "    print(rscore)"
   ]
  },
  {
   "cell_type": "code",
   "execution_count": 82,
   "id": "82018916",
   "metadata": {},
   "outputs": [],
   "source": [
    "ar=AdaBoostRegressor()"
   ]
  },
  {
   "cell_type": "code",
   "execution_count": 83,
   "id": "f73f90eb",
   "metadata": {},
   "outputs": [
    {
     "name": "stdout",
     "output_type": "stream",
     "text": [
      "0.5303058490027366\n",
      "0.5903582496622573\n",
      "0.5787375552364618\n",
      "0.5089912239160683\n",
      "0.5118002340484079\n",
      "0.547250999337149\n",
      "0.616088757565789\n",
      "0.5404856561616966\n",
      "0.5697205255535276\n",
      "0.5826457039113427\n",
      "0.5601972996046674\n",
      "0.5674707127782297\n",
      "0.5420740266984353\n",
      "0.5631879502389698\n",
      "0.5445531643356243\n",
      "0.5896548722267423\n",
      "0.5442644135420285\n",
      "0.5761277086999794\n",
      "0.5855651356093265\n",
      "0.6297262728225073\n",
      "0.5829518429264215\n",
      "0.5793780497544707\n",
      "0.5613319590567889\n",
      "0.5610215129713993\n",
      "0.5532663782083662\n",
      "0.5179226242164572\n",
      "0.5654132784209757\n",
      "0.5925206695264176\n",
      "0.5798926589644644\n",
      "0.5734098261982108\n",
      "0.5756214192643347\n",
      "0.5295578512126373\n",
      "0.5360917418233988\n",
      "0.5934936707024349\n",
      "0.5286143437869397\n",
      "0.5028614146535664\n",
      "0.5801202897172968\n",
      "0.4834659402241398\n",
      "0.5854256475255656\n",
      "0.5501804086469781\n",
      "0.5636281944898491\n",
      "0.5374505984898135\n",
      "0.5534686650379459\n",
      "0.5772725561268426\n",
      "0.4714714839683962\n",
      "0.5175961918445072\n",
      "0.5745708327922888\n",
      "0.5602793820645335\n",
      "0.5789734887737856\n",
      "0.6101937688042328\n"
     ]
    }
   ],
   "source": [
    "for i in range(0,50):\n",
    "    lxtrain,lxtest,lytrain,lytest=train_test_split(lx,ly,test_size=0.30,random_state=i)\n",
    "    ar.fit(lxtrain,lytrain)\n",
    "    lpred=ar.predict(lxtest)\n",
    "    rscore=r2_score(lytest,lpred)\n",
    "    print(rscore)"
   ]
  },
  {
   "cell_type": "markdown",
   "id": "b2d561b5",
   "metadata": {},
   "source": [
    "By the above outputs we got that (1) Gradient Boosting Regressor Algo with Random State 38 and K Neighbors Regressor with Random State 22 is giving the best r2 scores above 74%. So we are going to use these 2 Alogs for our further process."
   ]
  },
  {
   "cell_type": "markdown",
   "id": "59f50035",
   "metadata": {},
   "source": [
    "We are trying to select best feature to make model"
   ]
  },
  {
   "cell_type": "code",
   "execution_count": 84,
   "id": "1c361ed2",
   "metadata": {},
   "outputs": [],
   "source": [
    "kb=SelectKBest(score_func=f_regression, k=10)"
   ]
  },
  {
   "cell_type": "code",
   "execution_count": 85,
   "id": "cab7c8bf",
   "metadata": {},
   "outputs": [],
   "source": [
    "lx_train=kb.fit_transform(lxtrain,lytrain)"
   ]
  },
  {
   "cell_type": "code",
   "execution_count": 86,
   "id": "83aac342",
   "metadata": {},
   "outputs": [],
   "source": [
    "lx_test=kb.transform(lxtest)"
   ]
  },
  {
   "cell_type": "code",
   "execution_count": 87,
   "id": "59bbbf8c",
   "metadata": {},
   "outputs": [
    {
     "data": {
      "text/plain": [
       "(1061, 10)"
      ]
     },
     "execution_count": 87,
     "metadata": {},
     "output_type": "execute_result"
    }
   ],
   "source": [
    "lx_train.shape"
   ]
  },
  {
   "cell_type": "code",
   "execution_count": 88,
   "id": "c6934064",
   "metadata": {},
   "outputs": [
    {
     "data": {
      "text/plain": [
       "(456, 10)"
      ]
     },
     "execution_count": 88,
     "metadata": {},
     "output_type": "execute_result"
    }
   ],
   "source": [
    "lx_test.shape"
   ]
  },
  {
   "cell_type": "code",
   "execution_count": 89,
   "id": "63cf2abc",
   "metadata": {},
   "outputs": [
    {
     "data": {
      "text/plain": [
       "KNeighborsRegressor()"
      ]
     },
     "execution_count": 89,
     "metadata": {},
     "output_type": "execute_result"
    }
   ],
   "source": [
    "kn.fit(lx_train,lytrain)"
   ]
  },
  {
   "cell_type": "code",
   "execution_count": 90,
   "id": "d3cd573b",
   "metadata": {},
   "outputs": [],
   "source": [
    "skn_pred=kn.predict(lx_test)"
   ]
  },
  {
   "cell_type": "code",
   "execution_count": 91,
   "id": "4a58d06f",
   "metadata": {},
   "outputs": [
    {
     "data": {
      "text/plain": [
       "0.632051109504286"
      ]
     },
     "execution_count": 91,
     "metadata": {},
     "output_type": "execute_result"
    }
   ],
   "source": [
    "r2_score(skn_pred, lytest)"
   ]
  },
  {
   "cell_type": "markdown",
   "id": "a3a9a84e",
   "metadata": {},
   "source": [
    "By using the best 10 Features out of 11 Features, we got only 63% approximate accurate prediction. So we will try something more further."
   ]
  },
  {
   "cell_type": "code",
   "execution_count": 92,
   "id": "76400512",
   "metadata": {},
   "outputs": [],
   "source": [
    "lxtrain,lxtest,lytrain,lytest=train_test_split(lx,ly,test_size=0.30,random_state=38)"
   ]
  },
  {
   "cell_type": "code",
   "execution_count": 93,
   "id": "a008833f",
   "metadata": {},
   "outputs": [
    {
     "data": {
      "text/plain": [
       "GradientBoostingRegressor()"
      ]
     },
     "execution_count": 93,
     "metadata": {},
     "output_type": "execute_result"
    }
   ],
   "source": [
    "gb.fit(lxtrain,lytrain)"
   ]
  },
  {
   "cell_type": "code",
   "execution_count": 94,
   "id": "16600596",
   "metadata": {},
   "outputs": [],
   "source": [
    "lpred=gb.predict(lxtest)"
   ]
  },
  {
   "cell_type": "code",
   "execution_count": 95,
   "id": "35043e00",
   "metadata": {},
   "outputs": [
    {
     "data": {
      "text/plain": [
       "0.7453699923585888"
      ]
     },
     "execution_count": 95,
     "metadata": {},
     "output_type": "execute_result"
    }
   ],
   "source": [
    "r2_score(lytest,lpred)"
   ]
  },
  {
   "cell_type": "code",
   "execution_count": 96,
   "id": "00def7d5",
   "metadata": {},
   "outputs": [
    {
     "data": {
      "text/plain": [
       "7.422949287907117"
      ]
     },
     "execution_count": 96,
     "metadata": {},
     "output_type": "execute_result"
    }
   ],
   "source": [
    "mean_absolute_error(lytest,lpred)"
   ]
  },
  {
   "cell_type": "markdown",
   "id": "bb7cc785",
   "metadata": {},
   "source": [
    "By using Gradient Boosting Regressor with random state 38, we are getting above 74% accurate prediction with 7.41 MAE error. So we may try for the K Neighbors Regressor also with random state 22."
   ]
  },
  {
   "cell_type": "code",
   "execution_count": 97,
   "id": "7dd0b384",
   "metadata": {},
   "outputs": [],
   "source": [
    "lxtrain,lxtest,lytrain,lytest=train_test_split(lx,ly,test_size=0.30,random_state=22)"
   ]
  },
  {
   "cell_type": "code",
   "execution_count": 98,
   "id": "b0a73749",
   "metadata": {},
   "outputs": [
    {
     "data": {
      "text/plain": [
       "KNeighborsRegressor()"
      ]
     },
     "execution_count": 98,
     "metadata": {},
     "output_type": "execute_result"
    }
   ],
   "source": [
    "kn.fit(lxtrain,lytrain)"
   ]
  },
  {
   "cell_type": "code",
   "execution_count": 99,
   "id": "b581fee5",
   "metadata": {},
   "outputs": [],
   "source": [
    "kpred=kn.predict(lxtest)"
   ]
  },
  {
   "cell_type": "code",
   "execution_count": 100,
   "id": "df2e452b",
   "metadata": {},
   "outputs": [
    {
     "data": {
      "text/plain": [
       "0.7418140394215714"
      ]
     },
     "execution_count": 100,
     "metadata": {},
     "output_type": "execute_result"
    }
   ],
   "source": [
    "r2_score(lytest,kpred)"
   ]
  },
  {
   "cell_type": "code",
   "execution_count": 101,
   "id": "e96e02d5",
   "metadata": {},
   "outputs": [
    {
     "data": {
      "text/plain": [
       "6.386403508771929"
      ]
     },
     "execution_count": 101,
     "metadata": {},
     "output_type": "execute_result"
    }
   ],
   "source": [
    "mean_absolute_error(lytest,kpred)"
   ]
  },
  {
   "cell_type": "markdown",
   "id": "1c2fec68",
   "metadata": {},
   "source": [
    "By KNN Regressor also the prediction accuracy is approximately above 74% and the MAE error reduced a little"
   ]
  },
  {
   "cell_type": "code",
   "execution_count": 102,
   "id": "71514699",
   "metadata": {},
   "outputs": [],
   "source": [
    "scl=StandardScaler()"
   ]
  },
  {
   "cell_type": "code",
   "execution_count": 103,
   "id": "e4241259",
   "metadata": {},
   "outputs": [],
   "source": [
    "lxtrain=scl.fit_transform(lxtrain)"
   ]
  },
  {
   "cell_type": "code",
   "execution_count": 104,
   "id": "4ee5e423",
   "metadata": {},
   "outputs": [],
   "source": [
    "lxtest=scl.transform(lxtest)"
   ]
  },
  {
   "cell_type": "code",
   "execution_count": 105,
   "id": "797cfafd",
   "metadata": {},
   "outputs": [],
   "source": [
    "ls=Lasso(alpha=0.5)"
   ]
  },
  {
   "cell_type": "code",
   "execution_count": 106,
   "id": "c33bb507",
   "metadata": {},
   "outputs": [
    {
     "data": {
      "text/plain": [
       "Lasso(alpha=0.5)"
      ]
     },
     "execution_count": 106,
     "metadata": {},
     "output_type": "execute_result"
    }
   ],
   "source": [
    "ls.fit(lxtrain,lytrain)"
   ]
  },
  {
   "cell_type": "code",
   "execution_count": 107,
   "id": "a57dc99d",
   "metadata": {},
   "outputs": [],
   "source": [
    "lspred=ls.predict(lxtest)"
   ]
  },
  {
   "cell_type": "code",
   "execution_count": 108,
   "id": "d1a3db45",
   "metadata": {},
   "outputs": [
    {
     "data": {
      "text/plain": [
       "0.2346003284122723"
      ]
     },
     "execution_count": 108,
     "metadata": {},
     "output_type": "execute_result"
    }
   ],
   "source": [
    "r2_score(lytest,lspred)"
   ]
  },
  {
   "cell_type": "markdown",
   "id": "7ce7871d",
   "metadata": {},
   "source": [
    "By using the L1 Regularization (Lasso), the result is not satisfactory"
   ]
  },
  {
   "cell_type": "markdown",
   "id": "007543f7",
   "metadata": {},
   "source": [
    "As of now, we observed that the Gredient Boosting & KNN Algos are giving better results for our Linear Model than others"
   ]
  },
  {
   "cell_type": "markdown",
   "id": "da8768bf",
   "metadata": {},
   "source": [
    "So we are going to test the Hyperparameter Tuning with these 2 Algos one by one to get the best one to save for our further ML Model."
   ]
  },
  {
   "cell_type": "code",
   "execution_count": 109,
   "id": "e44cbe80",
   "metadata": {},
   "outputs": [],
   "source": [
    "gs1=GridSearchCV(estimator=gb,param_grid={\"n_estimators\":[100,200,300],\"learning_rate\":[0.001,0.01,0.1],\"max_depth\":[2,3,4]},cv=3,n_jobs=-1)"
   ]
  },
  {
   "cell_type": "code",
   "execution_count": 110,
   "id": "e278b8d9",
   "metadata": {},
   "outputs": [
    {
     "data": {
      "text/plain": [
       "GridSearchCV(cv=3, estimator=GradientBoostingRegressor(), n_jobs=-1,\n",
       "             param_grid={'learning_rate': [0.001, 0.01, 0.1],\n",
       "                         'max_depth': [2, 3, 4],\n",
       "                         'n_estimators': [100, 200, 300]})"
      ]
     },
     "execution_count": 110,
     "metadata": {},
     "output_type": "execute_result"
    }
   ],
   "source": [
    "gs1.fit(lxtrain,lytrain)"
   ]
  },
  {
   "cell_type": "code",
   "execution_count": 111,
   "id": "c438ceda",
   "metadata": {},
   "outputs": [
    {
     "data": {
      "text/plain": [
       "0.7903707670309408"
      ]
     },
     "execution_count": 111,
     "metadata": {},
     "output_type": "execute_result"
    }
   ],
   "source": [
    "gs1.score(lxtest,lytest)"
   ]
  },
  {
   "cell_type": "code",
   "execution_count": 112,
   "id": "25a890ec",
   "metadata": {},
   "outputs": [],
   "source": [
    "gs2=GridSearchCV(estimator=kn,param_grid={\"n_neighbors\":[2,4,6,8],'p':[2,3], 'weights':['distance','uniform']},cv=2,n_jobs=-1)"
   ]
  },
  {
   "cell_type": "code",
   "execution_count": 113,
   "id": "198837bc",
   "metadata": {},
   "outputs": [
    {
     "data": {
      "text/plain": [
       "GridSearchCV(cv=2, estimator=KNeighborsRegressor(), n_jobs=-1,\n",
       "             param_grid={'n_neighbors': [2, 4, 6, 8], 'p': [2, 3],\n",
       "                         'weights': ['distance', 'uniform']})"
      ]
     },
     "execution_count": 113,
     "metadata": {},
     "output_type": "execute_result"
    }
   ],
   "source": [
    "gs2.fit(lxtrain,lytrain)"
   ]
  },
  {
   "cell_type": "code",
   "execution_count": 114,
   "id": "2a4e8348",
   "metadata": {},
   "outputs": [
    {
     "data": {
      "text/plain": [
       "0.6751194139561636"
      ]
     },
     "execution_count": 114,
     "metadata": {},
     "output_type": "execute_result"
    }
   ],
   "source": [
    "gs2.score(lxtest,lytest)"
   ]
  },
  {
   "cell_type": "markdown",
   "id": "de23e698",
   "metadata": {},
   "source": [
    "As above, it is showing that the Gradient Boosting Regressor is giving better result of above 79% accurate prediction than KNN Regressor of approximately 67% only. So before saving this model, we are going to check that whether this gb model is giving higher accuracy for the unseen data also, if we are not mentioning any random state."
   ]
  },
  {
   "cell_type": "code",
   "execution_count": 115,
   "id": "34218b73",
   "metadata": {},
   "outputs": [],
   "source": [
    "gbpred=gb.predict(lxtest)"
   ]
  },
  {
   "cell_type": "code",
   "execution_count": 116,
   "id": "778dbb41",
   "metadata": {},
   "outputs": [
    {
     "data": {
      "text/plain": [
       "-0.602042014016035"
      ]
     },
     "execution_count": 116,
     "metadata": {},
     "output_type": "execute_result"
    }
   ],
   "source": [
    "r2_score(lytest,gbpred)"
   ]
  },
  {
   "cell_type": "code",
   "execution_count": 117,
   "id": "7620ba49",
   "metadata": {},
   "outputs": [
    {
     "data": {
      "text/plain": [
       "18.090123738841566"
      ]
     },
     "execution_count": 117,
     "metadata": {},
     "output_type": "execute_result"
    }
   ],
   "source": [
    "mean_absolute_error(lytest,gbpred)"
   ]
  },
  {
   "cell_type": "markdown",
   "id": "0d993eda",
   "metadata": {},
   "source": [
    "The prediction accuracy of gb model is good of 80% and the MAE error is 6.46, so we want to try another Algo the Random Forest Regressor to check, whether we may improve some accuracy and reduce some error."
   ]
  },
  {
   "cell_type": "code",
   "execution_count": 118,
   "id": "f496daed",
   "metadata": {},
   "outputs": [],
   "source": [
    "rf=RandomForestRegressor(n_estimators=100)"
   ]
  },
  {
   "cell_type": "code",
   "execution_count": 119,
   "id": "ef48ef10",
   "metadata": {},
   "outputs": [
    {
     "name": "stdout",
     "output_type": "stream",
     "text": [
      "0.7804496744218566\n",
      "0.8116093566073337\n",
      "0.8297245131698775\n",
      "0.7765310331227986\n",
      "0.7677669496246039\n",
      "0.7883338195796181\n",
      "0.8080442965231027\n",
      "0.7575964784492171\n",
      "0.7942785136444815\n",
      "0.7885654952673169\n",
      "0.7848941823002191\n",
      "0.8200138669315112\n",
      "0.8016975418580908\n",
      "0.80408096219858\n",
      "0.7642406983241063\n",
      "0.8062732948698474\n",
      "0.7933368385956395\n",
      "0.7905966331762372\n",
      "0.8000322468100325\n",
      "0.7992886318626683\n",
      "0.782983127613304\n",
      "0.7983947318112512\n",
      "0.8260275533958011\n",
      "0.8034012106396766\n",
      "0.7960063197797267\n",
      "0.7943201246117835\n",
      "0.7999029349147344\n",
      "0.8099145010653409\n",
      "0.8213043207877653\n",
      "0.7905684572382704\n",
      "0.8174126141491609\n",
      "0.7854145883908228\n",
      "0.7910939572913973\n",
      "0.7995373095195125\n",
      "0.7682795857499096\n",
      "0.8009273914547232\n",
      "0.8135771259798539\n",
      "0.7913696421618258\n",
      "0.8189095357788789\n",
      "0.789312564708105\n",
      "0.7871288936453817\n",
      "0.7987591835833904\n",
      "0.7760879210020033\n",
      "0.8341985683509526\n",
      "0.7890715386802788\n",
      "0.7513714033618311\n",
      "0.7806630350685876\n",
      "0.8272295819666973\n",
      "0.7827116578322724\n",
      "0.8126308797117914\n"
     ]
    }
   ],
   "source": [
    "for i in range(0,50):\n",
    "    lxtrain,lxtest,lytrain,lytest=train_test_split(lx,ly,test_size=0.30,random_state=i)\n",
    "    rf.fit(lxtrain,lytrain)\n",
    "    rfpred=rf.predict(lxtest)\n",
    "    rscore=r2_score(lytest,rfpred)\n",
    "    print(rscore)"
   ]
  },
  {
   "cell_type": "code",
   "execution_count": 120,
   "id": "4fc710da",
   "metadata": {},
   "outputs": [
    {
     "data": {
      "text/plain": [
       "5.883618421052631"
      ]
     },
     "execution_count": 120,
     "metadata": {},
     "output_type": "execute_result"
    }
   ],
   "source": [
    "mean_absolute_error(lytest,rfpred)"
   ]
  },
  {
   "cell_type": "markdown",
   "id": "92768c4f",
   "metadata": {},
   "source": [
    "The accuracies are above 75% for all the random states and the error reduced to 5.85"
   ]
  },
  {
   "cell_type": "code",
   "execution_count": 121,
   "id": "15dda96f",
   "metadata": {},
   "outputs": [],
   "source": [
    "cv=cross_val_score(rf,lx,ly,cv=KFold(n_splits=3))"
   ]
  },
  {
   "cell_type": "code",
   "execution_count": 122,
   "id": "e4da71b5",
   "metadata": {},
   "outputs": [
    {
     "data": {
      "text/plain": [
       "0.14029040942799983"
      ]
     },
     "execution_count": 122,
     "metadata": {},
     "output_type": "execute_result"
    }
   ],
   "source": [
    "cv.mean()"
   ]
  },
  {
   "cell_type": "markdown",
   "id": "653855de",
   "metadata": {},
   "source": [
    "The cross validation is not coming very good"
   ]
  },
  {
   "cell_type": "code",
   "execution_count": 123,
   "id": "67f07467",
   "metadata": {},
   "outputs": [],
   "source": [
    "test=rf.predict(lxtest)"
   ]
  },
  {
   "cell_type": "code",
   "execution_count": 124,
   "id": "9de6958e",
   "metadata": {},
   "outputs": [
    {
     "data": {
      "text/plain": [
       "0.8126308797117914"
      ]
     },
     "execution_count": 124,
     "metadata": {},
     "output_type": "execute_result"
    }
   ],
   "source": [
    "r2_score(lytest,test)"
   ]
  },
  {
   "cell_type": "markdown",
   "id": "c36f8f25",
   "metadata": {},
   "source": [
    "We are getting above 81% prediction accuracy and 5.85 error with Random Forest Algo with the unseen test data"
   ]
  },
  {
   "cell_type": "markdown",
   "id": "fea3aa67",
   "metadata": {},
   "source": [
    "So now we will do some Hyperparameter Tuning on this rf model (i.e. Random Forest Algo)"
   ]
  },
  {
   "cell_type": "code",
   "execution_count": 125,
   "id": "e5beea8f",
   "metadata": {},
   "outputs": [],
   "source": [
    "gs3=GridSearchCV(estimator=rf,param_grid={\"n_estimators\":[100,200],\"max_depth\":[30,40]},cv=3,n_jobs=-1)"
   ]
  },
  {
   "cell_type": "code",
   "execution_count": 126,
   "id": "eb4a4fb5",
   "metadata": {},
   "outputs": [
    {
     "data": {
      "text/plain": [
       "GridSearchCV(cv=3, estimator=RandomForestRegressor(), n_jobs=-1,\n",
       "             param_grid={'max_depth': [30, 40], 'n_estimators': [100, 200]})"
      ]
     },
     "execution_count": 126,
     "metadata": {},
     "output_type": "execute_result"
    }
   ],
   "source": [
    "gs3.fit(lxtrain,lytrain)"
   ]
  },
  {
   "cell_type": "code",
   "execution_count": 127,
   "id": "67696879",
   "metadata": {},
   "outputs": [
    {
     "data": {
      "text/plain": [
       "0.8193866231796152"
      ]
     },
     "execution_count": 127,
     "metadata": {},
     "output_type": "execute_result"
    }
   ],
   "source": [
    "gs3.score(lxtest,lytest)"
   ]
  },
  {
   "cell_type": "markdown",
   "id": "c7bf5768",
   "metadata": {},
   "source": [
    "By using Hyperparameter Tuning also, we are getting a very good prediction accuracy of above 80%. So now we are going to save this rf ML Model"
   ]
  },
  {
   "cell_type": "code",
   "execution_count": 128,
   "id": "765287a7",
   "metadata": {},
   "outputs": [],
   "source": [
    "pickle.dump(rf, open('linear_avocado', 'wb'))"
   ]
  },
  {
   "cell_type": "code",
   "execution_count": 129,
   "id": "27949794",
   "metadata": {},
   "outputs": [],
   "source": [
    "lrf_model=pickle.load(open('linear_avocado', 'rb'))"
   ]
  },
  {
   "cell_type": "code",
   "execution_count": 130,
   "id": "7a26f406",
   "metadata": {},
   "outputs": [],
   "source": [
    "model_lpred=lrf_model.predict(lxtest)"
   ]
  },
  {
   "cell_type": "code",
   "execution_count": 131,
   "id": "ef704f62",
   "metadata": {},
   "outputs": [
    {
     "data": {
      "text/plain": [
       "0.8126308797117914"
      ]
     },
     "execution_count": 131,
     "metadata": {},
     "output_type": "execute_result"
    }
   ],
   "source": [
    "r2_score(lytest, model_lpred)"
   ]
  },
  {
   "cell_type": "markdown",
   "id": "7946b38f",
   "metadata": {},
   "source": [
    "Our above saved rf Machine Learning Model is working very good with above 81% prediction accuracy. So our Linear ML Model making work has been done for the Avocado Dataset."
   ]
  },
  {
   "cell_type": "markdown",
   "id": "0ae3d67a",
   "metadata": {},
   "source": [
    "Now we will make the Classification ML Model of the same Avocado Dataset."
   ]
  },
  {
   "cell_type": "code",
   "execution_count": 132,
   "id": "18b1112e",
   "metadata": {},
   "outputs": [
    {
     "data": {
      "text/html": [
       "<div>\n",
       "<style scoped>\n",
       "    .dataframe tbody tr th:only-of-type {\n",
       "        vertical-align: middle;\n",
       "    }\n",
       "\n",
       "    .dataframe tbody tr th {\n",
       "        vertical-align: top;\n",
       "    }\n",
       "\n",
       "    .dataframe thead th {\n",
       "        text-align: right;\n",
       "    }\n",
       "</style>\n",
       "<table border=\"1\" class=\"dataframe\">\n",
       "  <thead>\n",
       "    <tr style=\"text-align: right;\">\n",
       "      <th></th>\n",
       "      <th>Total Volume</th>\n",
       "      <th>4046</th>\n",
       "      <th>4225</th>\n",
       "      <th>4770</th>\n",
       "      <th>Total Bags</th>\n",
       "      <th>Small Bags</th>\n",
       "      <th>Large Bags</th>\n",
       "      <th>year</th>\n",
       "      <th>Month</th>\n",
       "      <th>Region</th>\n",
       "      <th>AveragePrice</th>\n",
       "    </tr>\n",
       "  </thead>\n",
       "  <tbody>\n",
       "    <tr>\n",
       "      <th>0</th>\n",
       "      <td>71</td>\n",
       "      <td>1181</td>\n",
       "      <td>344</td>\n",
       "      <td>497</td>\n",
       "      <td>1378</td>\n",
       "      <td>1287</td>\n",
       "      <td>511</td>\n",
       "      <td>2015</td>\n",
       "      <td>12</td>\n",
       "      <td>0</td>\n",
       "      <td>81</td>\n",
       "    </tr>\n",
       "    <tr>\n",
       "      <th>1</th>\n",
       "      <td>35</td>\n",
       "      <td>1138</td>\n",
       "      <td>251</td>\n",
       "      <td>521</td>\n",
       "      <td>1395</td>\n",
       "      <td>1309</td>\n",
       "      <td>515</td>\n",
       "      <td>2015</td>\n",
       "      <td>12</td>\n",
       "      <td>0</td>\n",
       "      <td>83</td>\n",
       "    </tr>\n",
       "    <tr>\n",
       "      <th>2</th>\n",
       "      <td>294</td>\n",
       "      <td>1149</td>\n",
       "      <td>580</td>\n",
       "      <td>623</td>\n",
       "      <td>1371</td>\n",
       "      <td>1280</td>\n",
       "      <td>519</td>\n",
       "      <td>2015</td>\n",
       "      <td>12</td>\n",
       "      <td>0</td>\n",
       "      <td>41</td>\n",
       "    </tr>\n",
       "    <tr>\n",
       "      <th>3</th>\n",
       "      <td>152</td>\n",
       "      <td>1188</td>\n",
       "      <td>463</td>\n",
       "      <td>541</td>\n",
       "      <td>1345</td>\n",
       "      <td>1248</td>\n",
       "      <td>540</td>\n",
       "      <td>2015</td>\n",
       "      <td>6</td>\n",
       "      <td>0</td>\n",
       "      <td>56</td>\n",
       "    </tr>\n",
       "    <tr>\n",
       "      <th>4</th>\n",
       "      <td>27</td>\n",
       "      <td>1168</td>\n",
       "      <td>244</td>\n",
       "      <td>544</td>\n",
       "      <td>1349</td>\n",
       "      <td>1251</td>\n",
       "      <td>576</td>\n",
       "      <td>2015</td>\n",
       "      <td>11</td>\n",
       "      <td>0</td>\n",
       "      <td>76</td>\n",
       "    </tr>\n",
       "    <tr>\n",
       "      <th>...</th>\n",
       "      <td>...</td>\n",
       "      <td>...</td>\n",
       "      <td>...</td>\n",
       "      <td>...</td>\n",
       "      <td>...</td>\n",
       "      <td>...</td>\n",
       "      <td>...</td>\n",
       "      <td>...</td>\n",
       "      <td>...</td>\n",
       "      <td>...</td>\n",
       "      <td>...</td>\n",
       "    </tr>\n",
       "    <tr>\n",
       "      <th>1512</th>\n",
       "      <td>501</td>\n",
       "      <td>236</td>\n",
       "      <td>359</td>\n",
       "      <td>1450</td>\n",
       "      <td>422</td>\n",
       "      <td>355</td>\n",
       "      <td>1202</td>\n",
       "      <td>2016</td>\n",
       "      <td>10</td>\n",
       "      <td>7</td>\n",
       "      <td>87</td>\n",
       "    </tr>\n",
       "    <tr>\n",
       "      <th>1513</th>\n",
       "      <td>468</td>\n",
       "      <td>137</td>\n",
       "      <td>323</td>\n",
       "      <td>1485</td>\n",
       "      <td>464</td>\n",
       "      <td>417</td>\n",
       "      <td>1159</td>\n",
       "      <td>2016</td>\n",
       "      <td>9</td>\n",
       "      <td>7</td>\n",
       "      <td>99</td>\n",
       "    </tr>\n",
       "    <tr>\n",
       "      <th>1514</th>\n",
       "      <td>469</td>\n",
       "      <td>170</td>\n",
       "      <td>331</td>\n",
       "      <td>1436</td>\n",
       "      <td>457</td>\n",
       "      <td>406</td>\n",
       "      <td>1149</td>\n",
       "      <td>2016</td>\n",
       "      <td>2</td>\n",
       "      <td>7</td>\n",
       "      <td>96</td>\n",
       "    </tr>\n",
       "    <tr>\n",
       "      <th>1515</th>\n",
       "      <td>495</td>\n",
       "      <td>214</td>\n",
       "      <td>333</td>\n",
       "      <td>1448</td>\n",
       "      <td>475</td>\n",
       "      <td>425</td>\n",
       "      <td>1150</td>\n",
       "      <td>2016</td>\n",
       "      <td>9</td>\n",
       "      <td>7</td>\n",
       "      <td>95</td>\n",
       "    </tr>\n",
       "    <tr>\n",
       "      <th>1516</th>\n",
       "      <td>485</td>\n",
       "      <td>134</td>\n",
       "      <td>340</td>\n",
       "      <td>1428</td>\n",
       "      <td>530</td>\n",
       "      <td>438</td>\n",
       "      <td>1232</td>\n",
       "      <td>2016</td>\n",
       "      <td>9</td>\n",
       "      <td>7</td>\n",
       "      <td>91</td>\n",
       "    </tr>\n",
       "  </tbody>\n",
       "</table>\n",
       "<p>1517 rows × 11 columns</p>\n",
       "</div>"
      ],
      "text/plain": [
       "      Total Volume  4046  4225  4770  Total Bags  Small Bags  Large Bags  \\\n",
       "0               71  1181   344   497        1378        1287         511   \n",
       "1               35  1138   251   521        1395        1309         515   \n",
       "2              294  1149   580   623        1371        1280         519   \n",
       "3              152  1188   463   541        1345        1248         540   \n",
       "4               27  1168   244   544        1349        1251         576   \n",
       "...            ...   ...   ...   ...         ...         ...         ...   \n",
       "1512           501   236   359  1450         422         355        1202   \n",
       "1513           468   137   323  1485         464         417        1159   \n",
       "1514           469   170   331  1436         457         406        1149   \n",
       "1515           495   214   333  1448         475         425        1150   \n",
       "1516           485   134   340  1428         530         438        1232   \n",
       "\n",
       "      year  Month  Region  AveragePrice  \n",
       "0     2015     12       0            81  \n",
       "1     2015     12       0            83  \n",
       "2     2015     12       0            41  \n",
       "3     2015      6       0            56  \n",
       "4     2015     11       0            76  \n",
       "...    ...    ...     ...           ...  \n",
       "1512  2016     10       7            87  \n",
       "1513  2016      9       7            99  \n",
       "1514  2016      2       7            96  \n",
       "1515  2016      9       7            95  \n",
       "1516  2016      9       7            91  \n",
       "\n",
       "[1517 rows x 11 columns]"
      ]
     },
     "execution_count": 132,
     "metadata": {},
     "output_type": "execute_result"
    }
   ],
   "source": [
    "cdf"
   ]
  },
  {
   "cell_type": "markdown",
   "id": "9d7fdc81",
   "metadata": {},
   "source": [
    "As we have to predict the \"Rigion\", we are shifting this feature to the last column"
   ]
  },
  {
   "cell_type": "code",
   "execution_count": 133,
   "id": "d94c721f",
   "metadata": {},
   "outputs": [],
   "source": [
    "target2=cdf.pop('Region')"
   ]
  },
  {
   "cell_type": "code",
   "execution_count": 134,
   "id": "2339a5eb",
   "metadata": {},
   "outputs": [],
   "source": [
    "cdf.insert(10, 'Region', target2)"
   ]
  },
  {
   "cell_type": "code",
   "execution_count": 135,
   "id": "07784047",
   "metadata": {},
   "outputs": [
    {
     "data": {
      "text/html": [
       "<div>\n",
       "<style scoped>\n",
       "    .dataframe tbody tr th:only-of-type {\n",
       "        vertical-align: middle;\n",
       "    }\n",
       "\n",
       "    .dataframe tbody tr th {\n",
       "        vertical-align: top;\n",
       "    }\n",
       "\n",
       "    .dataframe thead th {\n",
       "        text-align: right;\n",
       "    }\n",
       "</style>\n",
       "<table border=\"1\" class=\"dataframe\">\n",
       "  <thead>\n",
       "    <tr style=\"text-align: right;\">\n",
       "      <th></th>\n",
       "      <th>Total Volume</th>\n",
       "      <th>4046</th>\n",
       "      <th>4225</th>\n",
       "      <th>4770</th>\n",
       "      <th>Total Bags</th>\n",
       "      <th>Small Bags</th>\n",
       "      <th>Large Bags</th>\n",
       "      <th>year</th>\n",
       "      <th>Month</th>\n",
       "      <th>AveragePrice</th>\n",
       "      <th>Region</th>\n",
       "    </tr>\n",
       "  </thead>\n",
       "  <tbody>\n",
       "    <tr>\n",
       "      <th>0</th>\n",
       "      <td>71</td>\n",
       "      <td>1181</td>\n",
       "      <td>344</td>\n",
       "      <td>497</td>\n",
       "      <td>1378</td>\n",
       "      <td>1287</td>\n",
       "      <td>511</td>\n",
       "      <td>2015</td>\n",
       "      <td>12</td>\n",
       "      <td>81</td>\n",
       "      <td>0</td>\n",
       "    </tr>\n",
       "    <tr>\n",
       "      <th>1</th>\n",
       "      <td>35</td>\n",
       "      <td>1138</td>\n",
       "      <td>251</td>\n",
       "      <td>521</td>\n",
       "      <td>1395</td>\n",
       "      <td>1309</td>\n",
       "      <td>515</td>\n",
       "      <td>2015</td>\n",
       "      <td>12</td>\n",
       "      <td>83</td>\n",
       "      <td>0</td>\n",
       "    </tr>\n",
       "    <tr>\n",
       "      <th>2</th>\n",
       "      <td>294</td>\n",
       "      <td>1149</td>\n",
       "      <td>580</td>\n",
       "      <td>623</td>\n",
       "      <td>1371</td>\n",
       "      <td>1280</td>\n",
       "      <td>519</td>\n",
       "      <td>2015</td>\n",
       "      <td>12</td>\n",
       "      <td>41</td>\n",
       "      <td>0</td>\n",
       "    </tr>\n",
       "    <tr>\n",
       "      <th>3</th>\n",
       "      <td>152</td>\n",
       "      <td>1188</td>\n",
       "      <td>463</td>\n",
       "      <td>541</td>\n",
       "      <td>1345</td>\n",
       "      <td>1248</td>\n",
       "      <td>540</td>\n",
       "      <td>2015</td>\n",
       "      <td>6</td>\n",
       "      <td>56</td>\n",
       "      <td>0</td>\n",
       "    </tr>\n",
       "    <tr>\n",
       "      <th>4</th>\n",
       "      <td>27</td>\n",
       "      <td>1168</td>\n",
       "      <td>244</td>\n",
       "      <td>544</td>\n",
       "      <td>1349</td>\n",
       "      <td>1251</td>\n",
       "      <td>576</td>\n",
       "      <td>2015</td>\n",
       "      <td>11</td>\n",
       "      <td>76</td>\n",
       "      <td>0</td>\n",
       "    </tr>\n",
       "    <tr>\n",
       "      <th>...</th>\n",
       "      <td>...</td>\n",
       "      <td>...</td>\n",
       "      <td>...</td>\n",
       "      <td>...</td>\n",
       "      <td>...</td>\n",
       "      <td>...</td>\n",
       "      <td>...</td>\n",
       "      <td>...</td>\n",
       "      <td>...</td>\n",
       "      <td>...</td>\n",
       "      <td>...</td>\n",
       "    </tr>\n",
       "    <tr>\n",
       "      <th>1512</th>\n",
       "      <td>501</td>\n",
       "      <td>236</td>\n",
       "      <td>359</td>\n",
       "      <td>1450</td>\n",
       "      <td>422</td>\n",
       "      <td>355</td>\n",
       "      <td>1202</td>\n",
       "      <td>2016</td>\n",
       "      <td>10</td>\n",
       "      <td>87</td>\n",
       "      <td>7</td>\n",
       "    </tr>\n",
       "    <tr>\n",
       "      <th>1513</th>\n",
       "      <td>468</td>\n",
       "      <td>137</td>\n",
       "      <td>323</td>\n",
       "      <td>1485</td>\n",
       "      <td>464</td>\n",
       "      <td>417</td>\n",
       "      <td>1159</td>\n",
       "      <td>2016</td>\n",
       "      <td>9</td>\n",
       "      <td>99</td>\n",
       "      <td>7</td>\n",
       "    </tr>\n",
       "    <tr>\n",
       "      <th>1514</th>\n",
       "      <td>469</td>\n",
       "      <td>170</td>\n",
       "      <td>331</td>\n",
       "      <td>1436</td>\n",
       "      <td>457</td>\n",
       "      <td>406</td>\n",
       "      <td>1149</td>\n",
       "      <td>2016</td>\n",
       "      <td>2</td>\n",
       "      <td>96</td>\n",
       "      <td>7</td>\n",
       "    </tr>\n",
       "    <tr>\n",
       "      <th>1515</th>\n",
       "      <td>495</td>\n",
       "      <td>214</td>\n",
       "      <td>333</td>\n",
       "      <td>1448</td>\n",
       "      <td>475</td>\n",
       "      <td>425</td>\n",
       "      <td>1150</td>\n",
       "      <td>2016</td>\n",
       "      <td>9</td>\n",
       "      <td>95</td>\n",
       "      <td>7</td>\n",
       "    </tr>\n",
       "    <tr>\n",
       "      <th>1516</th>\n",
       "      <td>485</td>\n",
       "      <td>134</td>\n",
       "      <td>340</td>\n",
       "      <td>1428</td>\n",
       "      <td>530</td>\n",
       "      <td>438</td>\n",
       "      <td>1232</td>\n",
       "      <td>2016</td>\n",
       "      <td>9</td>\n",
       "      <td>91</td>\n",
       "      <td>7</td>\n",
       "    </tr>\n",
       "  </tbody>\n",
       "</table>\n",
       "<p>1517 rows × 11 columns</p>\n",
       "</div>"
      ],
      "text/plain": [
       "      Total Volume  4046  4225  4770  Total Bags  Small Bags  Large Bags  \\\n",
       "0               71  1181   344   497        1378        1287         511   \n",
       "1               35  1138   251   521        1395        1309         515   \n",
       "2              294  1149   580   623        1371        1280         519   \n",
       "3              152  1188   463   541        1345        1248         540   \n",
       "4               27  1168   244   544        1349        1251         576   \n",
       "...            ...   ...   ...   ...         ...         ...         ...   \n",
       "1512           501   236   359  1450         422         355        1202   \n",
       "1513           468   137   323  1485         464         417        1159   \n",
       "1514           469   170   331  1436         457         406        1149   \n",
       "1515           495   214   333  1448         475         425        1150   \n",
       "1516           485   134   340  1428         530         438        1232   \n",
       "\n",
       "      year  Month  AveragePrice  Region  \n",
       "0     2015     12            81       0  \n",
       "1     2015     12            83       0  \n",
       "2     2015     12            41       0  \n",
       "3     2015      6            56       0  \n",
       "4     2015     11            76       0  \n",
       "...    ...    ...           ...     ...  \n",
       "1512  2016     10            87       7  \n",
       "1513  2016      9            99       7  \n",
       "1514  2016      2            96       7  \n",
       "1515  2016      9            95       7  \n",
       "1516  2016      9            91       7  \n",
       "\n",
       "[1517 rows x 11 columns]"
      ]
     },
     "execution_count": 135,
     "metadata": {},
     "output_type": "execute_result"
    }
   ],
   "source": [
    "cdf"
   ]
  },
  {
   "cell_type": "markdown",
   "id": "3dfa4576",
   "metadata": {},
   "source": [
    "As the Data Preprocessing and Feature Engineering works have already been done of this dataset earlier. We are moving towards Training & Testing of our Classificaton Model with various classification algorithms."
   ]
  },
  {
   "cell_type": "code",
   "execution_count": 136,
   "id": "d4c5ed0d",
   "metadata": {},
   "outputs": [],
   "source": [
    "cx=cdf.iloc[:,0:-1]"
   ]
  },
  {
   "cell_type": "code",
   "execution_count": 137,
   "id": "603028c5",
   "metadata": {},
   "outputs": [],
   "source": [
    "cy=cdf.iloc[:,-1]"
   ]
  },
  {
   "cell_type": "code",
   "execution_count": 138,
   "id": "96aae288",
   "metadata": {},
   "outputs": [
    {
     "data": {
      "text/plain": [
       "(1517, 10)"
      ]
     },
     "execution_count": 138,
     "metadata": {},
     "output_type": "execute_result"
    }
   ],
   "source": [
    "cx.shape"
   ]
  },
  {
   "cell_type": "code",
   "execution_count": 139,
   "id": "434a8227",
   "metadata": {},
   "outputs": [
    {
     "data": {
      "text/plain": [
       "(1517,)"
      ]
     },
     "execution_count": 139,
     "metadata": {},
     "output_type": "execute_result"
    }
   ],
   "source": [
    "cy.shape"
   ]
  },
  {
   "cell_type": "code",
   "execution_count": 140,
   "id": "dfbf6894",
   "metadata": {},
   "outputs": [],
   "source": [
    "lg=LogisticRegression()"
   ]
  },
  {
   "cell_type": "code",
   "execution_count": 141,
   "id": "dc6236c4",
   "metadata": {},
   "outputs": [
    {
     "name": "stdout",
     "output_type": "stream",
     "text": [
      "0.7631578947368421\n",
      "0.7894736842105263\n",
      "0.7587719298245614\n",
      "0.7741228070175439\n",
      "0.7828947368421053\n",
      "0.7872807017543859\n",
      "0.7631578947368421\n",
      "0.7697368421052632\n",
      "0.7697368421052632\n",
      "0.7850877192982456\n",
      "0.7960526315789473\n",
      "0.7807017543859649\n",
      "0.7697368421052632\n",
      "0.7982456140350878\n",
      "0.7521929824561403\n",
      "0.8157894736842105\n",
      "0.8026315789473685\n",
      "0.8223684210526315\n",
      "0.7741228070175439\n",
      "0.7763157894736842\n",
      "0.7982456140350878\n",
      "0.8179824561403509\n",
      "0.8070175438596491\n",
      "0.8135964912280702\n",
      "0.7982456140350878\n",
      "0.7675438596491229\n",
      "0.7916666666666666\n",
      "0.7631578947368421\n",
      "0.8092105263157895\n",
      "0.7960526315789473\n",
      "0.7653508771929824\n",
      "0.8004385964912281\n",
      "0.7741228070175439\n",
      "0.7631578947368421\n",
      "0.793859649122807\n",
      "0.7697368421052632\n",
      "0.75\n",
      "0.7741228070175439\n",
      "0.7741228070175439\n",
      "0.793859649122807\n",
      "0.7719298245614035\n",
      "0.7828947368421053\n",
      "0.756578947368421\n",
      "0.8114035087719298\n",
      "0.7609649122807017\n",
      "0.8179824561403509\n",
      "0.7324561403508771\n",
      "0.8421052631578947\n",
      "0.7587719298245614\n",
      "0.7872807017543859\n"
     ]
    }
   ],
   "source": [
    "for i in range(0,50):\n",
    "    cxtrain,cxtest,cytrain,cytest=train_test_split(cx,cy,test_size=0.30,random_state=i)\n",
    "    lg.fit(cxtrain,cytrain)\n",
    "    pred=lg.predict(cxtest)\n",
    "    ascore=accuracy_score(cytest,pred)\n",
    "    print(ascore)"
   ]
  },
  {
   "cell_type": "code",
   "execution_count": 142,
   "id": "a0438846",
   "metadata": {},
   "outputs": [
    {
     "data": {
      "text/plain": [
       "0.7649976714107147"
      ]
     },
     "execution_count": 142,
     "metadata": {},
     "output_type": "execute_result"
    }
   ],
   "source": [
    "balanced_accuracy_score(cytest,pred)"
   ]
  },
  {
   "cell_type": "markdown",
   "id": "ca03eddc",
   "metadata": {},
   "source": [
    "We are getting the very good prediction accuracies above 75% with Logistic Regression by using all the random states from 0 to 50 as above. But via Random State 47, we found above 84% accurate prediction, so we are using that random state separately also as following"
   ]
  },
  {
   "cell_type": "code",
   "execution_count": 143,
   "id": "c394fa57",
   "metadata": {},
   "outputs": [],
   "source": [
    "cxtrain,cxtest,cytrain,cytest=train_test_split(cx,cy,test_size=0.30,random_state=47)"
   ]
  },
  {
   "cell_type": "code",
   "execution_count": 144,
   "id": "8b048b65",
   "metadata": {},
   "outputs": [
    {
     "data": {
      "text/plain": [
       "LogisticRegression()"
      ]
     },
     "execution_count": 144,
     "metadata": {},
     "output_type": "execute_result"
    }
   ],
   "source": [
    "lg.fit(cxtrain,cytrain)"
   ]
  },
  {
   "cell_type": "code",
   "execution_count": 145,
   "id": "a7f2436e",
   "metadata": {},
   "outputs": [],
   "source": [
    "lgpred=lg.predict(cxtest)"
   ]
  },
  {
   "cell_type": "code",
   "execution_count": 146,
   "id": "bea0f0e6",
   "metadata": {},
   "outputs": [
    {
     "data": {
      "text/plain": [
       "0.8421052631578947"
      ]
     },
     "execution_count": 146,
     "metadata": {},
     "output_type": "execute_result"
    }
   ],
   "source": [
    "accuracy_score(cytest,lgpred)"
   ]
  },
  {
   "cell_type": "code",
   "execution_count": 147,
   "id": "b6b166d2",
   "metadata": {},
   "outputs": [
    {
     "data": {
      "text/plain": [
       "array([[20,  0,  0, ...,  0,  0,  0],\n",
       "       [ 0, 11,  0, ...,  0,  0,  0],\n",
       "       [ 0,  0, 25, ...,  0,  0,  0],\n",
       "       ...,\n",
       "       [ 0,  0,  0, ...,  9,  0,  0],\n",
       "       [ 0,  0,  0, ...,  0,  1,  0],\n",
       "       [ 0,  0,  0, ...,  0,  0,  6]], dtype=int64)"
      ]
     },
     "execution_count": 147,
     "metadata": {},
     "output_type": "execute_result"
    }
   ],
   "source": [
    "confusion_matrix(cytest,lgpred)"
   ]
  },
  {
   "cell_type": "markdown",
   "id": "4f8fea28",
   "metadata": {},
   "source": [
    "We are getting very good accuracy with lower confusions by using matrix. Now going to check different cross validations also for our classification model"
   ]
  },
  {
   "cell_type": "code",
   "execution_count": 148,
   "id": "4eaf2e21",
   "metadata": {},
   "outputs": [],
   "source": [
    "cv1=cross_val_score(lg,cx,cy,cv=KFold(n_splits=10))"
   ]
  },
  {
   "cell_type": "code",
   "execution_count": 149,
   "id": "f5509988",
   "metadata": {},
   "outputs": [
    {
     "data": {
      "text/plain": [
       "0.11469153014987801"
      ]
     },
     "execution_count": 149,
     "metadata": {},
     "output_type": "execute_result"
    }
   ],
   "source": [
    "cv1.mean()"
   ]
  },
  {
   "cell_type": "code",
   "execution_count": 150,
   "id": "79f7cae3",
   "metadata": {},
   "outputs": [],
   "source": [
    "cv2=cross_val_score(lg,cx,cy,cv=StratifiedKFold(n_splits=10))"
   ]
  },
  {
   "cell_type": "code",
   "execution_count": 151,
   "id": "41ef9852",
   "metadata": {},
   "outputs": [
    {
     "data": {
      "text/plain": [
       "0.756700941094458"
      ]
     },
     "execution_count": 151,
     "metadata": {},
     "output_type": "execute_result"
    }
   ],
   "source": [
    "cv2.mean()"
   ]
  },
  {
   "cell_type": "code",
   "execution_count": 152,
   "id": "3e8fc35e",
   "metadata": {},
   "outputs": [],
   "source": [
    "cv3=cross_val_score(lg,cx,cy,cv=ShuffleSplit(train_size=0.5,test_size=0.5,n_splits=5))"
   ]
  },
  {
   "cell_type": "code",
   "execution_count": 153,
   "id": "4cae7058",
   "metadata": {},
   "outputs": [
    {
     "data": {
      "text/plain": [
       "0.7725955204216074"
      ]
     },
     "execution_count": 153,
     "metadata": {},
     "output_type": "execute_result"
    }
   ],
   "source": [
    "cv3.mean()"
   ]
  },
  {
   "cell_type": "markdown",
   "id": "7457d3c6",
   "metadata": {},
   "source": [
    "We are getting a good cv result via Startified KFold because of the classification type Target and it ensures for each Fold have same proportion of each class. Also the Shuffle Split cross validation is also giving good results via its manual training, testing sizes along with number of iterations."
   ]
  },
  {
   "cell_type": "code",
   "execution_count": 154,
   "id": "8e038376",
   "metadata": {},
   "outputs": [],
   "source": [
    "gs4=GridSearchCV(estimator=lg,param_grid={'penalty':['l1','l2'],'C':[0.001,0.01,0.1]},scoring='accuracy',cv=10,refit=True,return_train_score=True)"
   ]
  },
  {
   "cell_type": "code",
   "execution_count": 155,
   "id": "53c47f38",
   "metadata": {},
   "outputs": [
    {
     "data": {
      "text/plain": [
       "GridSearchCV(cv=10, estimator=LogisticRegression(),\n",
       "             param_grid={'C': [0.001, 0.01, 0.1], 'penalty': ['l1', 'l2']},\n",
       "             return_train_score=True, scoring='accuracy')"
      ]
     },
     "execution_count": 155,
     "metadata": {},
     "output_type": "execute_result"
    }
   ],
   "source": [
    "gs4.fit(cxtrain,cytrain)"
   ]
  },
  {
   "cell_type": "code",
   "execution_count": 156,
   "id": "05114b64",
   "metadata": {},
   "outputs": [],
   "source": [
    "gs4pred=gs4.predict(cxtest)"
   ]
  },
  {
   "cell_type": "code",
   "execution_count": 157,
   "id": "4ea72ef2",
   "metadata": {},
   "outputs": [
    {
     "data": {
      "text/plain": [
       "0.8377192982456141"
      ]
     },
     "execution_count": 157,
     "metadata": {},
     "output_type": "execute_result"
    }
   ],
   "source": [
    "accuracy_score(cytest,gs4pred)"
   ]
  },
  {
   "cell_type": "markdown",
   "id": "5edc243e",
   "metadata": {},
   "source": [
    "By using the Hyperparameter Tuning with both L1 & L2 Regularization Penalties, also we are getting a very good prediction accuracy of above 83% with lower confusions matrix."
   ]
  },
  {
   "cell_type": "code",
   "execution_count": 158,
   "id": "73bd5134",
   "metadata": {},
   "outputs": [
    {
     "data": {
      "text/plain": [
       "array([[19,  0,  0, ...,  0,  0,  0],\n",
       "       [ 0, 11,  0, ...,  0,  0,  0],\n",
       "       [ 0,  0, 25, ...,  0,  0,  0],\n",
       "       ...,\n",
       "       [ 0,  0,  0, ...,  9,  0,  0],\n",
       "       [ 0,  0,  0, ...,  0,  1,  0],\n",
       "       [ 0,  0,  0, ...,  0,  0,  6]], dtype=int64)"
      ]
     },
     "execution_count": 158,
     "metadata": {},
     "output_type": "execute_result"
    }
   ],
   "source": [
    "confusion_matrix(cytest,gs4pred)"
   ]
  },
  {
   "cell_type": "markdown",
   "id": "8f5ae5fd",
   "metadata": {},
   "source": [
    "So we are going to save our Classification Model also"
   ]
  },
  {
   "cell_type": "code",
   "execution_count": 159,
   "id": "0465afe4",
   "metadata": {},
   "outputs": [],
   "source": [
    "pickle.dump(lg, open('classification_avocado', 'wb'))"
   ]
  },
  {
   "cell_type": "code",
   "execution_count": 160,
   "id": "7b2ff6d0",
   "metadata": {},
   "outputs": [],
   "source": [
    "lg_model=pickle.load(open('classification_avocado', 'rb'))"
   ]
  },
  {
   "cell_type": "code",
   "execution_count": 161,
   "id": "d0b525ce",
   "metadata": {},
   "outputs": [],
   "source": [
    "model_cpred=lg_model.predict(cxtest)"
   ]
  },
  {
   "cell_type": "code",
   "execution_count": 162,
   "id": "1341bcc1",
   "metadata": {},
   "outputs": [
    {
     "data": {
      "text/plain": [
       "0.8421052631578947"
      ]
     },
     "execution_count": 162,
     "metadata": {},
     "output_type": "execute_result"
    }
   ],
   "source": [
    "accuracy_score(cytest,model_cpred)"
   ]
  },
  {
   "cell_type": "markdown",
   "id": "71e50bcd",
   "metadata": {},
   "source": [
    "Our saved Classification ML model is giving very good result above 84% accuracy to predict the target variable \"Region\" of the unseen testing data of our Avocado dataset."
   ]
  }
 ],
 "metadata": {
  "kernelspec": {
   "display_name": "Python 3 (ipykernel)",
   "language": "python",
   "name": "python3"
  },
  "language_info": {
   "codemirror_mode": {
    "name": "ipython",
    "version": 3
   },
   "file_extension": ".py",
   "mimetype": "text/x-python",
   "name": "python",
   "nbconvert_exporter": "python",
   "pygments_lexer": "ipython3",
   "version": "3.9.13"
  }
 },
 "nbformat": 4,
 "nbformat_minor": 5
}
